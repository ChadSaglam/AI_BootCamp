{
 "cells": [
  {
   "cell_type": "markdown",
   "id": "542fb263-064b-4262-81e7-c1f4fab16689",
   "metadata": {},
   "source": [
    "### This is a  Regression & Classification project\n",
    "\n",
    "A DATA SCIENCE APPROACH TO PROFILING ONLINE DATERS ACCORDING TO AGE & GENERATION\n",
    "1. Can your dating profile predict your age?\n",
    "2. Can your dating profile predict the generation you belong to? (Millennial, Gen X-er, or Boomers)\n",
    "\n",
    "Using a dataset of almost 60,000 anonymized entries from the dating platform OKCupid, You will explore the above questions using supervised machine learning techniques. You will examine different aspects or features of user profiles and see which ones you will integrate into your models to achieve the most satisfactory scores. You will use regression techniques to tackle the first question and classification models to address the second.\n",
    "\n",
    "By exploring the “last_online” feature’s min and max, the OKCupid dataset could be inferred to be dated around 2011 or 2012. At the time, a “Millennial” would be aged from 18 to 32, a “Gen X-er” 33 to 47, and “Boomers” from 48 to 70 years old."
   ]
  },
  {
   "cell_type": "code",
   "execution_count": 1,
   "id": "d6a8a2f7",
   "metadata": {},
   "outputs": [],
   "source": [
    "import pandas as pd\n",
    "import numpy as np\n",
    "import matplotlib.pyplot as plt\n",
    "import seaborn as sns\n",
    "import warnings\n",
    "from datetime import datetime\n",
    "\n",
    "from sklearn.model_selection import train_test_split\n",
    "\n",
    "warnings.filterwarnings(\"ignore\")\n",
    "pd.set_option(\"display.max_columns\",100)\n",
    "pd.set_option('display.max_rows', None)"
   ]
  },
  {
   "cell_type": "code",
   "execution_count": 2,
   "id": "ba339280",
   "metadata": {},
   "outputs": [],
   "source": [
    "df=pd.read_csv(\"profiles.csv\")"
   ]
  },
  {
   "cell_type": "markdown",
   "id": "d0f746fe",
   "metadata": {
    "jp-MarkdownHeadingCollapsed": true
   },
   "source": [
    "### EDA"
   ]
  },
  {
   "cell_type": "code",
   "execution_count": 3,
   "id": "03ce18ba",
   "metadata": {},
   "outputs": [
    {
     "data": {
      "text/html": [
       "<div>\n",
       "<style scoped>\n",
       "    .dataframe tbody tr th:only-of-type {\n",
       "        vertical-align: middle;\n",
       "    }\n",
       "\n",
       "    .dataframe tbody tr th {\n",
       "        vertical-align: top;\n",
       "    }\n",
       "\n",
       "    .dataframe thead th {\n",
       "        text-align: right;\n",
       "    }\n",
       "</style>\n",
       "<table border=\"1\" class=\"dataframe\">\n",
       "  <thead>\n",
       "    <tr style=\"text-align: right;\">\n",
       "      <th></th>\n",
       "      <th>age</th>\n",
       "      <th>body_type</th>\n",
       "      <th>diet</th>\n",
       "      <th>drinks</th>\n",
       "      <th>drugs</th>\n",
       "      <th>education</th>\n",
       "      <th>essay0</th>\n",
       "      <th>essay1</th>\n",
       "      <th>essay2</th>\n",
       "      <th>essay3</th>\n",
       "      <th>essay4</th>\n",
       "      <th>essay5</th>\n",
       "      <th>essay6</th>\n",
       "      <th>essay7</th>\n",
       "      <th>essay8</th>\n",
       "      <th>essay9</th>\n",
       "      <th>ethnicity</th>\n",
       "      <th>height</th>\n",
       "      <th>income</th>\n",
       "      <th>job</th>\n",
       "      <th>last_online</th>\n",
       "      <th>location</th>\n",
       "      <th>offspring</th>\n",
       "      <th>orientation</th>\n",
       "      <th>pets</th>\n",
       "      <th>religion</th>\n",
       "      <th>sex</th>\n",
       "      <th>sign</th>\n",
       "      <th>smokes</th>\n",
       "      <th>speaks</th>\n",
       "      <th>status</th>\n",
       "    </tr>\n",
       "  </thead>\n",
       "  <tbody>\n",
       "    <tr>\n",
       "      <th>44882</th>\n",
       "      <td>NaN</td>\n",
       "      <td>NaN</td>\n",
       "      <td>NaN</td>\n",
       "      <td>NaN</td>\n",
       "      <td>NaN</td>\n",
       "      <td>NaN</td>\n",
       "      <td>NaN</td>\n",
       "      <td>NaN</td>\n",
       "      <td>NaN</td>\n",
       "      <td>NaN</td>\n",
       "      <td>NaN</td>\n",
       "      <td>NaN</td>\n",
       "      <td>NaN</td>\n",
       "      <td>NaN</td>\n",
       "      <td>NaN</td>\n",
       "      <td>NaN</td>\n",
       "      <td>NaN</td>\n",
       "      <td>NaN</td>\n",
       "      <td>NaN</td>\n",
       "      <td>NaN</td>\n",
       "      <td>NaN</td>\n",
       "      <td>NaN</td>\n",
       "      <td>NaN</td>\n",
       "      <td>NaN</td>\n",
       "      <td>NaN</td>\n",
       "      <td>NaN</td>\n",
       "      <td>NaN</td>\n",
       "      <td>NaN</td>\n",
       "      <td>NaN</td>\n",
       "      <td>NaN</td>\n",
       "      <td>NaN</td>\n",
       "    </tr>\n",
       "    <tr>\n",
       "      <th>22331</th>\n",
       "      <td>NaN</td>\n",
       "      <td>NaN</td>\n",
       "      <td>NaN</td>\n",
       "      <td>NaN</td>\n",
       "      <td>NaN</td>\n",
       "      <td>NaN</td>\n",
       "      <td>NaN</td>\n",
       "      <td>NaN</td>\n",
       "      <td>NaN</td>\n",
       "      <td>NaN</td>\n",
       "      <td>NaN</td>\n",
       "      <td>NaN</td>\n",
       "      <td>NaN</td>\n",
       "      <td>NaN</td>\n",
       "      <td>NaN</td>\n",
       "      <td>NaN</td>\n",
       "      <td>NaN</td>\n",
       "      <td>NaN</td>\n",
       "      <td>NaN</td>\n",
       "      <td>NaN</td>\n",
       "      <td>NaN</td>\n",
       "      <td>NaN</td>\n",
       "      <td>NaN</td>\n",
       "      <td>NaN</td>\n",
       "      <td>NaN</td>\n",
       "      <td>NaN</td>\n",
       "      <td>NaN</td>\n",
       "      <td>NaN</td>\n",
       "      <td>NaN</td>\n",
       "      <td>NaN</td>\n",
       "      <td>NaN</td>\n",
       "    </tr>\n",
       "    <tr>\n",
       "      <th>36053</th>\n",
       "      <td>NaN</td>\n",
       "      <td>NaN</td>\n",
       "      <td>NaN</td>\n",
       "      <td>NaN</td>\n",
       "      <td>NaN</td>\n",
       "      <td>NaN</td>\n",
       "      <td>NaN</td>\n",
       "      <td>NaN</td>\n",
       "      <td>NaN</td>\n",
       "      <td>NaN</td>\n",
       "      <td>NaN</td>\n",
       "      <td>NaN</td>\n",
       "      <td>NaN</td>\n",
       "      <td>NaN</td>\n",
       "      <td>NaN</td>\n",
       "      <td>NaN</td>\n",
       "      <td>NaN</td>\n",
       "      <td>NaN</td>\n",
       "      <td>NaN</td>\n",
       "      <td>NaN</td>\n",
       "      <td>NaN</td>\n",
       "      <td>NaN</td>\n",
       "      <td>NaN</td>\n",
       "      <td>NaN</td>\n",
       "      <td>NaN</td>\n",
       "      <td>NaN</td>\n",
       "      <td>NaN</td>\n",
       "      <td>NaN</td>\n",
       "      <td>NaN</td>\n",
       "      <td>NaN</td>\n",
       "      <td>NaN</td>\n",
       "    </tr>\n",
       "    <tr>\n",
       "      <th>21994</th>\n",
       "      <td>NaN</td>\n",
       "      <td>NaN</td>\n",
       "      <td>NaN</td>\n",
       "      <td>NaN</td>\n",
       "      <td>NaN</td>\n",
       "      <td>NaN</td>\n",
       "      <td>NaN</td>\n",
       "      <td>NaN</td>\n",
       "      <td>NaN</td>\n",
       "      <td>NaN</td>\n",
       "      <td>NaN</td>\n",
       "      <td>NaN</td>\n",
       "      <td>NaN</td>\n",
       "      <td>NaN</td>\n",
       "      <td>NaN</td>\n",
       "      <td>NaN</td>\n",
       "      <td>NaN</td>\n",
       "      <td>NaN</td>\n",
       "      <td>NaN</td>\n",
       "      <td>NaN</td>\n",
       "      <td>NaN</td>\n",
       "      <td>NaN</td>\n",
       "      <td>NaN</td>\n",
       "      <td>NaN</td>\n",
       "      <td>NaN</td>\n",
       "      <td>NaN</td>\n",
       "      <td>NaN</td>\n",
       "      <td>NaN</td>\n",
       "      <td>NaN</td>\n",
       "      <td>NaN</td>\n",
       "      <td>NaN</td>\n",
       "    </tr>\n",
       "    <tr>\n",
       "      <th>23185</th>\n",
       "      <td>NaN</td>\n",
       "      <td>NaN</td>\n",
       "      <td>NaN</td>\n",
       "      <td>NaN</td>\n",
       "      <td>NaN</td>\n",
       "      <td>NaN</td>\n",
       "      <td>NaN</td>\n",
       "      <td>NaN</td>\n",
       "      <td>NaN</td>\n",
       "      <td>NaN</td>\n",
       "      <td>NaN</td>\n",
       "      <td>NaN</td>\n",
       "      <td>NaN</td>\n",
       "      <td>NaN</td>\n",
       "      <td>NaN</td>\n",
       "      <td>NaN</td>\n",
       "      <td>NaN</td>\n",
       "      <td>NaN</td>\n",
       "      <td>NaN</td>\n",
       "      <td>NaN</td>\n",
       "      <td>NaN</td>\n",
       "      <td>NaN</td>\n",
       "      <td>NaN</td>\n",
       "      <td>NaN</td>\n",
       "      <td>NaN</td>\n",
       "      <td>NaN</td>\n",
       "      <td>NaN</td>\n",
       "      <td>NaN</td>\n",
       "      <td>NaN</td>\n",
       "      <td>NaN</td>\n",
       "      <td>NaN</td>\n",
       "    </tr>\n",
       "  </tbody>\n",
       "</table>\n",
       "</div>"
      ],
      "text/plain": [
       "       age body_type diet drinks drugs education essay0 essay1 essay2 essay3  \\\n",
       "44882  NaN       NaN  NaN    NaN   NaN       NaN    NaN    NaN    NaN    NaN   \n",
       "22331  NaN       NaN  NaN    NaN   NaN       NaN    NaN    NaN    NaN    NaN   \n",
       "36053  NaN       NaN  NaN    NaN   NaN       NaN    NaN    NaN    NaN    NaN   \n",
       "21994  NaN       NaN  NaN    NaN   NaN       NaN    NaN    NaN    NaN    NaN   \n",
       "23185  NaN       NaN  NaN    NaN   NaN       NaN    NaN    NaN    NaN    NaN   \n",
       "\n",
       "      essay4 essay5 essay6 essay7 essay8 essay9 ethnicity  height  income  \\\n",
       "44882    NaN    NaN    NaN    NaN    NaN    NaN       NaN     NaN     NaN   \n",
       "22331    NaN    NaN    NaN    NaN    NaN    NaN       NaN     NaN     NaN   \n",
       "36053    NaN    NaN    NaN    NaN    NaN    NaN       NaN     NaN     NaN   \n",
       "21994    NaN    NaN    NaN    NaN    NaN    NaN       NaN     NaN     NaN   \n",
       "23185    NaN    NaN    NaN    NaN    NaN    NaN       NaN     NaN     NaN   \n",
       "\n",
       "       job last_online location offspring orientation pets religion  sex sign  \\\n",
       "44882  NaN         NaN      NaN       NaN         NaN  NaN      NaN  NaN  NaN   \n",
       "22331  NaN         NaN      NaN       NaN         NaN  NaN      NaN  NaN  NaN   \n",
       "36053  NaN         NaN      NaN       NaN         NaN  NaN      NaN  NaN  NaN   \n",
       "21994  NaN         NaN      NaN       NaN         NaN  NaN      NaN  NaN  NaN   \n",
       "23185  NaN         NaN      NaN       NaN         NaN  NaN      NaN  NaN  NaN   \n",
       "\n",
       "      smokes speaks status  \n",
       "44882    NaN    NaN    NaN  \n",
       "22331    NaN    NaN    NaN  \n",
       "36053    NaN    NaN    NaN  \n",
       "21994    NaN    NaN    NaN  \n",
       "23185    NaN    NaN    NaN  "
      ]
     },
     "execution_count": 3,
     "metadata": {},
     "output_type": "execute_result"
    }
   ],
   "source": [
    "df.sample(5)"
   ]
  },
  {
   "cell_type": "code",
   "execution_count": 4,
   "id": "f6176c80",
   "metadata": {},
   "outputs": [
    {
     "data": {
      "text/plain": [
       "51037"
      ]
     },
     "execution_count": 4,
     "metadata": {},
     "output_type": "execute_result"
    }
   ],
   "source": [
    "df.duplicated().sum()"
   ]
  },
  {
   "cell_type": "code",
   "execution_count": 5,
   "id": "c382a65f",
   "metadata": {
    "scrolled": true
   },
   "outputs": [
    {
     "name": "stdout",
     "output_type": "stream",
     "text": [
      "<class 'pandas.core.frame.DataFrame'>\n",
      "RangeIndex: 60552 entries, 0 to 60551\n",
      "Data columns (total 31 columns):\n",
      " #   Column       Non-Null Count  Dtype  \n",
      "---  ------       --------------  -----  \n",
      " 0   age          9514 non-null   float64\n",
      " 1   body_type    8666 non-null   object \n",
      " 2   diet         5761 non-null   object \n",
      " 3   drinks       9012 non-null   object \n",
      " 4   drugs        7215 non-null   object \n",
      " 5   education    8459 non-null   object \n",
      " 6   essay0       8667 non-null   object \n",
      " 7   essay1       8347 non-null   object \n",
      " 8   essay2       8049 non-null   object \n",
      " 9   essay3       7690 non-null   object \n",
      " 10  essay4       7879 non-null   object \n",
      " 11  essay5       7814 non-null   object \n",
      " 12  essay6       7352 non-null   object \n",
      " 13  essay7       7553 non-null   object \n",
      " 14  essay8       6361 non-null   object \n",
      " 15  essay9       7554 non-null   object \n",
      " 16  ethnicity    8565 non-null   object \n",
      " 17  height       9514 non-null   float64\n",
      " 18  income       9514 non-null   float64\n",
      " 19  job          8183 non-null   object \n",
      " 20  last_online  9514 non-null   object \n",
      " 21  location     9514 non-null   object \n",
      " 22  offspring    3886 non-null   object \n",
      " 23  orientation  9514 non-null   object \n",
      " 24  pets         6352 non-null   object \n",
      " 25  religion     6261 non-null   object \n",
      " 26  sex          9514 non-null   object \n",
      " 27  sign         7776 non-null   object \n",
      " 28  smokes       8596 non-null   object \n",
      " 29  speaks       9508 non-null   object \n",
      " 30  status       9514 non-null   object \n",
      "dtypes: float64(3), object(28)\n",
      "memory usage: 14.3+ MB\n"
     ]
    }
   ],
   "source": [
    "df.info()"
   ]
  },
  {
   "cell_type": "code",
   "execution_count": 6,
   "id": "f19bbd28-00c4-4bd1-a4c1-ce6c2f99c885",
   "metadata": {
    "scrolled": true
   },
   "outputs": [
    {
     "data": {
      "text/plain": [
       "age            51038\n",
       "body_type      51886\n",
       "diet           54791\n",
       "drinks         51540\n",
       "drugs          53337\n",
       "education      52093\n",
       "essay0         51885\n",
       "essay1         52205\n",
       "essay2         52503\n",
       "essay3         52862\n",
       "essay4         52673\n",
       "essay5         52738\n",
       "essay6         53200\n",
       "essay7         52999\n",
       "essay8         54191\n",
       "essay9         52998\n",
       "ethnicity      51987\n",
       "height         51038\n",
       "income         51038\n",
       "job            52369\n",
       "last_online    51038\n",
       "location       51038\n",
       "offspring      56666\n",
       "orientation    51038\n",
       "pets           54200\n",
       "religion       54291\n",
       "sex            51038\n",
       "sign           52776\n",
       "smokes         51956\n",
       "speaks         51044\n",
       "status         51038\n",
       "dtype: int64"
      ]
     },
     "execution_count": 6,
     "metadata": {},
     "output_type": "execute_result"
    }
   ],
   "source": [
    "df.isnull().sum()"
   ]
  },
  {
   "cell_type": "markdown",
   "id": "d51eb062-e101-47b9-bcae-2e26138dd833",
   "metadata": {
    "jp-MarkdownHeadingCollapsed": true
   },
   "source": [
    "# Data Visulation"
   ]
  },
  {
   "cell_type": "code",
   "execution_count": 7,
   "id": "fc23c098-69b1-49c4-8df1-b07a8001565a",
   "metadata": {
    "scrolled": true
   },
   "outputs": [
    {
     "data": {
      "image/png": "[encoded data removed]",
      "text/plain": [
       "<Figure size 1700x500 with 1 Axes>"
      ]
     },
     "metadata": {},
     "output_type": "display_data"
    }
   ],
   "source": [
    "plt.figure(figsize=(17,5))\n",
    "sns.histplot(x=df[\"age\"]);"
   ]
  },
  {
   "cell_type": "code",
   "execution_count": 8,
   "id": "439fd8bc-578b-4f92-abe5-833373845b29",
   "metadata": {
    "scrolled": true
   },
   "outputs": [
    {
     "data": {
      "image/png": "[encoded data removed]",
      "text/plain": [
       "<Figure size 1700x500 with 1 Axes>"
      ]
     },
     "metadata": {},
     "output_type": "display_data"
    }
   ],
   "source": [
    "plt.figure(figsize=(17,5))\n",
    "sns.countplot(x=df[\"body_type\"]);"
   ]
  },
  {
   "cell_type": "code",
   "execution_count": 9,
   "id": "55e1abff-f092-4534-a855-22f9416099cf",
   "metadata": {
    "scrolled": true
   },
   "outputs": [
    {
     "data": {
      "image/png": "[encoded data removed]",
      "text/plain": [
       "<Figure size 800x500 with 1 Axes>"
      ]
     },
     "metadata": {},
     "output_type": "display_data"
    }
   ],
   "source": [
    "plt.figure(figsize=(8,5))\n",
    "sns.countplot(x=df[\"diet\"]);"
   ]
  },
  {
   "cell_type": "code",
   "execution_count": 10,
   "id": "6bcb43ff-dc90-4691-af4c-67d68b815a5e",
   "metadata": {
    "scrolled": true
   },
   "outputs": [
    {
     "data": {
      "image/png": "[encoded data removed]",
      "text/plain": [
       "<Figure size 800x500 with 1 Axes>"
      ]
     },
     "metadata": {},
     "output_type": "display_data"
    }
   ],
   "source": [
    "plt.figure(figsize=(8,5))\n",
    "sns.countplot(x=df[\"drinks\"]);"
   ]
  },
  {
   "cell_type": "markdown",
   "id": "05400c3e-069d-4d8d-8db3-fecc881a7fbc",
   "metadata": {},
   "source": [
    "# Feature Engineer"
   ]
  },
  {
   "cell_type": "code",
   "execution_count": 11,
   "id": "6eb594b7",
   "metadata": {},
   "outputs": [],
   "source": [
    "# Deleted all essay columns we dont need inf regration or clasifications\n",
    "for i in df:\n",
    "    if (\"essay\" in i):\n",
    "        df.drop(i,axis=1,inplace=True)"
   ]
  },
  {
   "cell_type": "code",
   "execution_count": 12,
   "id": "0c4fa1ac",
   "metadata": {},
   "outputs": [],
   "source": [
    "#Remove missing values.\n",
    "#‘all’ : If all values are NA, drop that row\n",
    "df.dropna(axis=0,how=\"all\",inplace=True)\n",
    "\n",
    "# After 9514 datas are NaN and deleted all NaN datas\n",
    "#df=df.drop_duplicates()[:9514]"
   ]
  },
  {
   "cell_type": "code",
   "execution_count": null,
   "id": "6c6eb2da-02ee-412b-9ba5-ab2153192b43",
   "metadata": {},
   "outputs": [],
   "source": []
  },
  {
   "cell_type": "code",
   "execution_count": 13,
   "id": "1746db91-bcf3-4ede-964a-f435a59b14ba",
   "metadata": {
    "scrolled": true
   },
   "outputs": [
    {
     "data": {
      "text/plain": [
       "age               0\n",
       "body_type       848\n",
       "diet           3753\n",
       "drinks          502\n",
       "drugs          2299\n",
       "education      1055\n",
       "ethnicity       949\n",
       "height            0\n",
       "income            0\n",
       "job            1331\n",
       "last_online       0\n",
       "location          0\n",
       "offspring      5628\n",
       "orientation       0\n",
       "pets           3162\n",
       "religion       3253\n",
       "sex               0\n",
       "sign           1738\n",
       "smokes          918\n",
       "speaks            6\n",
       "status            0\n",
       "dtype: int64"
      ]
     },
     "execution_count": 13,
     "metadata": {},
     "output_type": "execute_result"
    }
   ],
   "source": [
    "df.isnull().sum()"
   ]
  },
  {
   "cell_type": "code",
   "execution_count": 17,
   "id": "8d2e6210",
   "metadata": {},
   "outputs": [
    {
     "data": {
      "text/plain": [
       "body_type\n",
       "average           2274\n",
       "fit               2040\n",
       "athletic          1888\n",
       "thin               740\n",
       "curvy              626\n",
       "a little extra     430\n",
       "skinny             269\n",
       "full figured       181\n",
       "overweight          69\n",
       "jacked              64\n",
       "used up             47\n",
       "rather not say      38\n",
       "Name: count, dtype: int64"
      ]
     },
     "execution_count": 17,
     "metadata": {},
     "output_type": "execute_result"
    }
   ],
   "source": [
    "df.body_type.value_counts()\n",
    "\n",
    "\"a little extra\":\"endomorph\",\n",
    "\"curvy\":\"endomorph\",\n",
    "\"full figured\":\"endomorph\",\n",
    "\"rather not say\":\"endomorph\",\n",
    "\"used up\":\"endomorph\",\n",
    "\"overweight\":\"endomorph\",    \n",
    "\n",
    "\n",
    "\"average\":\"ectomorph\",\"thin\":\"ectomorph\",\"skinny\":\"ectomorph\","
   ]
  },
  {
   "cell_type": "code",
   "execution_count": 18,
   "id": "f2aada6e",
   "metadata": {},
   "outputs": [],
   "source": [
    "# Data column field Cleaning\n",
    "bodyTypes={\"fit\":\"fit\",\n",
    "           \"athletic\":\"fit\",\n",
    "           \"skinny\":\"fit\",\n",
    "           \"jacked\":\"fit\",\n",
    "           \"curvy\":\"curvy\",\n",
    "           \"a little extra\":\"curvy\",\n",
    "           \"full figured\":\"curvy\",\n",
    "           \"rather not say\":\"curvy\",\n",
    "           \"overweight\":\"curvy\",\n",
    "           \"thin\":\"bad\",\n",
    "           \"average\":\"bad\",\n",
    "           \"used up\":\"bad\"\n",
    "          }\n",
    "df.body_type.replace(bodyTypes,inplace=True)"
   ]
  },
  {
   "cell_type": "code",
   "execution_count": 23,
   "id": "3b7df396-b7b1-481e-b665-b002b254269c",
   "metadata": {},
   "outputs": [
    {
     "data": {
      "text/plain": [
       "0    fit\n",
       "Name: body_type, dtype: object"
      ]
     },
     "execution_count": 23,
     "metadata": {},
     "output_type": "execute_result"
    }
   ],
   "source": [
    "df.body_type.mode()"
   ]
  },
  {
   "cell_type": "code",
   "execution_count": 24,
   "id": "1c9ee8c9-e9ca-435a-a2b9-0e3b7b784f84",
   "metadata": {},
   "outputs": [],
   "source": [
    "df.body_type.fillna(\"fit\",inplace=True)"
   ]
  },
  {
   "cell_type": "code",
   "execution_count": null,
   "id": "3a729048-1c2e-4a97-86ff-e45901f5cdbe",
   "metadata": {},
   "outputs": [],
   "source": [
    "df.diet.value_counts()"
   ]
  },
  {
   "cell_type": "code",
   "execution_count": null,
   "id": "0a235902-f7e5-4fc3-9a78-75b58b0383be",
   "metadata": {},
   "outputs": [],
   "source": [
    "# Data column field Cleaning\n",
    "dietStatus={\"mostly\":\"\",\"strictly\":\"\"}\n",
    "df[\"diet\"].replace(dietStatus,regex=True,inplace=True)\n",
    "df[\"diet\"]=df[\"diet\"].str.strip()\n",
    "\n",
    "df.diet.mode()"
   ]
  },
  {
   "cell_type": "code",
   "execution_count": null,
   "id": "c5c4ec3f-95fd-4eb3-a7d4-5b445d9f96da",
   "metadata": {},
   "outputs": [],
   "source": [
    "df.diet.fillna(\"anything\",inplace=True)"
   ]
  },
  {
   "cell_type": "code",
   "execution_count": null,
   "id": "afb45c3d-f547-4ae7-9f52-f085994317c5",
   "metadata": {},
   "outputs": [],
   "source": [
    "df.education.value_counts()"
   ]
  },
  {
   "cell_type": "code",
   "execution_count": null,
   "id": "c8150dc8-cce5-412f-b12e-0715d3813c1d",
   "metadata": {},
   "outputs": [],
   "source": [
    "# Data column field Cleaning\n",
    "df[\"education\"].replace({\"working on\":\"student\",\"graduated from\":\"graduated\",\"dropped out\":\"dropped\"},regex=True)\n",
    "df[\"education\"]=df[\"education\"].str.split().str[0]\n",
    "df[\"education\"].replace({\"college/university\":\"student\",\"two-year\":\"student\",\"masters\":\"student\",\n",
    "                         \"working\":\"student\",\"space\":\"student\",\"ph.d\":\"graduated\",\"law\":\"graduated\",\n",
    "                         \"high\":\"graduated\"},regex=True,inplace=True)"
   ]
  },
  {
   "cell_type": "code",
   "execution_count": null,
   "id": "9087a912-a7c8-495a-9979-a20df6e33d8d",
   "metadata": {},
   "outputs": [],
   "source": [
    "df.education.fillna(\"graduated\",inplace=True)"
   ]
  },
  {
   "cell_type": "code",
   "execution_count": null,
   "id": "39d91bdd",
   "metadata": {},
   "outputs": [],
   "source": [
    "df[\"last_online_year\"]=2023-(df['last_online'].str[:4]).astype(int)\n",
    "df[\"last_online_month\"]=(df['last_online'].str[5:7]).astype(int)\n",
    "\n",
    "df.drop('last_online',axis=1)"
   ]
  },
  {
   "cell_type": "code",
   "execution_count": null,
   "id": "f88e5f8c",
   "metadata": {
    "scrolled": true
   },
   "outputs": [],
   "source": [
    "df.location.value_counts()"
   ]
  },
  {
   "cell_type": "code",
   "execution_count": null,
   "id": "e008d410",
   "metadata": {},
   "outputs": [],
   "source": [
    "# Data column field Cleaning\n",
    "df.location=df.location.str.split(\",\").str[0]"
   ]
  },
  {
   "cell_type": "code",
   "execution_count": null,
   "id": "c7b6831b-b1e6-4080-9d39-7b00aef94d3b",
   "metadata": {},
   "outputs": [],
   "source": [
    "df.drinks.value_counts()"
   ]
  },
  {
   "cell_type": "code",
   "execution_count": null,
   "id": "5ab476cb-e955-4d8a-b4f4-007676a1bf60",
   "metadata": {},
   "outputs": [],
   "source": [
    "df.drinks.mode()\n",
    "\n",
    "df.drinks.fillna(\"socially\",inplace=True)"
   ]
  },
  {
   "cell_type": "code",
   "execution_count": null,
   "id": "79c8df10-a07f-4135-9e76-789b59895b0d",
   "metadata": {},
   "outputs": [],
   "source": [
    "df.drugs.value_counts()"
   ]
  },
  {
   "cell_type": "code",
   "execution_count": null,
   "id": "01a49bdb-b93e-4718-a6aa-0afcdd8615dc",
   "metadata": {},
   "outputs": [],
   "source": [
    "df.drugs.fillna(\"never\",inplace=True)"
   ]
  },
  {
   "cell_type": "code",
   "execution_count": null,
   "id": "1214acac-00af-4975-8de9-d8fe1b422341",
   "metadata": {},
   "outputs": [],
   "source": [
    "df.offspring.value_counts()"
   ]
  },
  {
   "cell_type": "code",
   "execution_count": null,
   "id": "448dcfc3",
   "metadata": {},
   "outputs": [],
   "source": [
    "# Data column field Cleaning\n",
    "offsprings=[]\n",
    "\n",
    "for i in df.offspring.fillna(\"unknow\").str.replace(\"[^\\w\\s]\",\"\"):\n",
    "    if \"doesn&rsquo\" in i:\n",
    "        offsprings.append(\"0\")\n",
    "    elif \"unknow\" in i:\n",
    "        offsprings.append(\"0\")\n",
    "    else:\n",
    "        offsprings.append(\"1\")\n",
    "        \n",
    "df[\"offspring\"]=offsprings\n",
    "\n",
    "df.offspring.fillna(0,inplace=True)\n",
    "\n",
    "df[\"offspring\"]=df[\"offspring\"].astype(int)"
   ]
  },
  {
   "cell_type": "code",
   "execution_count": null,
   "id": "a78e3010-6b4e-48dc-981d-ec2da2013a00",
   "metadata": {},
   "outputs": [],
   "source": [
    "df.pets.value_counts()"
   ]
  },
  {
   "cell_type": "code",
   "execution_count": null,
   "id": "a3cf6381-e552-4e4b-9bbd-6dd0477ea4b7",
   "metadata": {},
   "outputs": [],
   "source": [
    "df.pets.mode()\n",
    "\n",
    "df[\"pets\"].fillna(\"likes dogs and likes cats\",inplace=True)"
   ]
  },
  {
   "cell_type": "code",
   "execution_count": null,
   "id": "7e28d8a2-7c80-43e0-a3e0-857074d7033e",
   "metadata": {
    "scrolled": true
   },
   "outputs": [],
   "source": [
    "df.religion.value_counts()"
   ]
  },
  {
   "cell_type": "code",
   "execution_count": null,
   "id": "4acc9b6e-1d4a-4134-9533-d666d164bbbf",
   "metadata": {},
   "outputs": [],
   "source": [
    "# Data column field Cleaning\n",
    "df[\"religion\"]=df[\"religion\"].str.split().str[0]"
   ]
  },
  {
   "cell_type": "code",
   "execution_count": null,
   "id": "f4d991ac-8b9c-49a2-9973-1befc2d08a01",
   "metadata": {},
   "outputs": [],
   "source": [
    "df[\"religion\"].fillna(\"other\",inplace=True)"
   ]
  },
  {
   "cell_type": "code",
   "execution_count": null,
   "id": "9bd9a6c1-6a5e-4865-9949-30819df1fe7a",
   "metadata": {
    "scrolled": true
   },
   "outputs": [],
   "source": [
    "df.sign.value_counts()"
   ]
  },
  {
   "cell_type": "code",
   "execution_count": null,
   "id": "f697f191-52c2-4f91-b989-38327c776fcb",
   "metadata": {},
   "outputs": [],
   "source": [
    "# Data column field Cleaning\n",
    "df[\"sign\"]=df[\"sign\"].str.split().str[0]"
   ]
  },
  {
   "cell_type": "code",
   "execution_count": null,
   "id": "dfe1bf9b-1a45-4bfc-85da-a427df5a9bba",
   "metadata": {},
   "outputs": [],
   "source": [
    "df.sign.mode()\n",
    "\n",
    "df.sign.fillna(\"unknown\",inplace=True)"
   ]
  },
  {
   "cell_type": "code",
   "execution_count": null,
   "id": "335a941c-b6d3-43de-821b-e79a235cdd18",
   "metadata": {},
   "outputs": [],
   "source": [
    "df.speaks.value_counts()"
   ]
  },
  {
   "cell_type": "code",
   "execution_count": null,
   "id": "e8bf0071-76be-4e0d-a6fb-802aa3cbc82f",
   "metadata": {},
   "outputs": [],
   "source": [
    "# Data column field Cleaning\n",
    "df[\"fluent_languages\"]=df.speaks.str.count(\"fluently\")\n",
    "df[\"fluent_languages\"].replace(0,1,regex=True,inplace=True)\n",
    "df[\"poor_languages\"]=df.speaks.str.count(\"poorly\")\n",
    "df.drop(\"speaks\",axis=1,inplace=True)"
   ]
  },
  {
   "cell_type": "code",
   "execution_count": null,
   "id": "ae173112-a339-4819-92ed-97115584db5f",
   "metadata": {},
   "outputs": [],
   "source": [
    "df.fluent_languages.fillna(1,inplace=True)\n",
    "df.poor_languages.fillna(1,inplace=True)"
   ]
  },
  {
   "cell_type": "code",
   "execution_count": null,
   "id": "d2b87632-a26c-4caf-8b77-fb04c5028ddb",
   "metadata": {},
   "outputs": [],
   "source": [
    "df[\"fluent_languages\"]=df[\"fluent_languages\"].astype(int)\n",
    "df[\"poor_languages\"]=df[\"poor_languages\"].astype(int)"
   ]
  },
  {
   "cell_type": "code",
   "execution_count": null,
   "id": "05748d8a-8c74-45dd-b98d-088cfc55d542",
   "metadata": {},
   "outputs": [],
   "source": [
    "df.smokes.value_counts()"
   ]
  },
  {
   "cell_type": "code",
   "execution_count": null,
   "id": "a39accf5-0204-4f2a-a6f1-7cffb74e378e",
   "metadata": {},
   "outputs": [],
   "source": [
    "smokeDict={\"no\":0,\"sometimes\":1,\"when drinking\":1,\"yes\":1,\"trying to quit\":1}\n",
    "df.smokes.replace(smokeDict,inplace=True)"
   ]
  },
  {
   "cell_type": "code",
   "execution_count": null,
   "id": "348040d2-6018-4c60-8add-6b1deea4d0ae",
   "metadata": {},
   "outputs": [],
   "source": [
    "df.smokes.fillna(0.0,inplace=True)\n",
    "df[\"smokes\"]=df.smokes.astype(int)"
   ]
  },
  {
   "cell_type": "code",
   "execution_count": null,
   "id": "6afd3dfb-972d-4484-8530-06132b51d7e1",
   "metadata": {},
   "outputs": [],
   "source": [
    "df.drop(['ethnicity', 'job', 'last_online'],axis=1,inplace=True)"
   ]
  },
  {
   "cell_type": "code",
   "execution_count": null,
   "id": "90f05462-dcd7-42d4-b142-bb619e53aa95",
   "metadata": {},
   "outputs": [],
   "source": [
    "df.status.value_counts()"
   ]
  },
  {
   "cell_type": "code",
   "execution_count": null,
   "id": "05cfbb13-30b8-4eec-9d92-f1238bc9d81b",
   "metadata": {},
   "outputs": [],
   "source": [
    "df[\"status\"].replace({\"available\":\"single\"},inplace=True)"
   ]
  },
  {
   "cell_type": "code",
   "execution_count": null,
   "id": "b5e38320",
   "metadata": {
    "scrolled": true
   },
   "outputs": [],
   "source": [
    "df.age.value_counts()"
   ]
  },
  {
   "cell_type": "code",
   "execution_count": null,
   "id": "80fd44f2",
   "metadata": {},
   "outputs": [],
   "source": [
    "generation=[]\n",
    "\n",
    "for i in df.age.values:\n",
    "    if 18 <= i <= 32:\n",
    "        generation.append(\"Millennial\")\n",
    "    elif 33 <= i <= 47:\n",
    "        generation.append(\"Gen X-er\")\n",
    "    elif 48 <= i <= 70:\n",
    "        generation.append(\"Boomers\")\n",
    "    else:\n",
    "        generation.append(\"unknown\")\n",
    "\n",
    "df[\"generation\"]=generation"
   ]
  },
  {
   "cell_type": "code",
   "execution_count": null,
   "id": "8df5bb81",
   "metadata": {},
   "outputs": [],
   "source": [
    "df.generation.value_counts()"
   ]
  },
  {
   "cell_type": "code",
   "execution_count": null,
   "id": "0e6682e3",
   "metadata": {},
   "outputs": [],
   "source": [
    "# Also 1 Unknown passed on 110-year-olds to the Boomers generation\n",
    "df[\"generation\"].replace(\"Unkown\",\"Millennial\",regex=True,inplace=True)"
   ]
  },
  {
   "cell_type": "code",
   "execution_count": null,
   "id": "bab5a4fd-30b2-424d-9633-6eab9de16435",
   "metadata": {},
   "outputs": [],
   "source": [
    "# All object values are filled with the maximum value\n",
    "for column in df.select_dtypes(include=np.object):\n",
    "    np.object = object \n",
    "    df[column].fillna(df[column].mode()[0],inplace=True)"
   ]
  },
  {
   "cell_type": "code",
   "execution_count": null,
   "id": "59478a0b-a1c2-44a5-b3fd-0c668827919f",
   "metadata": {},
   "outputs": [],
   "source": [
    "#All number values are filled with averages\n",
    "for column in df.select_dtypes(include=np.number):\n",
    "    df[column].fillna(df[column].median(),inplace=True)"
   ]
  },
  {
   "cell_type": "code",
   "execution_count": null,
   "id": "20aa3267",
   "metadata": {},
   "outputs": [],
   "source": [
    "df.sample(5)"
   ]
  },
  {
   "cell_type": "code",
   "execution_count": null,
   "id": "f47ddc2b-4411-4646-8097-357878b81c5d",
   "metadata": {},
   "outputs": [],
   "source": [
    "abs(df.corr(numeric_only=True)['age']).sort_values(ascending=False)"
   ]
  },
  {
   "cell_type": "code",
   "execution_count": null,
   "id": "a780f875-c393-455a-a011-b330a5c7c024",
   "metadata": {},
   "outputs": [],
   "source": [
    "df.info()"
   ]
  },
  {
   "cell_type": "code",
   "execution_count": null,
   "id": "14e8f716-bae6-47a6-bbcd-92be43125b55",
   "metadata": {},
   "outputs": [],
   "source": [
    "ax = plt.subplots(figsize = (7,5))\n",
    "sns.heatmap(df.corr(numeric_only=True),annot = True);"
   ]
  },
  {
   "cell_type": "markdown",
   "id": "d1f5f628-ee1b-4c44-8453-c4c696fa9196",
   "metadata": {},
   "source": [
    "# 1) Can your dating profile predict your age?"
   ]
  },
  {
   "cell_type": "code",
   "execution_count": null,
   "id": "77ea9445",
   "metadata": {},
   "outputs": [],
   "source": [
    "df_reg=pd.get_dummies(df,drop_first=True)"
   ]
  },
  {
   "cell_type": "code",
   "execution_count": null,
   "id": "7e41259d",
   "metadata": {},
   "outputs": [],
   "source": [
    "df_reg.sample(5)"
   ]
  },
  {
   "cell_type": "code",
   "execution_count": null,
   "id": "18dc70b0",
   "metadata": {},
   "outputs": [],
   "source": [
    "x,y=df_reg.drop(\"age\",axis=1),df[[\"age\"]]"
   ]
  },
  {
   "cell_type": "code",
   "execution_count": null,
   "id": "eb0164b7",
   "metadata": {},
   "outputs": [],
   "source": [
    "def regression_funct(x,y):\n",
    "    from sklearn.linear_model import LinearRegression\n",
    "    from sklearn.linear_model import Ridge,Lasso\n",
    "    from sklearn.linear_model import ElasticNet\n",
    "    from sklearn.tree import ExtraTreeRegressor\n",
    "    from sklearn.ensemble import GradientBoostingRegressor\n",
    "    from sklearn.neighbors import KNeighborsRegressor\n",
    "    \n",
    "    from sklearn.model_selection import train_test_split\n",
    "    from sklearn.metrics import mean_squared_error,r2_score,mean_absolute_error\n",
    "    \n",
    "    x_train,x_test,y_train,y_test=train_test_split(x,y,test_size=0.2,random_state=42)\n",
    "\n",
    "    L=LinearRegression()\n",
    "    R=Ridge()\n",
    "    Lass=Lasso()\n",
    "    E=ElasticNet()\n",
    "    ExTree=ExtraTreeRegressor()\n",
    "    GBR=GradientBoostingRegressor()\n",
    "    KN=KNeighborsRegressor()\n",
    "    \n",
    "    algos=[L,R,Lass,E,ExTree,GBR,KN]\n",
    "    algo_names=['LinearRegression','Ridge','Lasso','ElasticNet','ExtraTreeRegressor',\n",
    "                'GradientBoostingRegressor','KNeighborsRegressor']\n",
    "    r_squared=[]\n",
    "    rmse=[]\n",
    "    mae=[]\n",
    "    \n",
    "    result=pd.DataFrame(columns=['R_Squared','RMSE','MAE'],index=algo_names)\n",
    "    \n",
    "    for item in algos:\n",
    "        item.fit(x_train,y_train)\n",
    "        item.predict(x_test)\n",
    "        r_squared.append(r2_score(y_test,item.predict(x_test)))\n",
    "        rmse.append((mean_squared_error(y_test,item.predict(x_test)))**.5)\n",
    "        mae.append(mean_absolute_error(y_test,item.predict(x_test)))\n",
    "        \n",
    "    result.R_Squared=r_squared\n",
    "    result.RMSE=rmse\n",
    "    result.MAE=mae\n",
    "        \n",
    "    return result.sort_values('R_Squared',ascending=False)"
   ]
  },
  {
   "cell_type": "code",
   "execution_count": null,
   "id": "64c23ad2",
   "metadata": {},
   "outputs": [],
   "source": [
    "regression_funct(x,y)"
   ]
  },
  {
   "cell_type": "code",
   "execution_count": null,
   "id": "081d8d11",
   "metadata": {},
   "outputs": [],
   "source": [
    "# Deep Learning"
   ]
  },
  {
   "cell_type": "code",
   "execution_count": null,
   "id": "20e179ce",
   "metadata": {},
   "outputs": [],
   "source": [
    "from tensorflow.keras.models import Sequential\n",
    "from tensorflow.keras.layers import Dense, Activation\n",
    "from tensorflow.keras.optimizers import Adam\n",
    "from sklearn.model_selection import train_test_split\n",
    "from sklearn.metrics import  r2_score, mean_squared_error, mean_absolute_error\n",
    "from sklearn.preprocessing import MinMaxScaler\n",
    "scaler=MinMaxScaler()"
   ]
  },
  {
   "cell_type": "code",
   "execution_count": null,
   "id": "5e87b1ed",
   "metadata": {},
   "outputs": [],
   "source": [
    "x=scaler.fit_transform(x)"
   ]
  },
  {
   "cell_type": "code",
   "execution_count": null,
   "id": "67c73543",
   "metadata": {},
   "outputs": [],
   "source": [
    "pd.DataFrame(x).head()"
   ]
  },
  {
   "cell_type": "code",
   "execution_count": null,
   "id": "dd9ba3b3",
   "metadata": {},
   "outputs": [],
   "source": [
    "x.shape,y.shape"
   ]
  },
  {
   "cell_type": "code",
   "execution_count": null,
   "id": "48445179",
   "metadata": {},
   "outputs": [],
   "source": [
    "x_train, x_test, y_train, y_test = train_test_split(x,y, test_size=0.20, random_state=42)"
   ]
  },
  {
   "cell_type": "code",
   "execution_count": null,
   "id": "7a057870",
   "metadata": {},
   "outputs": [],
   "source": [
    "model=Sequential()\n",
    "model.add(Dense(800, activation='relu'))\n",
    "model.add(Dense(800, activation='relu'))\n",
    "model.add(Dense(800, activation='relu'))\n",
    "model.add(Dense(800, activation='relu'))\n",
    "model.add(Dense(800, activation='relu'))\n",
    "model.add(Dense(800, activation='relu'))\n",
    "model.add(Dense(1))\n",
    "model.compile(optimizer='Adam', loss='mse')#mse regression"
   ]
  },
  {
   "cell_type": "code",
   "execution_count": null,
   "id": "bdd31308",
   "metadata": {},
   "outputs": [],
   "source": [
    "model.fit(x=x_train, y=y_train, validation_data=(x_test, y_test), batch_size=128, epochs=100, verbose=1)"
   ]
  },
  {
   "cell_type": "code",
   "execution_count": null,
   "id": "22dca52c",
   "metadata": {},
   "outputs": [],
   "source": [
    "model.summary()"
   ]
  },
  {
   "cell_type": "code",
   "execution_count": null,
   "id": "38c6c06d",
   "metadata": {},
   "outputs": [],
   "source": [
    "pred=model.predict(x_test)"
   ]
  },
  {
   "cell_type": "code",
   "execution_count": null,
   "id": "437508fc",
   "metadata": {},
   "outputs": [],
   "source": [
    "(mean_squared_error(y_test,pred))**.5"
   ]
  },
  {
   "cell_type": "code",
   "execution_count": null,
   "id": "c22f0f8b",
   "metadata": {},
   "outputs": [],
   "source": [
    "r2_score(y_test,pred) "
   ]
  },
  {
   "cell_type": "code",
   "execution_count": null,
   "id": "ad54891a",
   "metadata": {},
   "outputs": [],
   "source": [
    "# 2) Can your dating profile predict the generation you belong to? "
   ]
  },
  {
   "cell_type": "code",
   "execution_count": null,
   "id": "1f24267c",
   "metadata": {},
   "outputs": [],
   "source": [
    "# epoch had some integer problem that i changed epoch string to integer\n",
    "df.loc[df['epoch']== 'Boomers','epoch_num']=2\n",
    "df.loc[df['epoch']== 'Gen X-er','epoch_num']=1\n",
    "df.loc[df['epoch']== 'Millennial','epoch_num']=0\n",
    "df['epoch_num'] = df['epoch_num'].astype('int')\n",
    "df.head()"
   ]
  },
  {
   "cell_type": "code",
   "execution_count": null,
   "id": "f0a49fe6",
   "metadata": {},
   "outputs": [],
   "source": [
    "df.drop(\"epoch\",axis=1,inplace=True)\n",
    "df.head()"
   ]
  },
  {
   "cell_type": "code",
   "execution_count": null,
   "id": "d6c79365",
   "metadata": {},
   "outputs": [],
   "source": [
    "y=df[[\"epoch_num\"]]"
   ]
  },
  {
   "cell_type": "code",
   "execution_count": null,
   "id": "535fa394",
   "metadata": {},
   "outputs": [],
   "source": [
    "df_class=df.drop([\"epoch_num\",\"age\"] ,axis=1)\n",
    "x=pd.get_dummies(df_class,drop_first=True)"
   ]
  },
  {
   "cell_type": "code",
   "execution_count": null,
   "id": "aef0703a",
   "metadata": {},
   "outputs": [],
   "source": [
    "def classification_funct(x,y):\n",
    "    from sklearn.naive_bayes import GaussianNB\n",
    "    from sklearn.naive_bayes import BernoulliNB\n",
    "    from sklearn.svm import SVC\n",
    "    from sklearn.neighbors import KNeighborsClassifier\n",
    "    from sklearn.tree import DecisionTreeClassifier\n",
    "    from sklearn.ensemble import RandomForestClassifier\n",
    "    from sklearn.linear_model import LogisticRegression\n",
    "    from xgboost import XGBClassifier\n",
    "    \n",
    "    from sklearn.metrics import accuracy_score,precision_score,recall_score,f1_score\n",
    "    from sklearn.metrics import confusion_matrix,classification_report\n",
    "       \n",
    "    x_train,x_test,y_train,y_test=train_test_split(x,y,test_size=0.2,random_state=42)\n",
    "\n",
    "    g=GaussianNB()\n",
    "    b=BernoulliNB()\n",
    "    KN=KNeighborsClassifier()\n",
    "    SVC=SVC() \n",
    "    D=DecisionTreeClassifier()\n",
    "    R=RandomForestClassifier()\n",
    "    Log=LogisticRegression()\n",
    "    XGB=XGBClassifier()\n",
    "    \n",
    "    algos=[g,b,KN,SVC,D,R,Log,XGB]\n",
    "    algo_names=['GaussianNB','BernoulliNB','KNeighborsClassifier','SVC','DecisionTreeClassifier',\n",
    "                'RandomForestClassifier','LogisticRegression','XGBClassifier']\n",
    "   \n",
    "    accuracy_scored=[]\n",
    "\n",
    "    \n",
    "    for item in algos:\n",
    "        item.fit(x_train,y_train)\n",
    "        item.predict(x_test)\n",
    "        \n",
    "        accuracy_scored.append(accuracy_score(y_test,item.predict(x_test)))\n",
    "       \n",
    "    result=pd.DataFrame(columns=['accuracy_score'],index=algo_names)\n",
    "    result['accuracy_score']=accuracy_scored\n",
    "    return result.sort_values('accuracy_score',ascending=False)"
   ]
  },
  {
   "cell_type": "code",
   "execution_count": null,
   "id": "5ddff7c7",
   "metadata": {},
   "outputs": [],
   "source": [
    "classification_funct(x,y)"
   ]
  },
  {
   "cell_type": "code",
   "execution_count": null,
   "id": "8fee5923",
   "metadata": {},
   "outputs": [],
   "source": []
  }
 ],
 "metadata": {
  "kernelspec": {
   "display_name": "Python 3 (ipykernel)",
   "language": "python",
   "name": "python3"
  },
  "language_info": {
   "codemirror_mode": {
    "name": "ipython",
    "version": 3
   },
   "file_extension": ".py",
   "mimetype": "text/x-python",
   "name": "python",
   "nbconvert_exporter": "python",
   "pygments_lexer": "ipython3",
   "version": "3.11.7"
  }
 },
 "nbformat": 4,
 "nbformat_minor": 5
}

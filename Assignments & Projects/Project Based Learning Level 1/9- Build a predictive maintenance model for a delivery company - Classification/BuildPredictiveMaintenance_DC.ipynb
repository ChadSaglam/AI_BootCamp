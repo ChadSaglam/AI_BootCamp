{
 "cells": [
  {
   "cell_type": "code",
   "execution_count": 1,
   "id": "3cb7bf61",
   "metadata": {},
   "outputs": [],
   "source": [
    "import numpy as np\n",
    "import pandas as pd\n",
    "import seaborn as sns\n",
    "import matplotlib.pyplot as plt\n",
    "%matplotlib inline\n",
    "import warnings\n",
    "warnings.filterwarnings(\"ignore\")\n",
    "\n",
    "from sklearn.naive_bayes import GaussianNB\n",
    "from sklearn.naive_bayes import BernoulliNB\n",
    "from sklearn.neighbors import KNeighborsClassifier\n",
    "from sklearn.tree import DecisionTreeClassifier\n",
    "from sklearn.ensemble import RandomForestClassifier\n",
    "from sklearn.linear_model import LogisticRegression\n",
    "from xgboost import XGBClassifier\n",
    "from sklearn.ensemble import GradientBoostingClassifier\n",
    "\n",
    "from sklearn.model_selection import train_test_split\n",
    "\n",
    "from sklearn.metrics import accuracy_score,precision_score,recall_score,f1_score\n",
    "from sklearn.metrics import confusion_matrix,classification_report\n",
    "\n",
    "pd.set_option(\"display.max_columns\",100)"
   ]
  },
  {
   "cell_type": "code",
   "execution_count": 2,
   "id": "e8c4f659",
   "metadata": {},
   "outputs": [],
   "source": [
    "df = pd.read_csv('failure.csv')"
   ]
  },
  {
   "cell_type": "markdown",
   "id": "9f9ebb7c",
   "metadata": {},
   "source": [
    "### EDA - Exploratory Data Analysis"
   ]
  },
  {
   "cell_type": "code",
   "execution_count": 3,
   "id": "6f768806",
   "metadata": {},
   "outputs": [
    {
     "name": "stdout",
     "output_type": "stream",
     "text": [
      "<class 'pandas.core.frame.DataFrame'>\n",
      "RangeIndex: 124494 entries, 0 to 124493\n",
      "Data columns (total 12 columns):\n",
      " #   Column      Non-Null Count   Dtype \n",
      "---  ------      --------------   ----- \n",
      " 0   date        124494 non-null  object\n",
      " 1   device      124494 non-null  object\n",
      " 2   failure     124494 non-null  int64 \n",
      " 3   attribute1  124494 non-null  int64 \n",
      " 4   attribute2  124494 non-null  int64 \n",
      " 5   attribute3  124494 non-null  int64 \n",
      " 6   attribute4  124494 non-null  int64 \n",
      " 7   attribute5  124494 non-null  int64 \n",
      " 8   attribute6  124494 non-null  int64 \n",
      " 9   attribute7  124494 non-null  int64 \n",
      " 10  attribute8  124494 non-null  int64 \n",
      " 11  attribute9  124494 non-null  int64 \n",
      "dtypes: int64(10), object(2)\n",
      "memory usage: 11.4+ MB\n"
     ]
    }
   ],
   "source": [
    "df.info()"
   ]
  },
  {
   "cell_type": "code",
   "execution_count": 4,
   "id": "a0ab6c8e",
   "metadata": {},
   "outputs": [
    {
     "data": {
      "text/html": [
       "<div>\n",
       "<style scoped>\n",
       "    .dataframe tbody tr th:only-of-type {\n",
       "        vertical-align: middle;\n",
       "    }\n",
       "\n",
       "    .dataframe tbody tr th {\n",
       "        vertical-align: top;\n",
       "    }\n",
       "\n",
       "    .dataframe thead th {\n",
       "        text-align: right;\n",
       "    }\n",
       "</style>\n",
       "<table border=\"1\" class=\"dataframe\">\n",
       "  <thead>\n",
       "    <tr style=\"text-align: right;\">\n",
       "      <th></th>\n",
       "      <th>date</th>\n",
       "      <th>device</th>\n",
       "      <th>failure</th>\n",
       "      <th>attribute1</th>\n",
       "      <th>attribute2</th>\n",
       "      <th>attribute3</th>\n",
       "      <th>attribute4</th>\n",
       "      <th>attribute5</th>\n",
       "      <th>attribute6</th>\n",
       "      <th>attribute7</th>\n",
       "      <th>attribute8</th>\n",
       "      <th>attribute9</th>\n",
       "    </tr>\n",
       "  </thead>\n",
       "  <tbody>\n",
       "    <tr>\n",
       "      <th>0</th>\n",
       "      <td>2015-01-01</td>\n",
       "      <td>S1F01085</td>\n",
       "      <td>0</td>\n",
       "      <td>215630672</td>\n",
       "      <td>56</td>\n",
       "      <td>0</td>\n",
       "      <td>52</td>\n",
       "      <td>6</td>\n",
       "      <td>407438</td>\n",
       "      <td>0</td>\n",
       "      <td>0</td>\n",
       "      <td>7</td>\n",
       "    </tr>\n",
       "    <tr>\n",
       "      <th>1</th>\n",
       "      <td>2015-01-01</td>\n",
       "      <td>S1F0166B</td>\n",
       "      <td>0</td>\n",
       "      <td>61370680</td>\n",
       "      <td>0</td>\n",
       "      <td>3</td>\n",
       "      <td>0</td>\n",
       "      <td>6</td>\n",
       "      <td>403174</td>\n",
       "      <td>0</td>\n",
       "      <td>0</td>\n",
       "      <td>0</td>\n",
       "    </tr>\n",
       "    <tr>\n",
       "      <th>2</th>\n",
       "      <td>2015-01-01</td>\n",
       "      <td>S1F01E6Y</td>\n",
       "      <td>0</td>\n",
       "      <td>173295968</td>\n",
       "      <td>0</td>\n",
       "      <td>0</td>\n",
       "      <td>0</td>\n",
       "      <td>12</td>\n",
       "      <td>237394</td>\n",
       "      <td>0</td>\n",
       "      <td>0</td>\n",
       "      <td>0</td>\n",
       "    </tr>\n",
       "    <tr>\n",
       "      <th>3</th>\n",
       "      <td>2015-01-01</td>\n",
       "      <td>S1F01JE0</td>\n",
       "      <td>0</td>\n",
       "      <td>79694024</td>\n",
       "      <td>0</td>\n",
       "      <td>0</td>\n",
       "      <td>0</td>\n",
       "      <td>6</td>\n",
       "      <td>410186</td>\n",
       "      <td>0</td>\n",
       "      <td>0</td>\n",
       "      <td>0</td>\n",
       "    </tr>\n",
       "    <tr>\n",
       "      <th>4</th>\n",
       "      <td>2015-01-01</td>\n",
       "      <td>S1F01R2B</td>\n",
       "      <td>0</td>\n",
       "      <td>135970480</td>\n",
       "      <td>0</td>\n",
       "      <td>0</td>\n",
       "      <td>0</td>\n",
       "      <td>15</td>\n",
       "      <td>313173</td>\n",
       "      <td>0</td>\n",
       "      <td>0</td>\n",
       "      <td>3</td>\n",
       "    </tr>\n",
       "  </tbody>\n",
       "</table>\n",
       "</div>"
      ],
      "text/plain": [
       "         date    device  failure  attribute1  attribute2  attribute3  \\\n",
       "0  2015-01-01  S1F01085        0   215630672          56           0   \n",
       "1  2015-01-01  S1F0166B        0    61370680           0           3   \n",
       "2  2015-01-01  S1F01E6Y        0   173295968           0           0   \n",
       "3  2015-01-01  S1F01JE0        0    79694024           0           0   \n",
       "4  2015-01-01  S1F01R2B        0   135970480           0           0   \n",
       "\n",
       "   attribute4  attribute5  attribute6  attribute7  attribute8  attribute9  \n",
       "0          52           6      407438           0           0           7  \n",
       "1           0           6      403174           0           0           0  \n",
       "2           0          12      237394           0           0           0  \n",
       "3           0           6      410186           0           0           0  \n",
       "4           0          15      313173           0           0           3  "
      ]
     },
     "execution_count": 4,
     "metadata": {},
     "output_type": "execute_result"
    }
   ],
   "source": [
    "df.head()"
   ]
  },
  {
   "cell_type": "code",
   "execution_count": 5,
   "id": "0800ec8f",
   "metadata": {},
   "outputs": [
    {
     "data": {
      "text/html": [
       "<div>\n",
       "<style scoped>\n",
       "    .dataframe tbody tr th:only-of-type {\n",
       "        vertical-align: middle;\n",
       "    }\n",
       "\n",
       "    .dataframe tbody tr th {\n",
       "        vertical-align: top;\n",
       "    }\n",
       "\n",
       "    .dataframe thead th {\n",
       "        text-align: right;\n",
       "    }\n",
       "</style>\n",
       "<table border=\"1\" class=\"dataframe\">\n",
       "  <thead>\n",
       "    <tr style=\"text-align: right;\">\n",
       "      <th></th>\n",
       "      <th>failure</th>\n",
       "      <th>attribute1</th>\n",
       "      <th>attribute2</th>\n",
       "      <th>attribute3</th>\n",
       "      <th>attribute4</th>\n",
       "      <th>attribute5</th>\n",
       "      <th>attribute6</th>\n",
       "      <th>attribute7</th>\n",
       "      <th>attribute8</th>\n",
       "      <th>attribute9</th>\n",
       "    </tr>\n",
       "  </thead>\n",
       "  <tbody>\n",
       "    <tr>\n",
       "      <th>count</th>\n",
       "      <td>124494.000000</td>\n",
       "      <td>1.244940e+05</td>\n",
       "      <td>124494.000000</td>\n",
       "      <td>124494.000000</td>\n",
       "      <td>124494.000000</td>\n",
       "      <td>124494.000000</td>\n",
       "      <td>124494.000000</td>\n",
       "      <td>124494.000000</td>\n",
       "      <td>124494.000000</td>\n",
       "      <td>124494.000000</td>\n",
       "    </tr>\n",
       "    <tr>\n",
       "      <th>mean</th>\n",
       "      <td>0.000851</td>\n",
       "      <td>1.223868e+08</td>\n",
       "      <td>159.484762</td>\n",
       "      <td>9.940455</td>\n",
       "      <td>1.741120</td>\n",
       "      <td>14.222693</td>\n",
       "      <td>260172.858025</td>\n",
       "      <td>0.292528</td>\n",
       "      <td>0.292528</td>\n",
       "      <td>12.451524</td>\n",
       "    </tr>\n",
       "    <tr>\n",
       "      <th>std</th>\n",
       "      <td>0.029167</td>\n",
       "      <td>7.045960e+07</td>\n",
       "      <td>2179.657730</td>\n",
       "      <td>185.747321</td>\n",
       "      <td>22.908507</td>\n",
       "      <td>15.943021</td>\n",
       "      <td>99151.009852</td>\n",
       "      <td>7.436924</td>\n",
       "      <td>7.436924</td>\n",
       "      <td>191.425623</td>\n",
       "    </tr>\n",
       "    <tr>\n",
       "      <th>min</th>\n",
       "      <td>0.000000</td>\n",
       "      <td>0.000000e+00</td>\n",
       "      <td>0.000000</td>\n",
       "      <td>0.000000</td>\n",
       "      <td>0.000000</td>\n",
       "      <td>1.000000</td>\n",
       "      <td>8.000000</td>\n",
       "      <td>0.000000</td>\n",
       "      <td>0.000000</td>\n",
       "      <td>0.000000</td>\n",
       "    </tr>\n",
       "    <tr>\n",
       "      <th>25%</th>\n",
       "      <td>0.000000</td>\n",
       "      <td>6.127675e+07</td>\n",
       "      <td>0.000000</td>\n",
       "      <td>0.000000</td>\n",
       "      <td>0.000000</td>\n",
       "      <td>8.000000</td>\n",
       "      <td>221452.000000</td>\n",
       "      <td>0.000000</td>\n",
       "      <td>0.000000</td>\n",
       "      <td>0.000000</td>\n",
       "    </tr>\n",
       "    <tr>\n",
       "      <th>50%</th>\n",
       "      <td>0.000000</td>\n",
       "      <td>1.227957e+08</td>\n",
       "      <td>0.000000</td>\n",
       "      <td>0.000000</td>\n",
       "      <td>0.000000</td>\n",
       "      <td>10.000000</td>\n",
       "      <td>249799.500000</td>\n",
       "      <td>0.000000</td>\n",
       "      <td>0.000000</td>\n",
       "      <td>0.000000</td>\n",
       "    </tr>\n",
       "    <tr>\n",
       "      <th>75%</th>\n",
       "      <td>0.000000</td>\n",
       "      <td>1.833084e+08</td>\n",
       "      <td>0.000000</td>\n",
       "      <td>0.000000</td>\n",
       "      <td>0.000000</td>\n",
       "      <td>12.000000</td>\n",
       "      <td>310266.000000</td>\n",
       "      <td>0.000000</td>\n",
       "      <td>0.000000</td>\n",
       "      <td>0.000000</td>\n",
       "    </tr>\n",
       "    <tr>\n",
       "      <th>max</th>\n",
       "      <td>1.000000</td>\n",
       "      <td>2.441405e+08</td>\n",
       "      <td>64968.000000</td>\n",
       "      <td>24929.000000</td>\n",
       "      <td>1666.000000</td>\n",
       "      <td>98.000000</td>\n",
       "      <td>689161.000000</td>\n",
       "      <td>832.000000</td>\n",
       "      <td>832.000000</td>\n",
       "      <td>18701.000000</td>\n",
       "    </tr>\n",
       "  </tbody>\n",
       "</table>\n",
       "</div>"
      ],
      "text/plain": [
       "             failure    attribute1     attribute2     attribute3  \\\n",
       "count  124494.000000  1.244940e+05  124494.000000  124494.000000   \n",
       "mean        0.000851  1.223868e+08     159.484762       9.940455   \n",
       "std         0.029167  7.045960e+07    2179.657730     185.747321   \n",
       "min         0.000000  0.000000e+00       0.000000       0.000000   \n",
       "25%         0.000000  6.127675e+07       0.000000       0.000000   \n",
       "50%         0.000000  1.227957e+08       0.000000       0.000000   \n",
       "75%         0.000000  1.833084e+08       0.000000       0.000000   \n",
       "max         1.000000  2.441405e+08   64968.000000   24929.000000   \n",
       "\n",
       "          attribute4     attribute5     attribute6     attribute7  \\\n",
       "count  124494.000000  124494.000000  124494.000000  124494.000000   \n",
       "mean        1.741120      14.222693  260172.858025       0.292528   \n",
       "std        22.908507      15.943021   99151.009852       7.436924   \n",
       "min         0.000000       1.000000       8.000000       0.000000   \n",
       "25%         0.000000       8.000000  221452.000000       0.000000   \n",
       "50%         0.000000      10.000000  249799.500000       0.000000   \n",
       "75%         0.000000      12.000000  310266.000000       0.000000   \n",
       "max      1666.000000      98.000000  689161.000000     832.000000   \n",
       "\n",
       "          attribute8     attribute9  \n",
       "count  124494.000000  124494.000000  \n",
       "mean        0.292528      12.451524  \n",
       "std         7.436924     191.425623  \n",
       "min         0.000000       0.000000  \n",
       "25%         0.000000       0.000000  \n",
       "50%         0.000000       0.000000  \n",
       "75%         0.000000       0.000000  \n",
       "max       832.000000   18701.000000  "
      ]
     },
     "execution_count": 5,
     "metadata": {},
     "output_type": "execute_result"
    }
   ],
   "source": [
    "df.describe()"
   ]
  },
  {
   "cell_type": "code",
   "execution_count": 6,
   "id": "f45f8b16",
   "metadata": {},
   "outputs": [
    {
     "data": {
      "text/plain": [
       "date          0\n",
       "device        0\n",
       "failure       0\n",
       "attribute1    0\n",
       "attribute2    0\n",
       "attribute3    0\n",
       "attribute4    0\n",
       "attribute5    0\n",
       "attribute6    0\n",
       "attribute7    0\n",
       "attribute8    0\n",
       "attribute9    0\n",
       "dtype: int64"
      ]
     },
     "execution_count": 6,
     "metadata": {},
     "output_type": "execute_result"
    }
   ],
   "source": [
    "df.isnull().sum()"
   ]
  },
  {
   "cell_type": "code",
   "execution_count": 8,
   "id": "2d673798",
   "metadata": {},
   "outputs": [
    {
     "data": {
      "text/html": [
       "<div>\n",
       "<style scoped>\n",
       "    .dataframe tbody tr th:only-of-type {\n",
       "        vertical-align: middle;\n",
       "    }\n",
       "\n",
       "    .dataframe tbody tr th {\n",
       "        vertical-align: top;\n",
       "    }\n",
       "\n",
       "    .dataframe thead th {\n",
       "        text-align: right;\n",
       "    }\n",
       "</style>\n",
       "<table border=\"1\" class=\"dataframe\">\n",
       "  <thead>\n",
       "    <tr style=\"text-align: right;\">\n",
       "      <th></th>\n",
       "      <th>failure</th>\n",
       "      <th>attribute1</th>\n",
       "      <th>attribute2</th>\n",
       "      <th>attribute3</th>\n",
       "      <th>attribute4</th>\n",
       "      <th>attribute5</th>\n",
       "      <th>attribute6</th>\n",
       "      <th>attribute7</th>\n",
       "      <th>attribute8</th>\n",
       "      <th>attribute9</th>\n",
       "    </tr>\n",
       "  </thead>\n",
       "  <tbody>\n",
       "    <tr>\n",
       "      <th>failure</th>\n",
       "      <td>1.000000</td>\n",
       "      <td>0.001984</td>\n",
       "      <td>0.052902</td>\n",
       "      <td>-0.000948</td>\n",
       "      <td>0.067398</td>\n",
       "      <td>0.002270</td>\n",
       "      <td>-0.000550</td>\n",
       "      <td>0.119055</td>\n",
       "      <td>0.119055</td>\n",
       "      <td>0.001622</td>\n",
       "    </tr>\n",
       "    <tr>\n",
       "      <th>attribute1</th>\n",
       "      <td>0.001984</td>\n",
       "      <td>1.000000</td>\n",
       "      <td>-0.004248</td>\n",
       "      <td>0.003702</td>\n",
       "      <td>0.001837</td>\n",
       "      <td>-0.003370</td>\n",
       "      <td>-0.001516</td>\n",
       "      <td>0.000151</td>\n",
       "      <td>0.000151</td>\n",
       "      <td>0.001122</td>\n",
       "    </tr>\n",
       "    <tr>\n",
       "      <th>attribute2</th>\n",
       "      <td>0.052902</td>\n",
       "      <td>-0.004248</td>\n",
       "      <td>1.000000</td>\n",
       "      <td>-0.002617</td>\n",
       "      <td>0.146593</td>\n",
       "      <td>-0.013999</td>\n",
       "      <td>-0.026350</td>\n",
       "      <td>0.141367</td>\n",
       "      <td>0.141367</td>\n",
       "      <td>-0.002736</td>\n",
       "    </tr>\n",
       "    <tr>\n",
       "      <th>attribute3</th>\n",
       "      <td>-0.000948</td>\n",
       "      <td>0.003702</td>\n",
       "      <td>-0.002617</td>\n",
       "      <td>1.000000</td>\n",
       "      <td>0.097452</td>\n",
       "      <td>-0.006696</td>\n",
       "      <td>0.009027</td>\n",
       "      <td>-0.001884</td>\n",
       "      <td>-0.001884</td>\n",
       "      <td>0.532366</td>\n",
       "    </tr>\n",
       "    <tr>\n",
       "      <th>attribute4</th>\n",
       "      <td>0.067398</td>\n",
       "      <td>0.001837</td>\n",
       "      <td>0.146593</td>\n",
       "      <td>0.097452</td>\n",
       "      <td>1.000000</td>\n",
       "      <td>-0.009773</td>\n",
       "      <td>0.024870</td>\n",
       "      <td>0.045631</td>\n",
       "      <td>0.045631</td>\n",
       "      <td>0.036069</td>\n",
       "    </tr>\n",
       "    <tr>\n",
       "      <th>attribute5</th>\n",
       "      <td>0.002270</td>\n",
       "      <td>-0.003370</td>\n",
       "      <td>-0.013999</td>\n",
       "      <td>-0.006696</td>\n",
       "      <td>-0.009773</td>\n",
       "      <td>1.000000</td>\n",
       "      <td>-0.017051</td>\n",
       "      <td>-0.009384</td>\n",
       "      <td>-0.009384</td>\n",
       "      <td>0.005949</td>\n",
       "    </tr>\n",
       "    <tr>\n",
       "      <th>attribute6</th>\n",
       "      <td>-0.000550</td>\n",
       "      <td>-0.001516</td>\n",
       "      <td>-0.026350</td>\n",
       "      <td>0.009027</td>\n",
       "      <td>0.024870</td>\n",
       "      <td>-0.017051</td>\n",
       "      <td>1.000000</td>\n",
       "      <td>-0.012207</td>\n",
       "      <td>-0.012207</td>\n",
       "      <td>0.021152</td>\n",
       "    </tr>\n",
       "    <tr>\n",
       "      <th>attribute7</th>\n",
       "      <td>0.119055</td>\n",
       "      <td>0.000151</td>\n",
       "      <td>0.141367</td>\n",
       "      <td>-0.001884</td>\n",
       "      <td>0.045631</td>\n",
       "      <td>-0.009384</td>\n",
       "      <td>-0.012207</td>\n",
       "      <td>1.000000</td>\n",
       "      <td>1.000000</td>\n",
       "      <td>0.006861</td>\n",
       "    </tr>\n",
       "    <tr>\n",
       "      <th>attribute8</th>\n",
       "      <td>0.119055</td>\n",
       "      <td>0.000151</td>\n",
       "      <td>0.141367</td>\n",
       "      <td>-0.001884</td>\n",
       "      <td>0.045631</td>\n",
       "      <td>-0.009384</td>\n",
       "      <td>-0.012207</td>\n",
       "      <td>1.000000</td>\n",
       "      <td>1.000000</td>\n",
       "      <td>0.006861</td>\n",
       "    </tr>\n",
       "    <tr>\n",
       "      <th>attribute9</th>\n",
       "      <td>0.001622</td>\n",
       "      <td>0.001122</td>\n",
       "      <td>-0.002736</td>\n",
       "      <td>0.532366</td>\n",
       "      <td>0.036069</td>\n",
       "      <td>0.005949</td>\n",
       "      <td>0.021152</td>\n",
       "      <td>0.006861</td>\n",
       "      <td>0.006861</td>\n",
       "      <td>1.000000</td>\n",
       "    </tr>\n",
       "  </tbody>\n",
       "</table>\n",
       "</div>"
      ],
      "text/plain": [
       "             failure  attribute1  attribute2  attribute3  attribute4  \\\n",
       "failure     1.000000    0.001984    0.052902   -0.000948    0.067398   \n",
       "attribute1  0.001984    1.000000   -0.004248    0.003702    0.001837   \n",
       "attribute2  0.052902   -0.004248    1.000000   -0.002617    0.146593   \n",
       "attribute3 -0.000948    0.003702   -0.002617    1.000000    0.097452   \n",
       "attribute4  0.067398    0.001837    0.146593    0.097452    1.000000   \n",
       "attribute5  0.002270   -0.003370   -0.013999   -0.006696   -0.009773   \n",
       "attribute6 -0.000550   -0.001516   -0.026350    0.009027    0.024870   \n",
       "attribute7  0.119055    0.000151    0.141367   -0.001884    0.045631   \n",
       "attribute8  0.119055    0.000151    0.141367   -0.001884    0.045631   \n",
       "attribute9  0.001622    0.001122   -0.002736    0.532366    0.036069   \n",
       "\n",
       "            attribute5  attribute6  attribute7  attribute8  attribute9  \n",
       "failure       0.002270   -0.000550    0.119055    0.119055    0.001622  \n",
       "attribute1   -0.003370   -0.001516    0.000151    0.000151    0.001122  \n",
       "attribute2   -0.013999   -0.026350    0.141367    0.141367   -0.002736  \n",
       "attribute3   -0.006696    0.009027   -0.001884   -0.001884    0.532366  \n",
       "attribute4   -0.009773    0.024870    0.045631    0.045631    0.036069  \n",
       "attribute5    1.000000   -0.017051   -0.009384   -0.009384    0.005949  \n",
       "attribute6   -0.017051    1.000000   -0.012207   -0.012207    0.021152  \n",
       "attribute7   -0.009384   -0.012207    1.000000    1.000000    0.006861  \n",
       "attribute8   -0.009384   -0.012207    1.000000    1.000000    0.006861  \n",
       "attribute9    0.005949    0.021152    0.006861    0.006861    1.000000  "
      ]
     },
     "execution_count": 8,
     "metadata": {},
     "output_type": "execute_result"
    }
   ],
   "source": [
    "df.corr(numeric_only=True)"
   ]
  },
  {
   "cell_type": "code",
   "execution_count": 10,
   "id": "02629dbd",
   "metadata": {},
   "outputs": [
    {
     "data": {
      "text/plain": [
       "failure       1.000000\n",
       "attribute7    0.119055\n",
       "attribute8    0.119055\n",
       "attribute4    0.067398\n",
       "attribute2    0.052902\n",
       "attribute5    0.002270\n",
       "attribute1    0.001984\n",
       "attribute9    0.001622\n",
       "attribute3    0.000948\n",
       "attribute6    0.000550\n",
       "Name: failure, dtype: float64"
      ]
     },
     "execution_count": 10,
     "metadata": {},
     "output_type": "execute_result"
    }
   ],
   "source": [
    "abs(df.corr(numeric_only=True)['failure']).sort_values(ascending=False)"
   ]
  },
  {
   "cell_type": "code",
   "execution_count": 11,
   "id": "a278d3be",
   "metadata": {},
   "outputs": [
    {
     "data": {
      "text/html": [
       "<div>\n",
       "<style scoped>\n",
       "    .dataframe tbody tr th:only-of-type {\n",
       "        vertical-align: middle;\n",
       "    }\n",
       "\n",
       "    .dataframe tbody tr th {\n",
       "        vertical-align: top;\n",
       "    }\n",
       "\n",
       "    .dataframe thead th {\n",
       "        text-align: right;\n",
       "    }\n",
       "</style>\n",
       "<table border=\"1\" class=\"dataframe\">\n",
       "  <thead>\n",
       "    <tr style=\"text-align: right;\">\n",
       "      <th></th>\n",
       "      <th>count</th>\n",
       "    </tr>\n",
       "    <tr>\n",
       "      <th>failure</th>\n",
       "      <th></th>\n",
       "    </tr>\n",
       "  </thead>\n",
       "  <tbody>\n",
       "    <tr>\n",
       "      <th>0</th>\n",
       "      <td>124388</td>\n",
       "    </tr>\n",
       "    <tr>\n",
       "      <th>1</th>\n",
       "      <td>106</td>\n",
       "    </tr>\n",
       "  </tbody>\n",
       "</table>\n",
       "</div>"
      ],
      "text/plain": [
       "          count\n",
       "failure        \n",
       "0        124388\n",
       "1           106"
      ]
     },
     "execution_count": 11,
     "metadata": {},
     "output_type": "execute_result"
    }
   ],
   "source": [
    "df['failure'].value_counts().to_frame()"
   ]
  },
  {
   "cell_type": "markdown",
   "id": "b689fe4a",
   "metadata": {},
   "source": [
    "### Data Visualization"
   ]
  },
  {
   "cell_type": "code",
   "execution_count": 13,
   "id": "e10f2806",
   "metadata": {},
   "outputs": [
    {
     "data": {
      "image/png": "[encoded data removed]",
      "text/plain": [
       "<Figure size 1000x1000 with 2 Axes>"
      ]
     },
     "metadata": {},
     "output_type": "display_data"
    }
   ],
   "source": [
    "ax = plt.subplots(figsize = (10,10))\n",
    "sns.heatmap(df.corr(numeric_only=True),annot = True);"
   ]
  },
  {
   "cell_type": "code",
   "execution_count": 14,
   "id": "62f42662",
   "metadata": {},
   "outputs": [
    {
     "data": {
      "image/png": "[encoded data removed]",
      "text/plain": [
       "<Figure size 640x480 with 1 Axes>"
      ]
     },
     "metadata": {},
     "output_type": "display_data"
    },
    {
     "data": {
      "image/png": "[encoded data removed]",
      "text/plain": [
       "<Figure size 640x480 with 1 Axes>"
      ]
     },
     "metadata": {},
     "output_type": "display_data"
    },
    {
     "data": {
      "image/png": "[encoded data removed]",
      "text/plain": [
       "<Figure size 640x480 with 1 Axes>"
      ]
     },
     "metadata": {},
     "output_type": "display_data"
    },
    {
     "data": {
      "image/png": "[encoded data removed]",
      "text/plain": [
       "<Figure size 640x480 with 1 Axes>"
      ]
     },
     "metadata": {},
     "output_type": "display_data"
    },
    {
     "data": {
      "image/png": "[encoded data removed]",
      "text/plain": [
       "<Figure size 640x480 with 1 Axes>"
      ]
     },
     "metadata": {},
     "output_type": "display_data"
    },
    {
     "data": {
      "image/png": "[encoded data removed]",
      "text/plain": [
       "<Figure size 640x480 with 1 Axes>"
      ]
     },
     "metadata": {},
     "output_type": "display_data"
    },
    {
     "data": {
      "image/png": "[encoded data removed]",
      "text/plain": [
       "<Figure size 640x480 with 1 Axes>"
      ]
     },
     "metadata": {},
     "output_type": "display_data"
    },
    {
     "data": {
      "image/png": "[encoded data removed]",
      "text/plain": [
       "<Figure size 640x480 with 1 Axes>"
      ]
     },
     "metadata": {},
     "output_type": "display_data"
    },
    {
     "data": {
      "image/png": "[encoded data removed]",
      "text/plain": [
       "<Figure size 640x480 with 1 Axes>"
      ]
     },
     "metadata": {},
     "output_type": "display_data"
    },
    {
     "data": {
      "image/png": "[encoded data removed]",
      "text/plain": [
       "<Figure size 640x480 with 1 Axes>"
      ]
     },
     "metadata": {},
     "output_type": "display_data"
    }
   ],
   "source": [
    "for i in df.select_dtypes(include=np.number):\n",
    "    sns.boxplot(df[i])\n",
    "    plt.show()"
   ]
  },
  {
   "cell_type": "markdown",
   "id": "5930c14b",
   "metadata": {},
   "source": [
    "### Feature Engineering"
   ]
  },
  {
   "cell_type": "code",
   "execution_count": 15,
   "id": "85b31e06",
   "metadata": {},
   "outputs": [],
   "source": [
    "df[\"date\"]=pd.to_datetime(df[\"date\"])"
   ]
  },
  {
   "cell_type": "code",
   "execution_count": 16,
   "id": "1ec444fb",
   "metadata": {},
   "outputs": [],
   "source": [
    "df[\"year\"]=2021-df[\"date\"].dt.year\n",
    "df[\"month\"]=df[\"date\"].dt.month\n",
    "df[\"day\"]=df[\"date\"].dt.day"
   ]
  },
  {
   "cell_type": "code",
   "execution_count": 17,
   "id": "62fd38e9",
   "metadata": {},
   "outputs": [
    {
     "data": {
      "text/html": [
       "<div>\n",
       "<style scoped>\n",
       "    .dataframe tbody tr th:only-of-type {\n",
       "        vertical-align: middle;\n",
       "    }\n",
       "\n",
       "    .dataframe tbody tr th {\n",
       "        vertical-align: top;\n",
       "    }\n",
       "\n",
       "    .dataframe thead th {\n",
       "        text-align: right;\n",
       "    }\n",
       "</style>\n",
       "<table border=\"1\" class=\"dataframe\">\n",
       "  <thead>\n",
       "    <tr style=\"text-align: right;\">\n",
       "      <th></th>\n",
       "      <th>date</th>\n",
       "      <th>device</th>\n",
       "      <th>failure</th>\n",
       "      <th>attribute1</th>\n",
       "      <th>attribute2</th>\n",
       "      <th>attribute3</th>\n",
       "      <th>attribute4</th>\n",
       "      <th>attribute5</th>\n",
       "      <th>attribute6</th>\n",
       "      <th>attribute7</th>\n",
       "      <th>attribute8</th>\n",
       "      <th>attribute9</th>\n",
       "      <th>year</th>\n",
       "      <th>month</th>\n",
       "      <th>day</th>\n",
       "    </tr>\n",
       "  </thead>\n",
       "  <tbody>\n",
       "    <tr>\n",
       "      <th>33252</th>\n",
       "      <td>2015-02-12</td>\n",
       "      <td>W1F0R8W2</td>\n",
       "      <td>0</td>\n",
       "      <td>35694656</td>\n",
       "      <td>0</td>\n",
       "      <td>0</td>\n",
       "      <td>0</td>\n",
       "      <td>12</td>\n",
       "      <td>309996</td>\n",
       "      <td>0</td>\n",
       "      <td>0</td>\n",
       "      <td>0</td>\n",
       "      <td>6</td>\n",
       "      <td>2</td>\n",
       "      <td>12</td>\n",
       "    </tr>\n",
       "    <tr>\n",
       "      <th>61709</th>\n",
       "      <td>2015-03-26</td>\n",
       "      <td>W1F1C0R9</td>\n",
       "      <td>0</td>\n",
       "      <td>112053296</td>\n",
       "      <td>0</td>\n",
       "      <td>1</td>\n",
       "      <td>0</td>\n",
       "      <td>11</td>\n",
       "      <td>224804</td>\n",
       "      <td>0</td>\n",
       "      <td>0</td>\n",
       "      <td>2</td>\n",
       "      <td>6</td>\n",
       "      <td>3</td>\n",
       "      <td>26</td>\n",
       "    </tr>\n",
       "    <tr>\n",
       "      <th>112993</th>\n",
       "      <td>2015-08-14</td>\n",
       "      <td>S1F0S4MG</td>\n",
       "      <td>0</td>\n",
       "      <td>54402176</td>\n",
       "      <td>0</td>\n",
       "      <td>0</td>\n",
       "      <td>0</td>\n",
       "      <td>14</td>\n",
       "      <td>290114</td>\n",
       "      <td>0</td>\n",
       "      <td>0</td>\n",
       "      <td>0</td>\n",
       "      <td>6</td>\n",
       "      <td>8</td>\n",
       "      <td>14</td>\n",
       "    </tr>\n",
       "    <tr>\n",
       "      <th>121348</th>\n",
       "      <td>2015-09-29</td>\n",
       "      <td>Z1F0LNQB</td>\n",
       "      <td>0</td>\n",
       "      <td>48864560</td>\n",
       "      <td>0</td>\n",
       "      <td>0</td>\n",
       "      <td>0</td>\n",
       "      <td>10</td>\n",
       "      <td>526185</td>\n",
       "      <td>0</td>\n",
       "      <td>0</td>\n",
       "      <td>0</td>\n",
       "      <td>6</td>\n",
       "      <td>9</td>\n",
       "      <td>29</td>\n",
       "    </tr>\n",
       "    <tr>\n",
       "      <th>114222</th>\n",
       "      <td>2015-08-18</td>\n",
       "      <td>W1F1DN3S</td>\n",
       "      <td>0</td>\n",
       "      <td>148096072</td>\n",
       "      <td>0</td>\n",
       "      <td>0</td>\n",
       "      <td>0</td>\n",
       "      <td>11</td>\n",
       "      <td>251819</td>\n",
       "      <td>0</td>\n",
       "      <td>0</td>\n",
       "      <td>0</td>\n",
       "      <td>6</td>\n",
       "      <td>8</td>\n",
       "      <td>18</td>\n",
       "    </tr>\n",
       "    <tr>\n",
       "      <th>76853</th>\n",
       "      <td>2015-05-02</td>\n",
       "      <td>S1F11G2C</td>\n",
       "      <td>0</td>\n",
       "      <td>118368408</td>\n",
       "      <td>0</td>\n",
       "      <td>0</td>\n",
       "      <td>0</td>\n",
       "      <td>16</td>\n",
       "      <td>340964</td>\n",
       "      <td>0</td>\n",
       "      <td>0</td>\n",
       "      <td>0</td>\n",
       "      <td>6</td>\n",
       "      <td>5</td>\n",
       "      <td>2</td>\n",
       "    </tr>\n",
       "    <tr>\n",
       "      <th>124390</th>\n",
       "      <td>2015-10-29</td>\n",
       "      <td>W1F0N84F</td>\n",
       "      <td>0</td>\n",
       "      <td>220571872</td>\n",
       "      <td>0</td>\n",
       "      <td>0</td>\n",
       "      <td>0</td>\n",
       "      <td>8</td>\n",
       "      <td>401071</td>\n",
       "      <td>0</td>\n",
       "      <td>0</td>\n",
       "      <td>1</td>\n",
       "      <td>6</td>\n",
       "      <td>10</td>\n",
       "      <td>29</td>\n",
       "    </tr>\n",
       "    <tr>\n",
       "      <th>55251</th>\n",
       "      <td>2015-03-16</td>\n",
       "      <td>Z1F0M0XP</td>\n",
       "      <td>0</td>\n",
       "      <td>93544232</td>\n",
       "      <td>0</td>\n",
       "      <td>0</td>\n",
       "      <td>0</td>\n",
       "      <td>10</td>\n",
       "      <td>317626</td>\n",
       "      <td>0</td>\n",
       "      <td>0</td>\n",
       "      <td>3</td>\n",
       "      <td>6</td>\n",
       "      <td>3</td>\n",
       "      <td>16</td>\n",
       "    </tr>\n",
       "    <tr>\n",
       "      <th>69997</th>\n",
       "      <td>2015-04-13</td>\n",
       "      <td>W1F1B0KF</td>\n",
       "      <td>0</td>\n",
       "      <td>94108504</td>\n",
       "      <td>0</td>\n",
       "      <td>0</td>\n",
       "      <td>0</td>\n",
       "      <td>10</td>\n",
       "      <td>2054</td>\n",
       "      <td>0</td>\n",
       "      <td>0</td>\n",
       "      <td>0</td>\n",
       "      <td>6</td>\n",
       "      <td>4</td>\n",
       "      <td>13</td>\n",
       "    </tr>\n",
       "    <tr>\n",
       "      <th>78138</th>\n",
       "      <td>2015-05-05</td>\n",
       "      <td>Z1F0MBGF</td>\n",
       "      <td>0</td>\n",
       "      <td>158060392</td>\n",
       "      <td>0</td>\n",
       "      <td>0</td>\n",
       "      <td>0</td>\n",
       "      <td>57</td>\n",
       "      <td>246204</td>\n",
       "      <td>0</td>\n",
       "      <td>0</td>\n",
       "      <td>0</td>\n",
       "      <td>6</td>\n",
       "      <td>5</td>\n",
       "      <td>5</td>\n",
       "    </tr>\n",
       "  </tbody>\n",
       "</table>\n",
       "</div>"
      ],
      "text/plain": [
       "             date    device  failure  attribute1  attribute2  attribute3  \\\n",
       "33252  2015-02-12  W1F0R8W2        0    35694656           0           0   \n",
       "61709  2015-03-26  W1F1C0R9        0   112053296           0           1   \n",
       "112993 2015-08-14  S1F0S4MG        0    54402176           0           0   \n",
       "121348 2015-09-29  Z1F0LNQB        0    48864560           0           0   \n",
       "114222 2015-08-18  W1F1DN3S        0   148096072           0           0   \n",
       "76853  2015-05-02  S1F11G2C        0   118368408           0           0   \n",
       "124390 2015-10-29  W1F0N84F        0   220571872           0           0   \n",
       "55251  2015-03-16  Z1F0M0XP        0    93544232           0           0   \n",
       "69997  2015-04-13  W1F1B0KF        0    94108504           0           0   \n",
       "78138  2015-05-05  Z1F0MBGF        0   158060392           0           0   \n",
       "\n",
       "        attribute4  attribute5  attribute6  attribute7  attribute8  \\\n",
       "33252            0          12      309996           0           0   \n",
       "61709            0          11      224804           0           0   \n",
       "112993           0          14      290114           0           0   \n",
       "121348           0          10      526185           0           0   \n",
       "114222           0          11      251819           0           0   \n",
       "76853            0          16      340964           0           0   \n",
       "124390           0           8      401071           0           0   \n",
       "55251            0          10      317626           0           0   \n",
       "69997            0          10        2054           0           0   \n",
       "78138            0          57      246204           0           0   \n",
       "\n",
       "        attribute9  year  month  day  \n",
       "33252            0     6      2   12  \n",
       "61709            2     6      3   26  \n",
       "112993           0     6      8   14  \n",
       "121348           0     6      9   29  \n",
       "114222           0     6      8   18  \n",
       "76853            0     6      5    2  \n",
       "124390           1     6     10   29  \n",
       "55251            3     6      3   16  \n",
       "69997            0     6      4   13  \n",
       "78138            0     6      5    5  "
      ]
     },
     "execution_count": 17,
     "metadata": {},
     "output_type": "execute_result"
    }
   ],
   "source": [
    "df.sample(10)"
   ]
  },
  {
   "cell_type": "code",
   "execution_count": 18,
   "id": "0b2f5b85",
   "metadata": {},
   "outputs": [
    {
     "data": {
      "text/plain": [
       "True    124494\n",
       "Name: count, dtype: int64"
      ]
     },
     "execution_count": 18,
     "metadata": {},
     "output_type": "execute_result"
    }
   ],
   "source": [
    "(df[\"attribute7\"]==df[\"attribute8\"]).value_counts()"
   ]
  },
  {
   "cell_type": "code",
   "execution_count": 19,
   "id": "aff99f88",
   "metadata": {},
   "outputs": [
    {
     "data": {
      "text/plain": [
       "year\n",
       "6    124494\n",
       "Name: count, dtype: int64"
      ]
     },
     "execution_count": 19,
     "metadata": {},
     "output_type": "execute_result"
    }
   ],
   "source": [
    "df.year.value_counts()"
   ]
  },
  {
   "cell_type": "code",
   "execution_count": 20,
   "id": "0aed62c4",
   "metadata": {},
   "outputs": [],
   "source": [
    "# Delete #year and #attribute8 because it will not affect our result since all data of the two columns are the same\n",
    "df.drop([\"attribute8\",\"year\"],axis=1,inplace=True)"
   ]
  },
  {
   "cell_type": "code",
   "execution_count": 21,
   "id": "f5cef9e9",
   "metadata": {},
   "outputs": [],
   "source": [
    "# We dont need #date anymore\n",
    "del df[\"date\"]"
   ]
  },
  {
   "cell_type": "code",
   "execution_count": 22,
   "id": "340c5b77",
   "metadata": {},
   "outputs": [
    {
     "name": "stdout",
     "output_type": "stream",
     "text": [
      "<class 'pandas.core.frame.DataFrame'>\n",
      "RangeIndex: 124494 entries, 0 to 124493\n",
      "Data columns (total 12 columns):\n",
      " #   Column      Non-Null Count   Dtype \n",
      "---  ------      --------------   ----- \n",
      " 0   device      124494 non-null  object\n",
      " 1   failure     124494 non-null  int64 \n",
      " 2   attribute1  124494 non-null  int64 \n",
      " 3   attribute2  124494 non-null  int64 \n",
      " 4   attribute3  124494 non-null  int64 \n",
      " 5   attribute4  124494 non-null  int64 \n",
      " 6   attribute5  124494 non-null  int64 \n",
      " 7   attribute6  124494 non-null  int64 \n",
      " 8   attribute7  124494 non-null  int64 \n",
      " 9   attribute9  124494 non-null  int64 \n",
      " 10  month       124494 non-null  int32 \n",
      " 11  day         124494 non-null  int32 \n",
      "dtypes: int32(2), int64(9), object(1)\n",
      "memory usage: 10.4+ MB\n"
     ]
    }
   ],
   "source": [
    "df.info()"
   ]
  },
  {
   "cell_type": "code",
   "execution_count": 23,
   "id": "668c1727",
   "metadata": {},
   "outputs": [
    {
     "data": {
      "text/html": [
       "<div>\n",
       "<style scoped>\n",
       "    .dataframe tbody tr th:only-of-type {\n",
       "        vertical-align: middle;\n",
       "    }\n",
       "\n",
       "    .dataframe tbody tr th {\n",
       "        vertical-align: top;\n",
       "    }\n",
       "\n",
       "    .dataframe thead th {\n",
       "        text-align: right;\n",
       "    }\n",
       "</style>\n",
       "<table border=\"1\" class=\"dataframe\">\n",
       "  <thead>\n",
       "    <tr style=\"text-align: right;\">\n",
       "      <th></th>\n",
       "      <th>device</th>\n",
       "      <th>failure</th>\n",
       "      <th>attribute1</th>\n",
       "      <th>attribute2</th>\n",
       "      <th>attribute3</th>\n",
       "      <th>attribute4</th>\n",
       "      <th>attribute5</th>\n",
       "      <th>attribute6</th>\n",
       "      <th>attribute7</th>\n",
       "      <th>attribute9</th>\n",
       "      <th>month</th>\n",
       "      <th>day</th>\n",
       "    </tr>\n",
       "  </thead>\n",
       "  <tbody>\n",
       "    <tr>\n",
       "      <th>82810</th>\n",
       "      <td>S1F0PJJW</td>\n",
       "      <td>0</td>\n",
       "      <td>145571680</td>\n",
       "      <td>0</td>\n",
       "      <td>0</td>\n",
       "      <td>0</td>\n",
       "      <td>8</td>\n",
       "      <td>269971</td>\n",
       "      <td>0</td>\n",
       "      <td>0</td>\n",
       "      <td>5</td>\n",
       "      <td>18</td>\n",
       "    </tr>\n",
       "    <tr>\n",
       "      <th>40850</th>\n",
       "      <td>W1F0P2TN</td>\n",
       "      <td>0</td>\n",
       "      <td>60433296</td>\n",
       "      <td>0</td>\n",
       "      <td>0</td>\n",
       "      <td>0</td>\n",
       "      <td>12</td>\n",
       "      <td>311685</td>\n",
       "      <td>0</td>\n",
       "      <td>0</td>\n",
       "      <td>2</td>\n",
       "      <td>23</td>\n",
       "    </tr>\n",
       "    <tr>\n",
       "      <th>62378</th>\n",
       "      <td>Z1F0QGSE</td>\n",
       "      <td>0</td>\n",
       "      <td>227784864</td>\n",
       "      <td>0</td>\n",
       "      <td>0</td>\n",
       "      <td>0</td>\n",
       "      <td>32</td>\n",
       "      <td>324474</td>\n",
       "      <td>0</td>\n",
       "      <td>0</td>\n",
       "      <td>3</td>\n",
       "      <td>27</td>\n",
       "    </tr>\n",
       "    <tr>\n",
       "      <th>66291</th>\n",
       "      <td>Z1F19KMH</td>\n",
       "      <td>0</td>\n",
       "      <td>41649464</td>\n",
       "      <td>0</td>\n",
       "      <td>0</td>\n",
       "      <td>0</td>\n",
       "      <td>14</td>\n",
       "      <td>45</td>\n",
       "      <td>0</td>\n",
       "      <td>5</td>\n",
       "      <td>4</td>\n",
       "      <td>4</td>\n",
       "    </tr>\n",
       "    <tr>\n",
       "      <th>121256</th>\n",
       "      <td>S1F1162D</td>\n",
       "      <td>0</td>\n",
       "      <td>242670312</td>\n",
       "      <td>0</td>\n",
       "      <td>0</td>\n",
       "      <td>0</td>\n",
       "      <td>7</td>\n",
       "      <td>297853</td>\n",
       "      <td>0</td>\n",
       "      <td>0</td>\n",
       "      <td>9</td>\n",
       "      <td>29</td>\n",
       "    </tr>\n",
       "    <tr>\n",
       "      <th>3486</th>\n",
       "      <td>Z1F26YZB</td>\n",
       "      <td>0</td>\n",
       "      <td>234190248</td>\n",
       "      <td>0</td>\n",
       "      <td>1</td>\n",
       "      <td>0</td>\n",
       "      <td>1</td>\n",
       "      <td>274150</td>\n",
       "      <td>0</td>\n",
       "      <td>0</td>\n",
       "      <td>1</td>\n",
       "      <td>3</td>\n",
       "    </tr>\n",
       "    <tr>\n",
       "      <th>28781</th>\n",
       "      <td>S1F0TQJ4</td>\n",
       "      <td>0</td>\n",
       "      <td>177082000</td>\n",
       "      <td>0</td>\n",
       "      <td>0</td>\n",
       "      <td>0</td>\n",
       "      <td>8</td>\n",
       "      <td>266104</td>\n",
       "      <td>0</td>\n",
       "      <td>0</td>\n",
       "      <td>2</td>\n",
       "      <td>6</td>\n",
       "    </tr>\n",
       "    <tr>\n",
       "      <th>89703</th>\n",
       "      <td>W1F1CMCY</td>\n",
       "      <td>0</td>\n",
       "      <td>25175800</td>\n",
       "      <td>0</td>\n",
       "      <td>0</td>\n",
       "      <td>0</td>\n",
       "      <td>6</td>\n",
       "      <td>19160</td>\n",
       "      <td>0</td>\n",
       "      <td>0</td>\n",
       "      <td>6</td>\n",
       "      <td>6</td>\n",
       "    </tr>\n",
       "    <tr>\n",
       "      <th>37657</th>\n",
       "      <td>W1F1DQN8</td>\n",
       "      <td>0</td>\n",
       "      <td>181463128</td>\n",
       "      <td>0</td>\n",
       "      <td>0</td>\n",
       "      <td>0</td>\n",
       "      <td>10</td>\n",
       "      <td>29</td>\n",
       "      <td>0</td>\n",
       "      <td>0</td>\n",
       "      <td>2</td>\n",
       "      <td>18</td>\n",
       "    </tr>\n",
       "    <tr>\n",
       "      <th>108064</th>\n",
       "      <td>S1F0GJL9</td>\n",
       "      <td>0</td>\n",
       "      <td>191933648</td>\n",
       "      <td>0</td>\n",
       "      <td>0</td>\n",
       "      <td>0</td>\n",
       "      <td>63</td>\n",
       "      <td>251466</td>\n",
       "      <td>0</td>\n",
       "      <td>0</td>\n",
       "      <td>7</td>\n",
       "      <td>30</td>\n",
       "    </tr>\n",
       "  </tbody>\n",
       "</table>\n",
       "</div>"
      ],
      "text/plain": [
       "          device  failure  attribute1  attribute2  attribute3  attribute4  \\\n",
       "82810   S1F0PJJW        0   145571680           0           0           0   \n",
       "40850   W1F0P2TN        0    60433296           0           0           0   \n",
       "62378   Z1F0QGSE        0   227784864           0           0           0   \n",
       "66291   Z1F19KMH        0    41649464           0           0           0   \n",
       "121256  S1F1162D        0   242670312           0           0           0   \n",
       "3486    Z1F26YZB        0   234190248           0           1           0   \n",
       "28781   S1F0TQJ4        0   177082000           0           0           0   \n",
       "89703   W1F1CMCY        0    25175800           0           0           0   \n",
       "37657   W1F1DQN8        0   181463128           0           0           0   \n",
       "108064  S1F0GJL9        0   191933648           0           0           0   \n",
       "\n",
       "        attribute5  attribute6  attribute7  attribute9  month  day  \n",
       "82810            8      269971           0           0      5   18  \n",
       "40850           12      311685           0           0      2   23  \n",
       "62378           32      324474           0           0      3   27  \n",
       "66291           14          45           0           5      4    4  \n",
       "121256           7      297853           0           0      9   29  \n",
       "3486             1      274150           0           0      1    3  \n",
       "28781            8      266104           0           0      2    6  \n",
       "89703            6       19160           0           0      6    6  \n",
       "37657           10          29           0           0      2   18  \n",
       "108064          63      251466           0           0      7   30  "
      ]
     },
     "execution_count": 23,
     "metadata": {},
     "output_type": "execute_result"
    }
   ],
   "source": [
    "df.sample(10)"
   ]
  },
  {
   "cell_type": "code",
   "execution_count": 24,
   "id": "a42620f4",
   "metadata": {},
   "outputs": [
    {
     "data": {
      "text/plain": [
       "device        0\n",
       "failure       0\n",
       "attribute1    0\n",
       "attribute2    0\n",
       "attribute3    0\n",
       "attribute4    0\n",
       "attribute5    0\n",
       "attribute6    0\n",
       "attribute7    0\n",
       "attribute9    0\n",
       "month         0\n",
       "day           0\n",
       "dtype: int64"
      ]
     },
     "execution_count": 24,
     "metadata": {},
     "output_type": "execute_result"
    }
   ],
   "source": [
    "df.isnull().sum()"
   ]
  },
  {
   "cell_type": "markdown",
   "id": "cfc5472c",
   "metadata": {},
   "source": [
    "### Modeling"
   ]
  },
  {
   "cell_type": "code",
   "execution_count": 25,
   "id": "99f53d40",
   "metadata": {},
   "outputs": [],
   "source": [
    "x,y=df.drop(\"failure\",axis=1),df[\"failure\"]"
   ]
  },
  {
   "cell_type": "code",
   "execution_count": 26,
   "id": "b6db5f95",
   "metadata": {},
   "outputs": [],
   "source": [
    "x=pd.get_dummies(x, drop_first=True)"
   ]
  },
  {
   "cell_type": "code",
   "execution_count": 27,
   "id": "901d374d",
   "metadata": {},
   "outputs": [
    {
     "data": {
      "text/plain": [
       "((124494, 1177), (124494,))"
      ]
     },
     "execution_count": 27,
     "metadata": {},
     "output_type": "execute_result"
    }
   ],
   "source": [
    "x.shape,y.shape"
   ]
  },
  {
   "cell_type": "code",
   "execution_count": 29,
   "id": "beb65b16",
   "metadata": {},
   "outputs": [],
   "source": [
    "from sklearn.naive_bayes import GaussianNB\n",
    "from sklearn.naive_bayes import BernoulliNB\n",
    "from sklearn.linear_model import LogisticRegression\n",
    "from sklearn.tree import DecisionTreeClassifier\n",
    "from sklearn.ensemble import RandomForestClassifier\n",
    "from sklearn.ensemble import GradientBoostingClassifier\n",
    "from sklearn.neighbors import KNeighborsClassifier\n",
    "\n",
    "from sklearn.metrics import accuracy_score, precision_score, recall_score\n",
    "from sklearn.metrics import f1_score, confusion_matrix, classification_report\n",
    "from sklearn.model_selection import train_test_split\n",
    "\n",
    "# Modelleri tanımlayalım\n",
    "g = GaussianNB()\n",
    "b = BernoulliNB()\n",
    "l = LogisticRegression()\n",
    "d = DecisionTreeClassifier()\n",
    "r = RandomForestClassifier()\n",
    "gb= GradientBoostingClassifier()\n",
    "kn= KNeighborsClassifier()\n",
    "\n",
    "# Toplu Classification Model Eğitimi Fonksiyonu\n",
    "def classification_fun(x, y):\n",
    "    modeller=[g, b, l, d, r, gb, kn]\n",
    "    isimler=[\"GaussianNB\", \"BernoulliNB\", \"LogisticRegression\", \"DecisionTreeClassifier\", \n",
    "             \"RandomForestClassifier\", \"GradientBoostingClassifier\", \"KNeighborsClassifier\"]\n",
    "\n",
    "    x_train, x_test, y_train, y_test = train_test_split(x, y, test_size=.2, random_state = 42)\n",
    "    \n",
    "    accuracy = []\n",
    "    precision = []\n",
    "    recall = []\n",
    "    f1 = []\n",
    "    mdl=[]\n",
    "\n",
    "    for model in modeller:\n",
    "        model=model.fit(x_train,y_train)\n",
    "        tahmin=model.predict(np.array(x_test) if model==kn else x_test)\n",
    "        mdl.append(model)\n",
    "        accuracy.append(accuracy_score(tahmin, y_test))\n",
    "        precision.append(precision_score(tahmin, y_test))\n",
    "        recall.append(recall_score(tahmin, y_test))\n",
    "        f1.append(f1_score(tahmin, y_test))\n",
    "        \n",
    "    metrics=pd.DataFrame(columns=[\"Accuracy\", \"Precision\", \"Recall\", \"F1\", \"Model\"], index=isimler)\n",
    "    metrics[\"Accuracy\"] = accuracy\n",
    "    metrics[\"Precision\"] = precision  \n",
    "    metrics[\"Recall\"] = recall\n",
    "    metrics[\"F1\"] = f1\n",
    "    metrics[\"Model\"]=mdl\n",
    "\n",
    "    metrics.sort_values(\"F1\", ascending=False, inplace=True)\n",
    "\n",
    "    print(\"The most successful model: \", metrics.iloc[0].name)\n",
    "    print(classification_report(metrics.iloc[0,-1].predict(x_test), y_test))\n",
    "    \n",
    "    return metrics.drop(\"Model\", axis=1)"
   ]
  },
  {
   "cell_type": "code",
   "execution_count": 30,
   "id": "46f143cc",
   "metadata": {},
   "outputs": [
    {
     "name": "stdout",
     "output_type": "stream",
     "text": [
      "The most successful model:  GaussianNB\n",
      "              precision    recall  f1-score   support\n",
      "\n",
      "           0       1.00      1.00      1.00     24861\n",
      "           1       0.11      0.05      0.07        38\n",
      "\n",
      "    accuracy                           1.00     24899\n",
      "   macro avg       0.55      0.53      0.54     24899\n",
      "weighted avg       1.00      1.00      1.00     24899\n",
      "\n"
     ]
    },
    {
     "data": {
      "text/html": [
       "<div>\n",
       "<style scoped>\n",
       "    .dataframe tbody tr th:only-of-type {\n",
       "        vertical-align: middle;\n",
       "    }\n",
       "\n",
       "    .dataframe tbody tr th {\n",
       "        vertical-align: top;\n",
       "    }\n",
       "\n",
       "    .dataframe thead th {\n",
       "        text-align: right;\n",
       "    }\n",
       "</style>\n",
       "<table border=\"1\" class=\"dataframe\">\n",
       "  <thead>\n",
       "    <tr style=\"text-align: right;\">\n",
       "      <th></th>\n",
       "      <th>Accuracy</th>\n",
       "      <th>Precision</th>\n",
       "      <th>Recall</th>\n",
       "      <th>F1</th>\n",
       "    </tr>\n",
       "  </thead>\n",
       "  <tbody>\n",
       "    <tr>\n",
       "      <th>GaussianNB</th>\n",
       "      <td>0.997912</td>\n",
       "      <td>0.111111</td>\n",
       "      <td>0.052632</td>\n",
       "      <td>0.071429</td>\n",
       "    </tr>\n",
       "    <tr>\n",
       "      <th>BernoulliNB</th>\n",
       "      <td>0.999277</td>\n",
       "      <td>0.000000</td>\n",
       "      <td>0.000000</td>\n",
       "      <td>0.000000</td>\n",
       "    </tr>\n",
       "    <tr>\n",
       "      <th>LogisticRegression</th>\n",
       "      <td>0.999277</td>\n",
       "      <td>0.000000</td>\n",
       "      <td>0.000000</td>\n",
       "      <td>0.000000</td>\n",
       "    </tr>\n",
       "    <tr>\n",
       "      <th>DecisionTreeClassifier</th>\n",
       "      <td>0.998956</td>\n",
       "      <td>0.000000</td>\n",
       "      <td>0.000000</td>\n",
       "      <td>0.000000</td>\n",
       "    </tr>\n",
       "    <tr>\n",
       "      <th>RandomForestClassifier</th>\n",
       "      <td>0.999277</td>\n",
       "      <td>0.000000</td>\n",
       "      <td>0.000000</td>\n",
       "      <td>0.000000</td>\n",
       "    </tr>\n",
       "    <tr>\n",
       "      <th>GradientBoostingClassifier</th>\n",
       "      <td>0.999277</td>\n",
       "      <td>0.000000</td>\n",
       "      <td>0.000000</td>\n",
       "      <td>0.000000</td>\n",
       "    </tr>\n",
       "    <tr>\n",
       "      <th>KNeighborsClassifier</th>\n",
       "      <td>0.999277</td>\n",
       "      <td>0.000000</td>\n",
       "      <td>0.000000</td>\n",
       "      <td>0.000000</td>\n",
       "    </tr>\n",
       "  </tbody>\n",
       "</table>\n",
       "</div>"
      ],
      "text/plain": [
       "                            Accuracy  Precision    Recall        F1\n",
       "GaussianNB                  0.997912   0.111111  0.052632  0.071429\n",
       "BernoulliNB                 0.999277   0.000000  0.000000  0.000000\n",
       "LogisticRegression          0.999277   0.000000  0.000000  0.000000\n",
       "DecisionTreeClassifier      0.998956   0.000000  0.000000  0.000000\n",
       "RandomForestClassifier      0.999277   0.000000  0.000000  0.000000\n",
       "GradientBoostingClassifier  0.999277   0.000000  0.000000  0.000000\n",
       "KNeighborsClassifier        0.999277   0.000000  0.000000  0.000000"
      ]
     },
     "execution_count": 30,
     "metadata": {},
     "output_type": "execute_result"
    }
   ],
   "source": [
    "classification_fun(x,y)"
   ]
  },
  {
   "cell_type": "code",
   "execution_count": 39,
   "id": "a06c129e",
   "metadata": {},
   "outputs": [],
   "source": [
    "#x_train,x_test,y_train,y_test=train_test_split(x,y,random_state=42)"
   ]
  },
  {
   "cell_type": "code",
   "execution_count": null,
   "id": "4afd5a46",
   "metadata": {},
   "outputs": [],
   "source": []
  },
  {
   "cell_type": "code",
   "execution_count": 40,
   "id": "9243e339",
   "metadata": {},
   "outputs": [],
   "source": [
    "g= GaussianNB()\n",
    "b=BernoulliNB()"
   ]
  },
  {
   "cell_type": "code",
   "execution_count": 41,
   "id": "dda94e2c",
   "metadata": {},
   "outputs": [
    {
     "data": {
      "text/plain": [
       "BernoulliNB()"
      ]
     },
     "execution_count": 41,
     "metadata": {},
     "output_type": "execute_result"
    }
   ],
   "source": [
    "g.fit(x,y)\n",
    "b.fit(x,y)"
   ]
  },
  {
   "cell_type": "code",
   "execution_count": 42,
   "id": "2fdde753",
   "metadata": {},
   "outputs": [],
   "source": [
    "guess1=g.predict(x)\n",
    "guess2=b.predict(x)"
   ]
  },
  {
   "cell_type": "code",
   "execution_count": 47,
   "id": "a1f14e20",
   "metadata": {},
   "outputs": [
    {
     "data": {
      "text/plain": [
       "0.9974054974536926"
      ]
     },
     "execution_count": 47,
     "metadata": {},
     "output_type": "execute_result"
    }
   ],
   "source": [
    "accuracy_score(guess1, y)"
   ]
  },
  {
   "cell_type": "code",
   "execution_count": 49,
   "id": "d0eaff77",
   "metadata": {},
   "outputs": [
    {
     "data": {
      "text/plain": [
       "array([[124163,     98],\n",
       "       [   225,      8]])"
      ]
     },
     "execution_count": 49,
     "metadata": {},
     "output_type": "execute_result"
    }
   ],
   "source": [
    "confusion_matrix(guess1, y)"
   ]
  },
  {
   "cell_type": "code",
   "execution_count": 51,
   "id": "3173ebc3",
   "metadata": {},
   "outputs": [
    {
     "name": "stdout",
     "output_type": "stream",
     "text": [
      "              precision    recall  f1-score   support\n",
      "\n",
      "           0       1.00      1.00      1.00    124494\n",
      "           1       0.00      0.00      0.00         0\n",
      "\n",
      "    accuracy                           1.00    124494\n",
      "   macro avg       0.50      0.50      0.50    124494\n",
      "weighted avg       1.00      1.00      1.00    124494\n",
      "\n"
     ]
    }
   ],
   "source": [
    "print(classification_report(guess2, y))"
   ]
  },
  {
   "cell_type": "code",
   "execution_count": 52,
   "id": "a2f4a12d",
   "metadata": {},
   "outputs": [
    {
     "data": {
      "text/plain": [
       "0.9991485533439363"
      ]
     },
     "execution_count": 52,
     "metadata": {},
     "output_type": "execute_result"
    }
   ],
   "source": [
    "accuracy_score(guess2, y)"
   ]
  },
  {
   "cell_type": "code",
   "execution_count": 53,
   "id": "b50a84dd",
   "metadata": {},
   "outputs": [
    {
     "data": {
      "text/plain": [
       "array([[124388,    106],\n",
       "       [     0,      0]])"
      ]
     },
     "execution_count": 53,
     "metadata": {},
     "output_type": "execute_result"
    }
   ],
   "source": [
    "confusion_matrix(guess2, y)"
   ]
  },
  {
   "cell_type": "code",
   "execution_count": null,
   "id": "d79ac539",
   "metadata": {},
   "outputs": [],
   "source": []
  },
  {
   "cell_type": "code",
   "execution_count": null,
   "id": "e6c0666e",
   "metadata": {},
   "outputs": [],
   "source": []
  },
  {
   "cell_type": "code",
   "execution_count": null,
   "id": "fca0c82f",
   "metadata": {},
   "outputs": [],
   "source": []
  }
 ],
 "metadata": {
  "kernelspec": {
   "display_name": "Python 3 (ipykernel)",
   "language": "python",
   "name": "python3"
  },
  "language_info": {
   "codemirror_mode": {
    "name": "ipython",
    "version": 3
   },
   "file_extension": ".py",
   "mimetype": "text/x-python",
   "name": "python",
   "nbconvert_exporter": "python",
   "pygments_lexer": "ipython3",
   "version": "3.11.5"
  }
 },
 "nbformat": 4,
 "nbformat_minor": 5
}

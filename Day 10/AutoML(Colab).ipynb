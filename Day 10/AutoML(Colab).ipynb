{
  "nbformat": 4,
  "nbformat_minor": 0,
  "metadata": {
    "colab": {
      "private_outputs": true,
      "provenance": []
    },
    "kernelspec": {
      "name": "python3",
      "display_name": "Python 3"
    },
    "language_info": {
      "name": "python"
    }
  },
  "cells": [
    {
      "cell_type": "code",
      "execution_count": null,
      "metadata": {
        "id": "9JR-xAyVe6LY"
      },
      "outputs": [],
      "source": [
        "pip install pycaret"
      ]
    },
    {
      "cell_type": "markdown",
      "source": [
        "# Regression"
      ],
      "metadata": {
        "id": "n91Ms1fhfbL1"
      }
    },
    {
      "cell_type": "code",
      "source": [
        "from pycaret.regression import*\n",
        "import pandas as pd"
      ],
      "metadata": {
        "id": "2WhYOz_lfBcO"
      },
      "execution_count": null,
      "outputs": []
    },
    {
      "cell_type": "code",
      "source": [
        "df=pd.read_pickle('kc_house.pkl')"
      ],
      "metadata": {
        "id": "H17M8MNWfmj6"
      },
      "execution_count": null,
      "outputs": []
    },
    {
      "cell_type": "code",
      "source": [
        "setup(data=df, target='price')"
      ],
      "metadata": {
        "id": "gzG7PL16f4vF"
      },
      "execution_count": null,
      "outputs": []
    },
    {
      "cell_type": "code",
      "source": [
        "best_model=compare_models()"
      ],
      "metadata": {
        "id": "2bBNOJkwf-8m"
      },
      "execution_count": null,
      "outputs": []
    },
    {
      "cell_type": "markdown",
      "source": [
        "#Classification"
      ],
      "metadata": {
        "id": "1vkXlSvChIxj"
      }
    },
    {
      "cell_type": "code",
      "source": [
        "from pycaret.classification import*"
      ],
      "metadata": {
        "id": "5GdvjCW-hhei"
      },
      "execution_count": null,
      "outputs": []
    },
    {
      "cell_type": "code",
      "source": [
        "df=pd.read_csv('pima-indians-diabetes.csv')"
      ],
      "metadata": {
        "id": "5fN1ZtfPgDz4"
      },
      "execution_count": null,
      "outputs": []
    },
    {
      "cell_type": "code",
      "source": [
        "setup(df, target='Outcome')"
      ],
      "metadata": {
        "id": "w3FLW7NohZJm"
      },
      "execution_count": null,
      "outputs": []
    },
    {
      "cell_type": "code",
      "source": [
        "compare_models()"
      ],
      "metadata": {
        "id": "ruQp4iuXhmDW"
      },
      "execution_count": null,
      "outputs": []
    },
    {
      "cell_type": "code",
      "source": [
        "best_model=create_model('lr')"
      ],
      "metadata": {
        "id": "_ZVD2Yo0mZUg"
      },
      "execution_count": null,
      "outputs": []
    },
    {
      "cell_type": "code",
      "source": [
        "plot_model(best_model, plot='feature')"
      ],
      "metadata": {
        "id": "0ivbdJcEml4L"
      },
      "execution_count": null,
      "outputs": []
    },
    {
      "cell_type": "markdown",
      "source": [
        "#Clustering"
      ],
      "metadata": {
        "id": "zXSwoaybmUms"
      }
    },
    {
      "cell_type": "code",
      "source": [
        "from pycaret.clustering import*"
      ],
      "metadata": {
        "id": "ECeug9t5mRYz"
      },
      "execution_count": null,
      "outputs": []
    },
    {
      "cell_type": "code",
      "source": [
        "df=pd.read_excel('cars.xls')"
      ],
      "metadata": {
        "id": "sWmTRFd6nX1N"
      },
      "execution_count": null,
      "outputs": []
    },
    {
      "cell_type": "code",
      "source": [
        "setup(df)"
      ],
      "metadata": {
        "id": "dQUElQU8nat0"
      },
      "execution_count": null,
      "outputs": []
    },
    {
      "cell_type": "code",
      "source": [
        "kmeans=create_model('kmeans', 4)"
      ],
      "metadata": {
        "id": "yKvW1e12njdb"
      },
      "execution_count": null,
      "outputs": []
    },
    {
      "cell_type": "code",
      "source": [
        "plot_model(kmeans)"
      ],
      "metadata": {
        "id": "KW3tiXAYnsVO"
      },
      "execution_count": null,
      "outputs": []
    },
    {
      "cell_type": "code",
      "source": [
        "plot_model(kmeans, plot='elbow')"
      ],
      "metadata": {
        "id": "Gd6R24xdnzdw"
      },
      "execution_count": null,
      "outputs": []
    },
    {
      "cell_type": "code",
      "source": [
        "plot_model(kmeans, plot='tsne')"
      ],
      "metadata": {
        "id": "XUlpGZwooFRl"
      },
      "execution_count": null,
      "outputs": []
    },
    {
      "cell_type": "code",
      "source": [],
      "metadata": {
        "id": "wAO2Oq-xoLkq"
      },
      "execution_count": null,
      "outputs": []
    }
  ]
}
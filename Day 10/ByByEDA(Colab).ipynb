{
  "nbformat": 4,
  "nbformat_minor": 0,
  "metadata": {
    "colab": {
      "private_outputs": true,
      "provenance": []
    },
    "kernelspec": {
      "name": "python3",
      "display_name": "Python 3"
    },
    "language_info": {
      "name": "python"
    }
  },
  "cells": [
    {
      "cell_type": "code",
      "execution_count": null,
      "metadata": {
        "id": "KBrmdthTcTM5"
      },
      "outputs": [],
      "source": [
        "pip install ydata-profiling"
      ]
    },
    {
      "cell_type": "code",
      "source": [
        "import pandas as pd"
      ],
      "metadata": {
        "id": "EAlRTaN8ciWl"
      },
      "execution_count": null,
      "outputs": []
    },
    {
      "cell_type": "code",
      "source": [
        "df=pd.read_excel('cars.xls')"
      ],
      "metadata": {
        "id": "CLkXcjI4cxOo"
      },
      "execution_count": null,
      "outputs": []
    },
    {
      "cell_type": "code",
      "source": [
        "import ydata_profiling"
      ],
      "metadata": {
        "id": "yrys_1Vwc3oq"
      },
      "execution_count": null,
      "outputs": []
    },
    {
      "cell_type": "code",
      "source": [
        "df.profile_report()"
      ],
      "metadata": {
        "id": "ssVmgb-nc9C2"
      },
      "execution_count": null,
      "outputs": []
    },
    {
      "cell_type": "code",
      "source": [
        "profile = ydata_profiling.ProfileReport(df)\n",
        "profile.to_file(\"carseda.html\")"
      ],
      "metadata": {
        "id": "5eTc_YWodA9s"
      },
      "execution_count": null,
      "outputs": []
    },
    {
      "cell_type": "code",
      "source": [],
      "metadata": {
        "id": "8ENfgHbaeViH"
      },
      "execution_count": null,
      "outputs": []
    }
  ]
}
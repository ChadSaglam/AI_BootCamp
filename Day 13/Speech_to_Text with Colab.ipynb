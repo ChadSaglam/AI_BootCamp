{
  "nbformat": 4,
  "nbformat_minor": 0,
  "metadata": {
    "colab": {
      "private_outputs": true,
      "provenance": []
    },
    "kernelspec": {
      "name": "python3",
      "display_name": "Python 3"
    },
    "language_info": {
      "name": "python"
    }
  },
  "cells": [
    {
      "cell_type": "code",
      "execution_count": null,
      "metadata": {
        "id": "1yQ2s8YHWQ2Z"
      },
      "outputs": [],
      "source": [
        "pip install pytube"
      ]
    },
    {
      "cell_type": "code",
      "source": [
        "import pytube"
      ],
      "metadata": {
        "id": "_-lTrS-eWW_z"
      },
      "execution_count": null,
      "outputs": []
    },
    {
      "cell_type": "code",
      "source": [
        "video='https://www.youtube.com/watch?v=jZOywn1qArI&themeRefresh=1'"
      ],
      "metadata": {
        "id": "sxpc6W-aWYhZ"
      },
      "execution_count": null,
      "outputs": []
    },
    {
      "cell_type": "code",
      "source": [
        "data=pytube.YouTube(video)"
      ],
      "metadata": {
        "id": "za-sxts8WZ-X"
      },
      "execution_count": null,
      "outputs": []
    },
    {
      "cell_type": "code",
      "source": [
        "audio=data.streams.get_audio_only()"
      ],
      "metadata": {
        "id": "RnBe2zlxWbrD"
      },
      "execution_count": null,
      "outputs": []
    },
    {
      "cell_type": "code",
      "source": [
        "audio.download()"
      ],
      "metadata": {
        "id": "q_64mBXZWd_6"
      },
      "execution_count": null,
      "outputs": []
    },
    {
      "cell_type": "code",
      "source": [
        "pip install git+https://github.com/openai/whisper.git -q"
      ],
      "metadata": {
        "id": "Be8Es82mWh6O"
      },
      "execution_count": null,
      "outputs": []
    },
    {
      "cell_type": "code",
      "source": [
        "import whisper"
      ],
      "metadata": {
        "id": "5GsCiiOOWnsX"
      },
      "execution_count": null,
      "outputs": []
    },
    {
      "cell_type": "code",
      "source": [
        "model=whisper.load_model('large')"
      ],
      "metadata": {
        "id": "Xrfn1lT5Wr-d"
      },
      "execution_count": null,
      "outputs": []
    },
    {
      "cell_type": "code",
      "source": [
        "text=model.transcribe('/content/liam.mp4')"
      ],
      "metadata": {
        "id": "9cKOugBYWuJk"
      },
      "execution_count": null,
      "outputs": []
    },
    {
      "cell_type": "code",
      "source": [
        "text['text']"
      ],
      "metadata": {
        "id": "BHhUBPs5Wvn7"
      },
      "execution_count": null,
      "outputs": []
    },
    {
      "cell_type": "code",
      "source": [
        "video2='https://www.youtube.com/watch?v=uoYEudIl0Ak'"
      ],
      "metadata": {
        "id": "oxXdL_2RgtT7"
      },
      "execution_count": null,
      "outputs": []
    },
    {
      "cell_type": "code",
      "source": [
        "data2=pytube.YouTube(video2)"
      ],
      "metadata": {
        "id": "gAXOkFM6Wzaz"
      },
      "execution_count": null,
      "outputs": []
    },
    {
      "cell_type": "code",
      "source": [
        "audio2=data2.streams.get_audio_only()"
      ],
      "metadata": {
        "id": "FQmQbMhcgyi5"
      },
      "execution_count": null,
      "outputs": []
    },
    {
      "cell_type": "code",
      "source": [
        "audio2.download()"
      ],
      "metadata": {
        "id": "Rv9dUW46gylP"
      },
      "execution_count": null,
      "outputs": []
    },
    {
      "cell_type": "code",
      "source": [
        "text2=model.transcribe('Camdan_kalp.mp4')"
      ],
      "metadata": {
        "id": "zO9my9nDgynm"
      },
      "execution_count": null,
      "outputs": []
    },
    {
      "cell_type": "code",
      "source": [
        "text2['text2']"
      ],
      "metadata": {
        "id": "ZIGAmAtBhQHJ"
      },
      "execution_count": null,
      "outputs": []
    }
  ]
}
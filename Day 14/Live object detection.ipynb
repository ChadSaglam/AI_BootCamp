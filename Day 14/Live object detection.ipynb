{
 "cells": [
  {
   "cell_type": "code",
   "execution_count": 1,
   "id": "09ab6823",
   "metadata": {},
   "outputs": [],
   "source": [
    "#pip install opencv-python\n",
    "# pip install cvlib"
   ]
  },
  {
   "cell_type": "code",
   "execution_count": 2,
   "id": "51577f7f",
   "metadata": {},
   "outputs": [],
   "source": [
    "#pip install --upgrade opencv-python==4.5.3.56"
   ]
  },
  {
   "cell_type": "code",
   "execution_count": null,
   "id": "6642047f",
   "metadata": {},
   "outputs": [],
   "source": [
    "import cvlib as cv\n",
    "from cvlib.object_detection import draw_bbox # YOLO\n",
    "import cv2\n",
    "\n",
    "webcam=cv2.VideoCapture(0)\n",
    "webcam=cv2.VideoCapture('ip adresss')\n",
    "\n",
    "while webcam.isOpened():\n",
    "    ret,frame=webcam.read()\n",
    "    \n",
    "    bbox,label,conf=cv.detect_common_objects(frame)\n",
    "\n",
    "    out=draw_bbox(frame,bbox,label,conf)\n",
    "\n",
    "    cv2.imshow('Gercek zamanli nesne tanima', out)\n",
    "    if cv2.waitKey(1) & 0xFF==ord('q'):\n",
    "        break\n",
    "\n",
    "webcam.release()\n",
    "cv2.destroyAllWindows()"
   ]
  },
  {
   "cell_type": "code",
   "execution_count": null,
   "id": "0a8f6b1b",
   "metadata": {},
   "outputs": [],
   "source": []
  },
  {
   "cell_type": "code",
   "execution_count": null,
   "id": "3de7a3dc",
   "metadata": {},
   "outputs": [],
   "source": []
  },
  {
   "cell_type": "code",
   "execution_count": null,
   "id": "3ac49c8c",
   "metadata": {},
   "outputs": [],
   "source": []
  },
  {
   "cell_type": "code",
   "execution_count": null,
   "id": "2753de7d",
   "metadata": {},
   "outputs": [],
   "source": []
  },
  {
   "cell_type": "code",
   "execution_count": null,
   "id": "c7b6b94f",
   "metadata": {},
   "outputs": [],
   "source": []
  }
 ],
 "metadata": {
  "kernelspec": {
   "display_name": "Python 3 (ipykernel)",
   "language": "python",
   "name": "python3"
  },
  "language_info": {
   "codemirror_mode": {
    "name": "ipython",
    "version": 3
   },
   "file_extension": ".py",
   "mimetype": "text/x-python",
   "name": "python",
   "nbconvert_exporter": "python",
   "pygments_lexer": "ipython3",
   "version": "3.11.7"
  }
 },
 "nbformat": 4,
 "nbformat_minor": 5
}

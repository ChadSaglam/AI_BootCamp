{
 "cells": [
  {
   "cell_type": "code",
   "execution_count": 1,
   "id": "f4746b2b",
   "metadata": {},
   "outputs": [],
   "source": [
    "import hashlib\n",
    "import datetime"
   ]
  },
  {
   "cell_type": "code",
   "execution_count": null,
   "id": "f3b0935e",
   "metadata": {},
   "outputs": [],
   "source": [
    "class Block:\n",
    "\n",
    "    def __init__(self, data, prev_hash):\n",
    "\n",
    "        self.timestamp=datetime.datetime.now()\n",
    "\n",
    "        self.data=data\n",
    "\n",
    "        self.prev_hash=prev_hash\n",
    "\n",
    "        self.hash=self.calculate_hash()\n",
    "\n",
    "        \n",
    "\n",
    "    def calculate_hash(self):\n",
    "\n",
    "        hash_string=str(self.timestamp)+str(self.data)+str(self.prev_hash)\n",
    "\n",
    "        return hashlib.sha256(hash_string.encode()).hexdigest()"
   ]
  }
 ],
 "metadata": {
  "kernelspec": {
   "display_name": "Python 3 (ipykernel)",
   "language": "python",
   "name": "python3"
  },
  "language_info": {
   "codemirror_mode": {
    "name": "ipython",
    "version": 3
   },
   "file_extension": ".py",
   "mimetype": "text/x-python",
   "name": "python",
   "nbconvert_exporter": "python",
   "pygments_lexer": "ipython3",
   "version": "3.11.7"
  }
 },
 "nbformat": 4,
 "nbformat_minor": 5
}

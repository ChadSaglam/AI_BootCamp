{
 "cells": [
  {
   "cell_type": "code",
   "execution_count": 1,
   "id": "b9fbfc45",
   "metadata": {},
   "outputs": [],
   "source": [
    "import hashlib\n",
    "import datetime"
   ]
  },
  {
   "cell_type": "code",
   "execution_count": 2,
   "id": "9ea86521",
   "metadata": {},
   "outputs": [],
   "source": [
    "class Block:\n",
    "\n",
    "    def __init__(self, data, prev_hash):\n",
    "        self.timestamp=datetime.datetime.now()\n",
    "        self.data=data\n",
    "        self.prev_hash=prev_hash\n",
    "        self.hash=self.calculate_hash()\n",
    "\n",
    "    def calculate_hash(self):\n",
    "        hash_string=str(self.timestamp)+str(self.data)+str(self.prev_hash)\n",
    "        return hashlib.sha256(hash_string.encode()).hexdigest()"
   ]
  },
  {
   "cell_type": "code",
   "execution_count": 3,
   "id": "5e3799d2",
   "metadata": {},
   "outputs": [],
   "source": [
    "class Blockchain:\n",
    "\n",
    "    def __init__(self):\n",
    "        self.chain=[self.create_genesis_block()]\n",
    "\n",
    "    def create_genesis_block(self):\n",
    "        return Block('Genesis Block',0)\n",
    "\n",
    "    def add_block(self,data):\n",
    "        prev_block=self.chain[-1]\n",
    "        new_block=Block(data,prev_block.hash)\n",
    "        self.chain.append(new_block)"
   ]
  },
  {
   "cell_type": "code",
   "execution_count": 4,
   "id": "b14a8a77",
   "metadata": {},
   "outputs": [],
   "source": [
    "blockchain=Blockchain()"
   ]
  },
  {
   "cell_type": "code",
   "execution_count": 5,
   "id": "68ba0083",
   "metadata": {},
   "outputs": [],
   "source": [
    "blockchain.add_block('First Block')\n",
    "blockchain.add_block('Second Block')\n",
    "blockchain.add_block('Third Block')"
   ]
  },
  {
   "cell_type": "code",
   "execution_count": 9,
   "id": "4d957dd9",
   "metadata": {},
   "outputs": [
    {
     "name": "stdout",
     "output_type": "stream",
     "text": [
      "BlockChain\n",
      "date : 2024-05-27 12:51:35.039060\n",
      "Data : Genesis Block\n",
      "Previous Hash: 0\n",
      "Current Hash : dc1aca49bf4c8edc708b48f7682f6541e600e65caa0a2a7af37bd86e84cefeea\n",
      "\n",
      "date : 2024-05-27 12:52:58.697161\n",
      "Data : First Block\n",
      "Previous Hash: dc1aca49bf4c8edc708b48f7682f6541e600e65caa0a2a7af37bd86e84cefeea\n",
      "Current Hash : e33382ec7022db97a39b157afd0f2f3f5c12e49b7d0ee39ec9e6ea980d61cbea\n",
      "\n",
      "date : 2024-05-27 12:52:58.697221\n",
      "Data : Second Block\n",
      "Previous Hash: e33382ec7022db97a39b157afd0f2f3f5c12e49b7d0ee39ec9e6ea980d61cbea\n",
      "Current Hash : 468883c3011849ef54416a479122da30e8a0a319e09197b250f79d30f33d749a\n",
      "\n",
      "date : 2024-05-27 12:52:58.697288\n",
      "Data : Third Block\n",
      "Previous Hash: 468883c3011849ef54416a479122da30e8a0a319e09197b250f79d30f33d749a\n",
      "Current Hash : b020398c6dd9bb6a8bcb68d1b2c93898e3b513d97d244b3fdf8b55f820d36168\n",
      "\n"
     ]
    }
   ],
   "source": [
    "print('BlockChain')\n",
    "\n",
    "for block in blockchain.chain:\n",
    "    print('date :',block.timestamp)\n",
    "    print('Data :',block.data)\n",
    "    print('Previous Hash:',block.prev_hash)\n",
    "    print('Current Hash :',block.hash)\n",
    "    print ()\n"
   ]
  },
  {
   "cell_type": "code",
   "execution_count": null,
   "id": "1f155adc",
   "metadata": {},
   "outputs": [],
   "source": []
  }
 ],
 "metadata": {
  "kernelspec": {
   "display_name": "Python 3 (ipykernel)",
   "language": "python",
   "name": "python3"
  },
  "language_info": {
   "codemirror_mode": {
    "name": "ipython",
    "version": 3
   },
   "file_extension": ".py",
   "mimetype": "text/x-python",
   "name": "python",
   "nbconvert_exporter": "python",
   "pygments_lexer": "ipython3",
   "version": "3.11.7"
  }
 },
 "nbformat": 4,
 "nbformat_minor": 5
}

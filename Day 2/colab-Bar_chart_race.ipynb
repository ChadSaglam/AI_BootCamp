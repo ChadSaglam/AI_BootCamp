{
 "cells": [
  {
   "cell_type": "code",
   "execution_count": 27,
   "metadata": {
    "colab": {
     "base_uri": "https://localhost:8080/"
    },
    "id": "Sk_iV33TrUZf",
    "outputId": "2a5819f1-7689-44d2-bd9c-7de88df796a8"
   },
   "outputs": [
    {
     "name": "stdout",
     "output_type": "stream",
     "text": [
      "Looking in indexes: https://pypi.org/simple, https://us-python.pkg.dev/colab-wheels/public/simple/\n",
      "Requirement already satisfied: ffmpeg in /usr/local/lib/python3.7/dist-packages (1.4)\n",
      "Looking in indexes: https://pypi.org/simple, https://us-python.pkg.dev/colab-wheels/public/simple/\n",
      "\u001b[31mERROR: Could not find a version that satisfies the requirement bar_cart_race (from versions: none)\u001b[0m\n",
      "\u001b[31mERROR: No matching distribution found for bar_cart_race\u001b[0m\n"
     ]
    }
   ],
   "source": [
    "!pip install ffmpeg\n",
    "!pip install bar_cart_race"
   ]
  },
  {
   "cell_type": "code",
   "execution_count": 1,
   "metadata": {
    "id": "2CVIBjnAsQhM"
   },
   "outputs": [],
   "source": [
    "import pandas as pd"
   ]
  },
  {
   "cell_type": "code",
   "execution_count": 4,
   "metadata": {
    "id": "4bsI7Feds24E"
   },
   "outputs": [],
   "source": [
    "df=pd.read_csv(\"Day 2 Students files/corona_dat.csv\")"
   ]
  },
  {
   "cell_type": "code",
   "execution_count": 5,
   "metadata": {
    "colab": {
     "base_uri": "https://localhost:8080/",
     "height": 352
    },
    "id": "eCyiCi2DtHjt",
    "outputId": "b229010f-c8eb-483e-b437-07a8243ac384"
   },
   "outputs": [
    {
     "data": {
      "text/html": [
       "<div>\n",
       "<style scoped>\n",
       "    .dataframe tbody tr th:only-of-type {\n",
       "        vertical-align: middle;\n",
       "    }\n",
       "\n",
       "    .dataframe tbody tr th {\n",
       "        vertical-align: top;\n",
       "    }\n",
       "\n",
       "    .dataframe thead th {\n",
       "        text-align: right;\n",
       "    }\n",
       "</style>\n",
       "<table border=\"1\" class=\"dataframe\">\n",
       "  <thead>\n",
       "    <tr style=\"text-align: right;\">\n",
       "      <th></th>\n",
       "      <th>date</th>\n",
       "      <th>Afghanistan</th>\n",
       "      <th>Albania</th>\n",
       "      <th>Algeria</th>\n",
       "      <th>Andorra</th>\n",
       "      <th>Angola</th>\n",
       "      <th>Antigua and Barbuda</th>\n",
       "      <th>Argentina</th>\n",
       "      <th>Armenia</th>\n",
       "      <th>Australia</th>\n",
       "      <th>...</th>\n",
       "      <th>Uruguay</th>\n",
       "      <th>US</th>\n",
       "      <th>Uzbekistan</th>\n",
       "      <th>Venezuela</th>\n",
       "      <th>Vietnam</th>\n",
       "      <th>West Bank and Gaza</th>\n",
       "      <th>Western Sahara</th>\n",
       "      <th>Yemen</th>\n",
       "      <th>Zambia</th>\n",
       "      <th>Zimbabwe</th>\n",
       "    </tr>\n",
       "  </thead>\n",
       "  <tbody>\n",
       "    <tr>\n",
       "      <th>0</th>\n",
       "      <td>1/22/2020</td>\n",
       "      <td>0</td>\n",
       "      <td>0</td>\n",
       "      <td>0</td>\n",
       "      <td>0</td>\n",
       "      <td>0</td>\n",
       "      <td>0</td>\n",
       "      <td>0</td>\n",
       "      <td>0</td>\n",
       "      <td>0</td>\n",
       "      <td>...</td>\n",
       "      <td>0</td>\n",
       "      <td>1</td>\n",
       "      <td>0</td>\n",
       "      <td>0</td>\n",
       "      <td>0</td>\n",
       "      <td>0</td>\n",
       "      <td>0</td>\n",
       "      <td>0</td>\n",
       "      <td>0</td>\n",
       "      <td>0</td>\n",
       "    </tr>\n",
       "    <tr>\n",
       "      <th>1</th>\n",
       "      <td>1/23/2020</td>\n",
       "      <td>0</td>\n",
       "      <td>0</td>\n",
       "      <td>0</td>\n",
       "      <td>0</td>\n",
       "      <td>0</td>\n",
       "      <td>0</td>\n",
       "      <td>0</td>\n",
       "      <td>0</td>\n",
       "      <td>0</td>\n",
       "      <td>...</td>\n",
       "      <td>0</td>\n",
       "      <td>0</td>\n",
       "      <td>0</td>\n",
       "      <td>0</td>\n",
       "      <td>2</td>\n",
       "      <td>0</td>\n",
       "      <td>0</td>\n",
       "      <td>0</td>\n",
       "      <td>0</td>\n",
       "      <td>0</td>\n",
       "    </tr>\n",
       "    <tr>\n",
       "      <th>2</th>\n",
       "      <td>1/24/2020</td>\n",
       "      <td>0</td>\n",
       "      <td>0</td>\n",
       "      <td>0</td>\n",
       "      <td>0</td>\n",
       "      <td>0</td>\n",
       "      <td>0</td>\n",
       "      <td>0</td>\n",
       "      <td>0</td>\n",
       "      <td>0</td>\n",
       "      <td>...</td>\n",
       "      <td>0</td>\n",
       "      <td>1</td>\n",
       "      <td>0</td>\n",
       "      <td>0</td>\n",
       "      <td>0</td>\n",
       "      <td>0</td>\n",
       "      <td>0</td>\n",
       "      <td>0</td>\n",
       "      <td>0</td>\n",
       "      <td>0</td>\n",
       "    </tr>\n",
       "    <tr>\n",
       "      <th>3</th>\n",
       "      <td>1/25/2020</td>\n",
       "      <td>0</td>\n",
       "      <td>0</td>\n",
       "      <td>0</td>\n",
       "      <td>0</td>\n",
       "      <td>0</td>\n",
       "      <td>0</td>\n",
       "      <td>0</td>\n",
       "      <td>0</td>\n",
       "      <td>0</td>\n",
       "      <td>...</td>\n",
       "      <td>0</td>\n",
       "      <td>0</td>\n",
       "      <td>0</td>\n",
       "      <td>0</td>\n",
       "      <td>0</td>\n",
       "      <td>0</td>\n",
       "      <td>0</td>\n",
       "      <td>0</td>\n",
       "      <td>0</td>\n",
       "      <td>0</td>\n",
       "    </tr>\n",
       "    <tr>\n",
       "      <th>4</th>\n",
       "      <td>1/26/2020</td>\n",
       "      <td>0</td>\n",
       "      <td>0</td>\n",
       "      <td>0</td>\n",
       "      <td>0</td>\n",
       "      <td>0</td>\n",
       "      <td>0</td>\n",
       "      <td>0</td>\n",
       "      <td>0</td>\n",
       "      <td>4</td>\n",
       "      <td>...</td>\n",
       "      <td>0</td>\n",
       "      <td>3</td>\n",
       "      <td>0</td>\n",
       "      <td>0</td>\n",
       "      <td>0</td>\n",
       "      <td>0</td>\n",
       "      <td>0</td>\n",
       "      <td>0</td>\n",
       "      <td>0</td>\n",
       "      <td>0</td>\n",
       "    </tr>\n",
       "  </tbody>\n",
       "</table>\n",
       "<p>5 rows × 188 columns</p>\n",
       "</div>"
      ],
      "text/plain": [
       "        date  Afghanistan  Albania  Algeria  Andorra  Angola  \\\n",
       "0  1/22/2020            0        0        0        0       0   \n",
       "1  1/23/2020            0        0        0        0       0   \n",
       "2  1/24/2020            0        0        0        0       0   \n",
       "3  1/25/2020            0        0        0        0       0   \n",
       "4  1/26/2020            0        0        0        0       0   \n",
       "\n",
       "   Antigua and Barbuda  Argentina  Armenia  Australia  ...  Uruguay  US  \\\n",
       "0                    0          0        0          0  ...        0   1   \n",
       "1                    0          0        0          0  ...        0   0   \n",
       "2                    0          0        0          0  ...        0   1   \n",
       "3                    0          0        0          0  ...        0   0   \n",
       "4                    0          0        0          4  ...        0   3   \n",
       "\n",
       "   Uzbekistan  Venezuela  Vietnam  West Bank and Gaza  Western Sahara  Yemen  \\\n",
       "0           0          0        0                   0               0      0   \n",
       "1           0          0        2                   0               0      0   \n",
       "2           0          0        0                   0               0      0   \n",
       "3           0          0        0                   0               0      0   \n",
       "4           0          0        0                   0               0      0   \n",
       "\n",
       "   Zambia  Zimbabwe  \n",
       "0       0         0  \n",
       "1       0         0  \n",
       "2       0         0  \n",
       "3       0         0  \n",
       "4       0         0  \n",
       "\n",
       "[5 rows x 188 columns]"
      ]
     },
     "execution_count": 5,
     "metadata": {},
     "output_type": "execute_result"
    }
   ],
   "source": [
    "df.head()"
   ]
  },
  {
   "cell_type": "code",
   "execution_count": 6,
   "metadata": {
    "id": "cyrDZQxstbBV"
   },
   "outputs": [],
   "source": [
    "df2=df[[\"date\", \"China\", \"Italy\", \"Brazil\", \"Spain\"]]"
   ]
  },
  {
   "cell_type": "code",
   "execution_count": 7,
   "metadata": {
    "colab": {
     "base_uri": "https://localhost:8080/"
    },
    "id": "xJeubDEtuAtR",
    "outputId": "d011173f-94ca-4412-9136-01e5fc00563f"
   },
   "outputs": [
    {
     "name": "stdout",
     "output_type": "stream",
     "text": [
      "<class 'pandas.core.frame.DataFrame'>\n",
      "RangeIndex: 112 entries, 0 to 111\n",
      "Columns: 188 entries, date to Zimbabwe\n",
      "dtypes: int64(187), object(1)\n",
      "memory usage: 164.6+ KB\n"
     ]
    }
   ],
   "source": [
    "df.info()"
   ]
  },
  {
   "cell_type": "code",
   "execution_count": 8,
   "metadata": {
    "id": "48vYuhE6u5Fd"
   },
   "outputs": [],
   "source": [
    "df2.set_index('date',inplace=True)"
   ]
  },
  {
   "cell_type": "code",
   "execution_count": 9,
   "metadata": {
    "colab": {
     "base_uri": "https://localhost:8080/",
     "height": 455
    },
    "id": "OXsLjFSyHTdB",
    "outputId": "60ae63f8-d101-407f-9be1-c5f14f35c9ec"
   },
   "outputs": [
    {
     "data": {
      "text/html": [
       "<div>\n",
       "<style scoped>\n",
       "    .dataframe tbody tr th:only-of-type {\n",
       "        vertical-align: middle;\n",
       "    }\n",
       "\n",
       "    .dataframe tbody tr th {\n",
       "        vertical-align: top;\n",
       "    }\n",
       "\n",
       "    .dataframe thead th {\n",
       "        text-align: right;\n",
       "    }\n",
       "</style>\n",
       "<table border=\"1\" class=\"dataframe\">\n",
       "  <thead>\n",
       "    <tr style=\"text-align: right;\">\n",
       "      <th></th>\n",
       "      <th>China</th>\n",
       "      <th>Italy</th>\n",
       "      <th>Brazil</th>\n",
       "      <th>Spain</th>\n",
       "    </tr>\n",
       "    <tr>\n",
       "      <th>date</th>\n",
       "      <th></th>\n",
       "      <th></th>\n",
       "      <th></th>\n",
       "      <th></th>\n",
       "    </tr>\n",
       "  </thead>\n",
       "  <tbody>\n",
       "    <tr>\n",
       "      <th>1/22/2020</th>\n",
       "      <td>593</td>\n",
       "      <td>0</td>\n",
       "      <td>0</td>\n",
       "      <td>0</td>\n",
       "    </tr>\n",
       "    <tr>\n",
       "      <th>1/23/2020</th>\n",
       "      <td>98</td>\n",
       "      <td>0</td>\n",
       "      <td>0</td>\n",
       "      <td>0</td>\n",
       "    </tr>\n",
       "    <tr>\n",
       "      <th>1/24/2020</th>\n",
       "      <td>291</td>\n",
       "      <td>0</td>\n",
       "      <td>0</td>\n",
       "      <td>0</td>\n",
       "    </tr>\n",
       "    <tr>\n",
       "      <th>1/25/2020</th>\n",
       "      <td>505</td>\n",
       "      <td>0</td>\n",
       "      <td>0</td>\n",
       "      <td>0</td>\n",
       "    </tr>\n",
       "    <tr>\n",
       "      <th>1/26/2020</th>\n",
       "      <td>693</td>\n",
       "      <td>0</td>\n",
       "      <td>0</td>\n",
       "      <td>0</td>\n",
       "    </tr>\n",
       "    <tr>\n",
       "      <th>...</th>\n",
       "      <td>...</td>\n",
       "      <td>...</td>\n",
       "      <td>...</td>\n",
       "      <td>...</td>\n",
       "    </tr>\n",
       "    <tr>\n",
       "      <th>5/8/2020</th>\n",
       "      <td>17</td>\n",
       "      <td>4317</td>\n",
       "      <td>15895</td>\n",
       "      <td>4276</td>\n",
       "    </tr>\n",
       "    <tr>\n",
       "      <th>5/9/2020</th>\n",
       "      <td>148</td>\n",
       "      <td>5285</td>\n",
       "      <td>12194</td>\n",
       "      <td>3704</td>\n",
       "    </tr>\n",
       "    <tr>\n",
       "      <th>5/10/2020</th>\n",
       "      <td>60</td>\n",
       "      <td>3122</td>\n",
       "      <td>10377</td>\n",
       "      <td>3129</td>\n",
       "    </tr>\n",
       "    <tr>\n",
       "      <th>5/11/2020</th>\n",
       "      <td>32</td>\n",
       "      <td>2324</td>\n",
       "      <td>9852</td>\n",
       "      <td>4182</td>\n",
       "    </tr>\n",
       "    <tr>\n",
       "      <th>5/12/2020</th>\n",
       "      <td>31</td>\n",
       "      <td>4026</td>\n",
       "      <td>14641</td>\n",
       "      <td>2611</td>\n",
       "    </tr>\n",
       "  </tbody>\n",
       "</table>\n",
       "<p>112 rows × 4 columns</p>\n",
       "</div>"
      ],
      "text/plain": [
       "           China  Italy  Brazil  Spain\n",
       "date                                  \n",
       "1/22/2020    593      0       0      0\n",
       "1/23/2020     98      0       0      0\n",
       "1/24/2020    291      0       0      0\n",
       "1/25/2020    505      0       0      0\n",
       "1/26/2020    693      0       0      0\n",
       "...          ...    ...     ...    ...\n",
       "5/8/2020      17   4317   15895   4276\n",
       "5/9/2020     148   5285   12194   3704\n",
       "5/10/2020     60   3122   10377   3129\n",
       "5/11/2020     32   2324    9852   4182\n",
       "5/12/2020     31   4026   14641   2611\n",
       "\n",
       "[112 rows x 4 columns]"
      ]
     },
     "execution_count": 9,
     "metadata": {},
     "output_type": "execute_result"
    }
   ],
   "source": [
    "df2"
   ]
  },
  {
   "cell_type": "code",
   "execution_count": 10,
   "metadata": {
    "id": "mAwy4nEZHWJ6"
   },
   "outputs": [],
   "source": [
    "# Adds one day before and one day after\n",
    "# axis=0 for line and axis=1 column\n",
    "df_total=df2.cumsum(axis=0)"
   ]
  },
  {
   "cell_type": "code",
   "execution_count": 11,
   "metadata": {
    "colab": {
     "base_uri": "https://localhost:8080/",
     "height": 238
    },
    "id": "6DWxnc7II0gE",
    "outputId": "8585e36a-e068-4c16-eb4e-3def62a10c0e"
   },
   "outputs": [
    {
     "data": {
      "text/html": [
       "<div>\n",
       "<style scoped>\n",
       "    .dataframe tbody tr th:only-of-type {\n",
       "        vertical-align: middle;\n",
       "    }\n",
       "\n",
       "    .dataframe tbody tr th {\n",
       "        vertical-align: top;\n",
       "    }\n",
       "\n",
       "    .dataframe thead th {\n",
       "        text-align: right;\n",
       "    }\n",
       "</style>\n",
       "<table border=\"1\" class=\"dataframe\">\n",
       "  <thead>\n",
       "    <tr style=\"text-align: right;\">\n",
       "      <th></th>\n",
       "      <th>China</th>\n",
       "      <th>Italy</th>\n",
       "      <th>Brazil</th>\n",
       "      <th>Spain</th>\n",
       "    </tr>\n",
       "    <tr>\n",
       "      <th>date</th>\n",
       "      <th></th>\n",
       "      <th></th>\n",
       "      <th></th>\n",
       "      <th></th>\n",
       "    </tr>\n",
       "  </thead>\n",
       "  <tbody>\n",
       "    <tr>\n",
       "      <th>1/22/2020</th>\n",
       "      <td>593</td>\n",
       "      <td>0</td>\n",
       "      <td>0</td>\n",
       "      <td>0</td>\n",
       "    </tr>\n",
       "    <tr>\n",
       "      <th>1/23/2020</th>\n",
       "      <td>691</td>\n",
       "      <td>0</td>\n",
       "      <td>0</td>\n",
       "      <td>0</td>\n",
       "    </tr>\n",
       "    <tr>\n",
       "      <th>1/24/2020</th>\n",
       "      <td>982</td>\n",
       "      <td>0</td>\n",
       "      <td>0</td>\n",
       "      <td>0</td>\n",
       "    </tr>\n",
       "    <tr>\n",
       "      <th>1/25/2020</th>\n",
       "      <td>1487</td>\n",
       "      <td>0</td>\n",
       "      <td>0</td>\n",
       "      <td>0</td>\n",
       "    </tr>\n",
       "    <tr>\n",
       "      <th>1/26/2020</th>\n",
       "      <td>2180</td>\n",
       "      <td>0</td>\n",
       "      <td>0</td>\n",
       "      <td>0</td>\n",
       "    </tr>\n",
       "  </tbody>\n",
       "</table>\n",
       "</div>"
      ],
      "text/plain": [
       "           China  Italy  Brazil  Spain\n",
       "date                                  \n",
       "1/22/2020    593      0       0      0\n",
       "1/23/2020    691      0       0      0\n",
       "1/24/2020    982      0       0      0\n",
       "1/25/2020   1487      0       0      0\n",
       "1/26/2020   2180      0       0      0"
      ]
     },
     "execution_count": 11,
     "metadata": {},
     "output_type": "execute_result"
    }
   ],
   "source": [
    "df_total.head()"
   ]
  },
  {
   "cell_type": "code",
   "execution_count": 12,
   "metadata": {
    "colab": {
     "base_uri": "https://localhost:8080/"
    },
    "id": "ZEadVWYEJEkK",
    "outputId": "3556b88e-9d42-4b8d-bbd3-1c3a5d5d6772"
   },
   "outputs": [
    {
     "name": "stdout",
     "output_type": "stream",
     "text": [
      "Collecting bar_chart_race\n",
      "  Downloading bar_chart_race-0.1.0-py3-none-any.whl (156 kB)\n",
      "\u001b[2K     \u001b[90m━━━━━━━━━━━━━━━━━━━━━━━━━━━━━━━━━━━━━━━\u001b[0m \u001b[32m156.8/156.8 kB\u001b[0m \u001b[31m2.4 MB/s\u001b[0m eta \u001b[36m0:00:00\u001b[0m00:01\u001b[0m\n",
      "\u001b[?25hRequirement already satisfied: pandas>=0.24 in /Users/chadsglm/anaconda3/lib/python3.11/site-packages (from bar_chart_race) (2.0.3)\n",
      "Requirement already satisfied: matplotlib>=3.1 in /Users/chadsglm/anaconda3/lib/python3.11/site-packages (from bar_chart_race) (3.7.2)\n",
      "Requirement already satisfied: contourpy>=1.0.1 in /Users/chadsglm/anaconda3/lib/python3.11/site-packages (from matplotlib>=3.1->bar_chart_race) (1.0.5)\n",
      "Requirement already satisfied: cycler>=0.10 in /Users/chadsglm/anaconda3/lib/python3.11/site-packages (from matplotlib>=3.1->bar_chart_race) (0.11.0)\n",
      "Requirement already satisfied: fonttools>=4.22.0 in /Users/chadsglm/anaconda3/lib/python3.11/site-packages (from matplotlib>=3.1->bar_chart_race) (4.25.0)\n",
      "Requirement already satisfied: kiwisolver>=1.0.1 in /Users/chadsglm/anaconda3/lib/python3.11/site-packages (from matplotlib>=3.1->bar_chart_race) (1.4.4)\n",
      "Requirement already satisfied: numpy>=1.20 in /Users/chadsglm/anaconda3/lib/python3.11/site-packages (from matplotlib>=3.1->bar_chart_race) (1.24.3)\n",
      "Requirement already satisfied: packaging>=20.0 in /Users/chadsglm/anaconda3/lib/python3.11/site-packages (from matplotlib>=3.1->bar_chart_race) (23.1)\n",
      "Requirement already satisfied: pillow>=6.2.0 in /Users/chadsglm/anaconda3/lib/python3.11/site-packages (from matplotlib>=3.1->bar_chart_race) (10.0.1)\n",
      "Requirement already satisfied: pyparsing<3.1,>=2.3.1 in /Users/chadsglm/anaconda3/lib/python3.11/site-packages (from matplotlib>=3.1->bar_chart_race) (3.0.9)\n",
      "Requirement already satisfied: python-dateutil>=2.7 in /Users/chadsglm/anaconda3/lib/python3.11/site-packages (from matplotlib>=3.1->bar_chart_race) (2.8.2)\n",
      "Requirement already satisfied: pytz>=2020.1 in /Users/chadsglm/anaconda3/lib/python3.11/site-packages (from pandas>=0.24->bar_chart_race) (2023.3.post1)\n",
      "Requirement already satisfied: tzdata>=2022.1 in /Users/chadsglm/anaconda3/lib/python3.11/site-packages (from pandas>=0.24->bar_chart_race) (2023.3)\n",
      "Requirement already satisfied: six>=1.5 in /Users/chadsglm/anaconda3/lib/python3.11/site-packages (from python-dateutil>=2.7->matplotlib>=3.1->bar_chart_race) (1.16.0)\n",
      "Installing collected packages: bar_chart_race\n",
      "Successfully installed bar_chart_race-0.1.0\n",
      "Note: you may need to restart the kernel to use updated packages.\n"
     ]
    }
   ],
   "source": [
    "pip install bar_chart_race"
   ]
  },
  {
   "cell_type": "code",
   "execution_count": 13,
   "metadata": {
    "id": "v6beAhnWLpCS"
   },
   "outputs": [],
   "source": [
    "import bar_chart_race as bcr"
   ]
  },
  {
   "cell_type": "code",
   "execution_count": 14,
   "metadata": {
    "id": "E7ILDzJbJMoq"
   },
   "outputs": [
    {
     "name": "stderr",
     "output_type": "stream",
     "text": [
      "/Users/chadsglm/anaconda3/lib/python3.11/site-packages/bar_chart_race/_make_chart.py:286: UserWarning: FixedFormatter should only be used together with FixedLocator\n",
      "  ax.set_yticklabels(self.df_values.columns)\n",
      "/Users/chadsglm/anaconda3/lib/python3.11/site-packages/bar_chart_race/_make_chart.py:287: UserWarning: FixedFormatter should only be used together with FixedLocator\n",
      "  ax.set_xticklabels([max_val] * len(ax.get_xticks()))\n",
      "MovieWriter ffmpeg unavailable; using Pillow instead.\n"
     ]
    },
    {
     "ename": "Exception",
     "evalue": "You do not have ffmpeg installed on your machine. Download\n                            ffmpeg from here: https://www.ffmpeg.org/download.html.\n                            \n                            Matplotlib's original error message below:\n\n                            unknown file extension: .mp4\n                            ",
     "output_type": "error",
     "traceback": [
      "\u001b[0;31m---------------------------------------------------------------------------\u001b[0m",
      "\u001b[0;31mKeyError\u001b[0m                                  Traceback (most recent call last)",
      "File \u001b[0;32m~/anaconda3/lib/python3.11/site-packages/PIL/Image.py:2390\u001b[0m, in \u001b[0;36mImage.save\u001b[0;34m(self, fp, format, **params)\u001b[0m\n\u001b[1;32m   2389\u001b[0m \u001b[38;5;28;01mtry\u001b[39;00m:\n\u001b[0;32m-> 2390\u001b[0m     \u001b[38;5;28mformat\u001b[39m \u001b[38;5;241m=\u001b[39m EXTENSION[ext]\n\u001b[1;32m   2391\u001b[0m \u001b[38;5;28;01mexcept\u001b[39;00m \u001b[38;5;167;01mKeyError\u001b[39;00m \u001b[38;5;28;01mas\u001b[39;00m e:\n",
      "\u001b[0;31mKeyError\u001b[0m: '.mp4'",
      "\nThe above exception was the direct cause of the following exception:\n",
      "\u001b[0;31mValueError\u001b[0m                                Traceback (most recent call last)",
      "File \u001b[0;32m~/anaconda3/lib/python3.11/site-packages/bar_chart_race/_make_chart.py:435\u001b[0m, in \u001b[0;36m_BarChartRace.make_animation\u001b[0;34m(self)\u001b[0m\n\u001b[1;32m    434\u001b[0m     \u001b[38;5;28;01melse\u001b[39;00m:\n\u001b[0;32m--> 435\u001b[0m         ret_val \u001b[38;5;241m=\u001b[39m anim\u001b[38;5;241m.\u001b[39msave(\u001b[38;5;28mself\u001b[39m\u001b[38;5;241m.\u001b[39mfilename, fps\u001b[38;5;241m=\u001b[39m\u001b[38;5;28mself\u001b[39m\u001b[38;5;241m.\u001b[39mfps, writer\u001b[38;5;241m=\u001b[39m\u001b[38;5;28mself\u001b[39m\u001b[38;5;241m.\u001b[39mwriter)\n\u001b[1;32m    436\u001b[0m \u001b[38;5;28;01mexcept\u001b[39;00m \u001b[38;5;167;01mException\u001b[39;00m \u001b[38;5;28;01mas\u001b[39;00m e:\n",
      "File \u001b[0;32m~/anaconda3/lib/python3.11/site-packages/matplotlib/animation.py:1085\u001b[0m, in \u001b[0;36mAnimation.save\u001b[0;34m(self, filename, writer, fps, dpi, codec, bitrate, extra_args, metadata, extra_anim, savefig_kwargs, progress_callback)\u001b[0m\n\u001b[1;32m   1082\u001b[0m \u001b[38;5;66;03m# canvas._is_saving = True makes the draw_event animation-starting\u001b[39;00m\n\u001b[1;32m   1083\u001b[0m \u001b[38;5;66;03m# callback a no-op; canvas.manager = None prevents resizing the GUI\u001b[39;00m\n\u001b[1;32m   1084\u001b[0m \u001b[38;5;66;03m# widget (both are likewise done in savefig()).\u001b[39;00m\n\u001b[0;32m-> 1085\u001b[0m \u001b[38;5;28;01mwith\u001b[39;00m mpl\u001b[38;5;241m.\u001b[39mrc_context({\u001b[38;5;124m'\u001b[39m\u001b[38;5;124msavefig.bbox\u001b[39m\u001b[38;5;124m'\u001b[39m: \u001b[38;5;28;01mNone\u001b[39;00m}), \\\n\u001b[1;32m   1086\u001b[0m      writer\u001b[38;5;241m.\u001b[39msaving(\u001b[38;5;28mself\u001b[39m\u001b[38;5;241m.\u001b[39m_fig, filename, dpi), \\\n\u001b[1;32m   1087\u001b[0m      cbook\u001b[38;5;241m.\u001b[39m_setattr_cm(\u001b[38;5;28mself\u001b[39m\u001b[38;5;241m.\u001b[39m_fig\u001b[38;5;241m.\u001b[39mcanvas,\n\u001b[1;32m   1088\u001b[0m                        _is_saving\u001b[38;5;241m=\u001b[39m\u001b[38;5;28;01mTrue\u001b[39;00m, manager\u001b[38;5;241m=\u001b[39m\u001b[38;5;28;01mNone\u001b[39;00m):\n\u001b[1;32m   1089\u001b[0m     \u001b[38;5;28;01mfor\u001b[39;00m anim \u001b[38;5;129;01min\u001b[39;00m all_anim:\n",
      "File \u001b[0;32m~/anaconda3/lib/python3.11/contextlib.py:144\u001b[0m, in \u001b[0;36m_GeneratorContextManager.__exit__\u001b[0;34m(self, typ, value, traceback)\u001b[0m\n\u001b[1;32m    143\u001b[0m \u001b[38;5;28;01mtry\u001b[39;00m:\n\u001b[0;32m--> 144\u001b[0m     \u001b[38;5;28mnext\u001b[39m(\u001b[38;5;28mself\u001b[39m\u001b[38;5;241m.\u001b[39mgen)\n\u001b[1;32m    145\u001b[0m \u001b[38;5;28;01mexcept\u001b[39;00m \u001b[38;5;167;01mStopIteration\u001b[39;00m:\n",
      "File \u001b[0;32m~/anaconda3/lib/python3.11/site-packages/matplotlib/animation.py:235\u001b[0m, in \u001b[0;36mAbstractMovieWriter.saving\u001b[0;34m(self, fig, outfile, dpi, *args, **kwargs)\u001b[0m\n\u001b[1;32m    234\u001b[0m \u001b[38;5;28;01mfinally\u001b[39;00m:\n\u001b[0;32m--> 235\u001b[0m     \u001b[38;5;28mself\u001b[39m\u001b[38;5;241m.\u001b[39mfinish()\n",
      "File \u001b[0;32m~/anaconda3/lib/python3.11/site-packages/matplotlib/animation.py:501\u001b[0m, in \u001b[0;36mPillowWriter.finish\u001b[0;34m(self)\u001b[0m\n\u001b[1;32m    500\u001b[0m \u001b[38;5;28;01mdef\u001b[39;00m \u001b[38;5;21mfinish\u001b[39m(\u001b[38;5;28mself\u001b[39m):\n\u001b[0;32m--> 501\u001b[0m     \u001b[38;5;28mself\u001b[39m\u001b[38;5;241m.\u001b[39m_frames[\u001b[38;5;241m0\u001b[39m]\u001b[38;5;241m.\u001b[39msave(\n\u001b[1;32m    502\u001b[0m         \u001b[38;5;28mself\u001b[39m\u001b[38;5;241m.\u001b[39moutfile, save_all\u001b[38;5;241m=\u001b[39m\u001b[38;5;28;01mTrue\u001b[39;00m, append_images\u001b[38;5;241m=\u001b[39m\u001b[38;5;28mself\u001b[39m\u001b[38;5;241m.\u001b[39m_frames[\u001b[38;5;241m1\u001b[39m:],\n\u001b[1;32m    503\u001b[0m         duration\u001b[38;5;241m=\u001b[39m\u001b[38;5;28mint\u001b[39m(\u001b[38;5;241m1000\u001b[39m \u001b[38;5;241m/\u001b[39m \u001b[38;5;28mself\u001b[39m\u001b[38;5;241m.\u001b[39mfps), loop\u001b[38;5;241m=\u001b[39m\u001b[38;5;241m0\u001b[39m)\n",
      "File \u001b[0;32m~/anaconda3/lib/python3.11/site-packages/PIL/Image.py:2393\u001b[0m, in \u001b[0;36mImage.save\u001b[0;34m(self, fp, format, **params)\u001b[0m\n\u001b[1;32m   2392\u001b[0m         msg \u001b[38;5;241m=\u001b[39m \u001b[38;5;124mf\u001b[39m\u001b[38;5;124m\"\u001b[39m\u001b[38;5;124munknown file extension: \u001b[39m\u001b[38;5;132;01m{\u001b[39;00mext\u001b[38;5;132;01m}\u001b[39;00m\u001b[38;5;124m\"\u001b[39m\n\u001b[0;32m-> 2393\u001b[0m         \u001b[38;5;28;01mraise\u001b[39;00m \u001b[38;5;167;01mValueError\u001b[39;00m(msg) \u001b[38;5;28;01mfrom\u001b[39;00m \u001b[38;5;21;01me\u001b[39;00m\n\u001b[1;32m   2395\u001b[0m \u001b[38;5;28;01mif\u001b[39;00m \u001b[38;5;28mformat\u001b[39m\u001b[38;5;241m.\u001b[39mupper() \u001b[38;5;129;01mnot\u001b[39;00m \u001b[38;5;129;01min\u001b[39;00m SAVE:\n",
      "\u001b[0;31mValueError\u001b[0m: unknown file extension: .mp4",
      "\nDuring handling of the above exception, another exception occurred:\n",
      "\u001b[0;31mException\u001b[0m                                 Traceback (most recent call last)",
      "Cell \u001b[0;32mIn[14], line 2\u001b[0m\n\u001b[1;32m      1\u001b[0m \u001b[38;5;66;03m# Create mp4 file for 2 files with video format\u001b[39;00m\n\u001b[0;32m----> 2\u001b[0m bcr\u001b[38;5;241m.\u001b[39mbar_chart_race(df_total, filename\u001b[38;5;241m=\u001b[39m\u001b[38;5;124m\"\u001b[39m\u001b[38;5;124mcovid19.mp4\u001b[39m\u001b[38;5;124m\"\u001b[39m, figsize\u001b[38;5;241m=\u001b[39m(\u001b[38;5;241m8\u001b[39m,\u001b[38;5;241m5\u001b[39m), title\u001b[38;5;241m=\u001b[39m\u001b[38;5;124m\"\u001b[39m\u001b[38;5;124mChadew - Covid19 datas\u001b[39m\u001b[38;5;124m\"\u001b[39m)\n",
      "File \u001b[0;32m~/anaconda3/lib/python3.11/site-packages/bar_chart_race/_make_chart.py:783\u001b[0m, in \u001b[0;36mbar_chart_race\u001b[0;34m(df, filename, orientation, sort, n_bars, fixed_order, fixed_max, steps_per_period, period_length, interpolate_period, label_bars, bar_size, period_label, period_fmt, period_summary_func, perpendicular_bar_func, figsize, cmap, title, title_size, bar_label_size, tick_label_size, shared_fontdict, scale, writer, fig, dpi, bar_kwargs, filter_column_colors)\u001b[0m\n\u001b[1;32m    461\u001b[0m \u001b[38;5;250m\u001b[39m\u001b[38;5;124;03m'''\u001b[39;00m\n\u001b[1;32m    462\u001b[0m \u001b[38;5;124;03mCreate an animated bar chart race using matplotlib. Data must be in \u001b[39;00m\n\u001b[1;32m    463\u001b[0m \u001b[38;5;124;03m'wide' format where each row represents a single time period and each \u001b[39;00m\n\u001b[0;32m   (...)\u001b[0m\n\u001b[1;32m    776\u001b[0m \u001b[38;5;124;03mThese sizes are relative to plt.rcParams['font.size'].\u001b[39;00m\n\u001b[1;32m    777\u001b[0m \u001b[38;5;124;03m'''\u001b[39;00m\n\u001b[1;32m    778\u001b[0m bcr \u001b[38;5;241m=\u001b[39m _BarChartRace(df, filename, orientation, sort, n_bars, fixed_order, fixed_max,\n\u001b[1;32m    779\u001b[0m                     steps_per_period, period_length, interpolate_period, label_bars, bar_size, \n\u001b[1;32m    780\u001b[0m                     period_label, period_fmt, period_summary_func, perpendicular_bar_func, \n\u001b[1;32m    781\u001b[0m                     figsize, cmap, title, title_size, bar_label_size, tick_label_size, \n\u001b[1;32m    782\u001b[0m                     shared_fontdict, scale, writer, fig, dpi, bar_kwargs, filter_column_colors)\n\u001b[0;32m--> 783\u001b[0m \u001b[38;5;28;01mreturn\u001b[39;00m bcr\u001b[38;5;241m.\u001b[39mmake_animation()\n",
      "File \u001b[0;32m~/anaconda3/lib/python3.11/site-packages/bar_chart_race/_make_chart.py:446\u001b[0m, in \u001b[0;36m_BarChartRace.make_animation\u001b[0;34m(self)\u001b[0m\n\u001b[1;32m    444\u001b[0m     \u001b[38;5;28;01melse\u001b[39;00m:\n\u001b[1;32m    445\u001b[0m         message \u001b[38;5;241m=\u001b[39m \u001b[38;5;28mstr\u001b[39m(e)\n\u001b[0;32m--> 446\u001b[0m     \u001b[38;5;28;01mraise\u001b[39;00m \u001b[38;5;167;01mException\u001b[39;00m(message)\n\u001b[1;32m    447\u001b[0m \u001b[38;5;28;01mfinally\u001b[39;00m:\n\u001b[1;32m    448\u001b[0m     plt\u001b[38;5;241m.\u001b[39mrcParams \u001b[38;5;241m=\u001b[39m \u001b[38;5;28mself\u001b[39m\u001b[38;5;241m.\u001b[39morig_rcParams\n",
      "\u001b[0;31mException\u001b[0m: You do not have ffmpeg installed on your machine. Download\n                            ffmpeg from here: https://www.ffmpeg.org/download.html.\n                            \n                            Matplotlib's original error message below:\n\n                            unknown file extension: .mp4\n                            "
     ]
    }
   ],
   "source": [
    "# Create mp4 file for 2 files with video format\n",
    "bcr.bar_chart_race(df_total, filename=\"covid19.mp4\", figsize=(8,5), title=\"Chadew - Covid19 datas\")"
   ]
  },
  {
   "cell_type": "code",
   "execution_count": null,
   "metadata": {
    "colab": {
     "base_uri": "https://localhost:8080/",
     "height": 509
    },
    "id": "3oxcDfCXK4tg",
    "outputId": "be2069f6-cacf-4dc6-a9ae-738e5cd44177"
   },
   "outputs": [],
   "source": [
    "# this code allows us to view via Browser.\n",
    "from IPython.display import HTML\n",
    "from base64 import b64encode\n",
    "mp4=open(\"covid19.mp4\",\"rb\").read()\n",
    "data_url=\"data:video/mp4;base64,\"+b64encode(mp4).decode()\n",
    "HTML(\"\"\"\n",
    "  <video width=800 controls>\n",
    "    <source src=\"%s\" type=\"video/mp4\">\n",
    "  </video>\n",
    "\"\"\" % data_url)"
   ]
  },
  {
   "cell_type": "code",
   "execution_count": null,
   "metadata": {
    "id": "k7E7y3toQN6x"
   },
   "outputs": [],
   "source": []
  }
 ],
 "metadata": {
  "colab": {
   "collapsed_sections": [],
   "provenance": []
  },
  "kernelspec": {
   "display_name": "Python 3 (ipykernel)",
   "language": "python",
   "name": "python3"
  },
  "language_info": {
   "codemirror_mode": {
    "name": "ipython",
    "version": 3
   },
   "file_extension": ".py",
   "mimetype": "text/x-python",
   "name": "python",
   "nbconvert_exporter": "python",
   "pygments_lexer": "ipython3",
   "version": "3.11.5"
  }
 },
 "nbformat": 4,
 "nbformat_minor": 1
}

{
 "cells": [
  {
   "cell_type": "code",
   "execution_count": 1,
   "id": "f7179fe4-56a4-48fc-80ba-bc45591f9533",
   "metadata": {},
   "outputs": [
    {
     "name": "stdout",
     "output_type": "stream",
     "text": [
      "Collecting bing-image-downloader\n",
      "  Downloading bing_image_downloader-1.1.2-py3-none-any.whl.metadata (2.8 kB)\n",
      "Downloading bing_image_downloader-1.1.2-py3-none-any.whl (5.9 kB)\n",
      "Installing collected packages: bing-image-downloader\n",
      "Successfully installed bing-image-downloader-1.1.2\n",
      "Note: you may need to restart the kernel to use updated packages.\n"
     ]
    }
   ],
   "source": [
    "#pip install bing-image-downloader"
   ]
  },
  {
   "cell_type": "code",
   "execution_count": 3,
   "id": "8f4fe2a9-a42f-453f-9b88-a6fc71aa3bfc",
   "metadata": {},
   "outputs": [],
   "source": [
    "from bing_image_downloader import downloader"
   ]
  },
  {
   "cell_type": "code",
   "execution_count": 23,
   "id": "509d922c-d372-41c5-aa0e-318128df4086",
   "metadata": {},
   "outputs": [
    {
     "name": "stdout",
     "output_type": "stream",
     "text": [
      "[%] Downloading Images to /Users/chadsglm/Documents/GitHub/AI_BootCamp/Day 9/dataset/dog\n",
      "\n",
      "\n",
      "[!!]Indexing page: 1\n",
      "\n",
      "[%] Indexed 35 Images on Page 1.\n",
      "\n",
      "===============================================\n",
      "\n",
      "[%] Downloading Image #1 from http://4.bp.blogspot.com/-Dggam2dsVY8/U53tP5KuZ0I/AAAAAAAA-nE/_l0e93v91G8/s1600/cute-dog-pictures-025-022.jpg\n",
      "[%] File Downloaded !\n",
      "\n",
      "[%] Downloading Image #2 from http://www.publicdomainpictures.net/pictures/170000/velka/dog-1463218026uIC.jpg\n",
      "[%] File Downloaded !\n",
      "\n",
      "[%] Downloading Image #3 from https://www.besthealthmag.ca/wp-content/uploads/2019/09/shutterstock_1062336044.jpg\n",
      "[!] Issue getting: https://www.besthealthmag.ca/wp-content/uploads/2019/09/shutterstock_1062336044.jpg\n",
      "[!] Error:: HTTP Error 403: Forbidden\n",
      "[%] Downloading Image #3 from http://upload.wikimedia.org/wikipedia/commons/6/69/Funny_dog.jpg\n",
      "[%] File Downloaded !\n",
      "\n",
      "[%] Downloading Image #4 from http://3.bp.blogspot.com/-ZMpwMhvN1vc/VFZ330hGsBI/AAAAAAABN2A/92P-ImlDTmI/s1600/cute-dogs-045-18.jpg\n",
      "[%] File Downloaded !\n",
      "\n",
      "[%] Downloading Image #5 from http://1.bp.blogspot.com/_cUuIMoP_aeE/S73Lj3zCtyI/AAAAAAAACTQ/Z3k9Cyz2OfU/s1600/dog.jpg\n",
      "[%] File Downloaded !\n",
      "\n",
      "[%] Downloading Image #6 from http://d.ibtimes.co.uk/en/full/380140/dogs.jpg?w=720\n",
      "[%] File Downloaded !\n",
      "\n",
      "[%] Downloading Image #7 from https://express-images.franklymedia.com/6616/sites/395/2020/03/12084509/dreamstime_l_28679812.jpg\n",
      "[%] File Downloaded !\n",
      "\n",
      "[%] Downloading Image #8 from https://postmediatorontosun.files.wordpress.com/2017/11/dog1000.jpg\n",
      "[!] Issue getting: https://postmediatorontosun.files.wordpress.com/2017/11/dog1000.jpg\n",
      "[!] Error:: HTTP Error 403: Forbidden\n",
      "[%] Downloading Image #8 from http://s1.bwallpapers.com/wallpapers/2013/12/26/dog-free-desktop-wallpaper_102040.jpg\n",
      "[%] File Downloaded !\n",
      "\n",
      "[%] Downloading Image #9 from http://4.bp.blogspot.com/-6hmpBg6rl9c/VT1C1Qg3XFI/AAAAAAABWRU/LYkBlh7I1uE/s1600/cute-dogs-070-22.jpg\n",
      "[%] File Downloaded !\n",
      "\n",
      "[%] Downloading Image #10 from https://img2.thepetowners.com/89/2016/1022/08/b/162432/original.jpg\n",
      "[%] File Downloaded !\n",
      "\n",
      "[%] Downloading Image #11 from https://fthmb.tqn.com/6Hh7VNZTwZ9ZL4itWP0FzH62Ufk=/960x0/filters:no_upscale()/echoJPG-5a611b8ef1300a003726ed94.jpg\n",
      "[%] File Downloaded !\n",
      "\n",
      "[%] Downloading Image #12 from https://usercontent2.hubstatic.com/7475029_f520.jpg\n",
      "[%] File Downloaded !\n",
      "\n",
      "[%] Downloading Image #13 from https://get.pxhere.com/photo/nature-hair-sweet-puppy-dog-animal-pet-mammal-gray-hound-weimaraner-eyes-animals-vertebrate-muzzle-dog-breed-tenderness-pointer-lively-dog-like-mammal-carnivoran-braque-d-auvergne-pointing-breed-757706.jpg\n",
      "[%] File Downloaded !\n",
      "\n",
      "[%] Downloading Image #14 from https://s-media-cache-ak0.pinimg.com/736x/74/75/6b/74756b1b41ec956a68e0f29fea34fbcb.jpg\n",
      "[%] File Downloaded !\n",
      "\n",
      "[%] Downloading Image #15 from https://animalaxy.fr/wp-content/uploads/2018/04/nature-puppy-dog-pet-mammal-nose-1050982-pxhere.com_.jpg\n",
      "[%] File Downloaded !\n",
      "\n",
      "[%] Downloading Image #16 from http://doggies.com/blog/wp-content/uploads/2011/04/dreamstime_2260248-247x350.jpg\n",
      "[%] File Downloaded !\n",
      "\n",
      "[%] Downloading Image #17 from https://singularityhub.com/wp-content/uploads/2013/02/dogB.jpg\n",
      "[%] File Downloaded !\n",
      "\n",
      "[%] Downloading Image #18 from https://1.bp.blogspot.com/-mLI73ZAShgM/V0IGRvSvOPI/AAAAAAABnQw/Zd-tYv3NrF0kQM5hTe8Ptcwa8oM9qHA4QCLcB/s1600/cute-dogs-126-09.jpg\n",
      "[%] File Downloaded !\n",
      "\n",
      "[%] Downloading Image #19 from https://2.bp.blogspot.com/-hj3v8mWs-7A/VxPic152kyI/AAAAAAABmS4/s0ax-9fAmnUw0QbUAgYUjfx5jC_IZ2SLACLcB/s1600/cute-dogs-121-09.jpg\n",
      "[%] File Downloaded !\n",
      "\n",
      "[%] Downloading Image #20 from https://dogstodaymagazine.co.uk/wp-content/uploads/2017/04/dog-513109_960_720.jpg\n",
      "[!] Issue getting: https://dogstodaymagazine.co.uk/wp-content/uploads/2017/04/dog-513109_960_720.jpg\n",
      "[!] Error:: Remote end closed connection without response\n",
      "[%] Downloading Image #20 from https://www.security-guard.ca/wp-content/uploads/2015/03/6053652632_a21cb49ac5_o.jpg\n",
      "[%] File Downloaded !\n",
      "\n",
      "[%] Downloading Image #21 from https://wallup.net/wp-content/uploads/2016/01/122915-animals-puppies-baby_animals-dog.jpg\n",
      "[%] File Downloaded !\n",
      "\n",
      "[%] Downloading Image #22 from http://www.serviceanimalregistryofcalifornia.com/wp-content/uploads/2019/04/shep-1024x678.jpg\n",
      "[%] File Downloaded !\n",
      "\n",
      "[%] Downloading Image #23 from https://www.professorshouse.com/wp-content/uploads/2015/03/dog-131.jpg\n",
      "[%] File Downloaded !\n",
      "\n",
      "[%] Downloading Image #24 from http://s1.r29static.com/bin/entry/953/x,80/1269048/dog2.jpg\n",
      "[%] File Downloaded !\n",
      "\n",
      "[%] Downloading Image #25 from https://3.bp.blogspot.com/-PfNDi0GKFqo/UTkcCt8M-sI/AAAAAAAABbI/43PblEFiiJI/s1600/CruftsD1-443.jpg\n",
      "[%] File Downloaded !\n",
      "\n",
      "[%] Downloading Image #26 from https://mediaproxy.salon.com/width/1200/https://media.salon.com/2009/02/praise_be_to_dog.jpg\n",
      "[%] File Downloaded !\n",
      "\n",
      "[%] Downloading Image #27 from https://www.rd.com/wp-content/uploads/2016/01/04-dog-breeds-dalmation.jpg\n",
      "[!] Issue getting: https://www.rd.com/wp-content/uploads/2016/01/04-dog-breeds-dalmation.jpg\n",
      "[!] Error:: HTTP Error 403: Forbidden\n",
      "[%] Downloading Image #27 from http://s2.b3ta.com/host/creative/8897/1475189307/trumpdog.jpg\n",
      "[%] File Downloaded !\n",
      "\n",
      "[%] Downloading Image #28 from https://wedding-pictures.onewed.com/match/images/214289/Dog.full.jpg\n",
      "[%] File Downloaded !\n",
      "\n",
      "[%] Downloading Image #29 from https://cdn.omlet.co.uk/images/originals/Dog-Dog_Guide-A_happy_and_playful_posture_of_a_dog.jpg\n",
      "[%] File Downloaded !\n",
      "\n",
      "[%] Downloading Image #30 from https://media-cldnry.s-nbcnews.com/image/upload/t_fit-760w,f_auto,q_auto:best/MSNBC/Components/Photo/_new/dog.jpg\n",
      "[%] File Downloaded !\n",
      "\n",
      "[%] Downloading Image #31 from https://cdn.mos.cms.futurecdn.net/GK8d2douuvJ58mpSSSzgxH-1200-80.jpg\n",
      "[%] File Downloaded !\n",
      "\n",
      "\n",
      "\n",
      "[!!]Indexing page: 2\n",
      "\n",
      "[%] Indexed 35 Images on Page 2.\n",
      "\n",
      "===============================================\n",
      "\n",
      "\n",
      "\n",
      "[!!]Indexing page: 3\n",
      "\n",
      "[%] Indexed 35 Images on Page 3.\n",
      "\n",
      "===============================================\n",
      "\n",
      "[%] Downloading Image #32 from https://www.travel4wildlife.com/wp-content/uploads/2014/02/wild-dog-puppy.jpg\n",
      "[%] File Downloaded !\n",
      "\n",
      "\n",
      "\n",
      "[!!]Indexing page: 4\n",
      "\n",
      "[%] Indexed 35 Images on Page 4.\n",
      "\n",
      "===============================================\n",
      "\n",
      "[%] Downloading Image #33 from https://1.bp.blogspot.com/-I7J7OnXR4_4/TgYjcgYQrjI/AAAAAAAADYI/R7rrTjoBS60/s1600/Dog+page-a-day.jpg\n",
      "[%] File Downloaded !\n",
      "\n",
      "\n",
      "\n",
      "[!!]Indexing page: 5\n",
      "\n",
      "[%] Indexed 35 Images on Page 5.\n",
      "\n",
      "===============================================\n",
      "\n",
      "[%] Downloading Image #34 from https://www.californiabeaches.com/wp-content/uploads/2017/03/bigs-Jack-Russell-Terrier-Pup-digging-in-a-California-beach-e1-Large.jpg\n",
      "[%] File Downloaded !\n",
      "\n",
      "\n",
      "\n",
      "[!!]Indexing page: 6\n",
      "\n",
      "[%] Indexed 35 Images on Page 6.\n",
      "\n",
      "===============================================\n",
      "\n",
      "[%] Downloading Image #35 from https://2.bp.blogspot.com/_qVMbjZEy4t8/SsUzDHqKOGI/AAAAAAAAAPA/nwZXO-bK0EE/s400/12089542_2.jpg\n",
      "[%] File Downloaded !\n",
      "\n",
      "\n",
      "\n",
      "[!!]Indexing page: 7\n",
      "\n",
      "[%] Indexed 35 Images on Page 7.\n",
      "\n",
      "===============================================\n",
      "\n",
      "[%] Downloading Image #36 from https://images.foxtv.com/static.ktvu.com/www.ktvu.com/content/uploads/2019/10/1280/720/3f82fa5f-dog-1.jpg?ve=1&amp;tl=1\n",
      "[%] File Downloaded !\n",
      "\n",
      "\n",
      "\n",
      "[!!]Indexing page: 8\n",
      "\n",
      "[%] Indexed 35 Images on Page 8.\n",
      "\n",
      "===============================================\n",
      "\n",
      "[%] Downloading Image #37 from https://lh5.googleusercontent.com/-2r6G8hBsUEw/TYflrRUInHI/AAAAAAAAD6Q/iDS70Sy0Sx8/s1600/dog+%252823%2529.jpg\n",
      "[%] File Downloaded !\n",
      "\n",
      "\n",
      "\n",
      "[!!]Indexing page: 9\n",
      "\n",
      "[%] Indexed 35 Images on Page 9.\n",
      "\n",
      "===============================================\n",
      "\n",
      "[%] Downloading Image #38 from http://forums.steroid.com/attachments/anabolic-lounge-off-topic-discussion/99867d1243783859-dogs-imag0001.jpg\n",
      "[%] File Downloaded !\n",
      "\n",
      "\n",
      "\n",
      "[!!]Indexing page: 10\n",
      "\n",
      "[%] Indexed 35 Images on Page 10.\n",
      "\n",
      "===============================================\n",
      "\n",
      "[%] Downloading Image #39 from http://4.bp.blogspot.com/-SMl_snap74g/U4t4jVyI9pI/AAAAAAAA97k/-HWtPxIU97E/s1600/cute-dogs-023-010.jpg\n",
      "[%] File Downloaded !\n",
      "\n",
      "\n",
      "\n",
      "[!!]Indexing page: 11\n",
      "\n",
      "[%] Indexed 35 Images on Page 11.\n",
      "\n",
      "===============================================\n",
      "\n",
      "[%] Downloading Image #40 from https://thumbnails.yayimages.com/1600/0/51b/51b016.jpg\n",
      "[%] File Downloaded !\n",
      "\n",
      "\n",
      "\n",
      "[!!]Indexing page: 12\n",
      "\n",
      "[%] No more images are available\n",
      "\n",
      "\n",
      "[%] Done. Downloaded 40 images.\n"
     ]
    }
   ],
   "source": [
    "downloader.download('dog', limit=100, adult_filter_off=False)"
   ]
  },
  {
   "cell_type": "markdown",
   "id": "99877606-3a3e-42a5-951b-ddbf3f22b578",
   "metadata": {},
   "source": [
    "# Computer Vision with Deep Learning"
   ]
  },
  {
   "cell_type": "code",
   "execution_count": 7,
   "id": "ecd98c9b-1c42-4d4a-8e93-65a0853860d8",
   "metadata": {},
   "outputs": [
    {
     "name": "stderr",
     "output_type": "stream",
     "text": [
      "2024-03-22 22:44:29.927068: I tensorflow/core/platform/cpu_feature_guard.cc:210] This TensorFlow binary is optimized to use available CPU instructions in performance-critical operations.\n",
      "To enable the following instructions: AVX2 FMA, in other operations, rebuild TensorFlow with the appropriate compiler flags.\n"
     ]
    }
   ],
   "source": [
    "import tensorflow as tf"
   ]
  },
  {
   "cell_type": "code",
   "execution_count": 9,
   "id": "4d09eef4-adbf-486d-a23a-5cc877cf5450",
   "metadata": {},
   "outputs": [],
   "source": [
    "mnist = tf.keras.datasets.mnist # hand write numbers"
   ]
  },
  {
   "cell_type": "code",
   "execution_count": 10,
   "id": "e1c5de35-8a6b-4465-8730-73248be3027b",
   "metadata": {},
   "outputs": [
    {
     "name": "stdout",
     "output_type": "stream",
     "text": [
      "Downloading data from https://storage.googleapis.com/tensorflow/tf-keras-datasets/mnist.npz\n",
      "\u001b[1m11490434/11490434\u001b[0m \u001b[32m━━━━━━━━━━━━━━━━━━━━\u001b[0m\u001b[37m\u001b[0m \u001b[1m2s\u001b[0m 0us/step\n"
     ]
    }
   ],
   "source": [
    "(train_images,train_labels),(test_images,test_labels)=mnist.load_data() "
   ]
  },
  {
   "cell_type": "code",
   "execution_count": 11,
   "id": "e00b4a63-ea63-4d53-92cb-617bc083e875",
   "metadata": {},
   "outputs": [
    {
     "data": {
      "text/plain": [
       "(60000, 28, 28)"
      ]
     },
     "execution_count": 11,
     "metadata": {},
     "output_type": "execute_result"
    }
   ],
   "source": [
    "train_images.shape"
   ]
  },
  {
   "cell_type": "code",
   "execution_count": 12,
   "id": "86b12a50-1bad-48fd-83b8-bf123fdc2009",
   "metadata": {},
   "outputs": [],
   "source": [
    "import matplotlib.pyplot as plt"
   ]
  },
  {
   "cell_type": "code",
   "execution_count": 15,
   "id": "a0289e0d-895b-4888-a952-609cd0c26adc",
   "metadata": {},
   "outputs": [
    {
     "data": {
      "text/plain": [
       "<matplotlib.image.AxesImage at 0x15820d8d0>"
      ]
     },
     "execution_count": 15,
     "metadata": {},
     "output_type": "execute_result"
    },
    {
     "data": {
      "image/png": "[encoded data removed]",
      "text/plain": [
       "<Figure size 640x480 with 1 Axes>"
      ]
     },
     "metadata": {},
     "output_type": "display_data"
    }
   ],
   "source": [
    "plt.imshow(train_images[0], cmap='gray')"
   ]
  },
  {
   "cell_type": "code",
   "execution_count": 16,
   "id": "354cec72-99d4-4420-bb2d-4cee5e5dd317",
   "metadata": {},
   "outputs": [
    {
     "data": {
      "text/plain": [
       "<matplotlib.image.AxesImage at 0x1582fd4d0>"
      ]
     },
     "execution_count": 16,
     "metadata": {},
     "output_type": "execute_result"
    },
    {
     "data": {
      "image/png": "[encoded data removed]",
      "text/plain": [
       "<Figure size 640x480 with 1 Axes>"
      ]
     },
     "metadata": {},
     "output_type": "display_data"
    }
   ],
   "source": [
    "plt.imshow(train_images[10000], cmap='gray')"
   ]
  },
  {
   "cell_type": "code",
   "execution_count": 19,
   "id": "cc72b0b5-b204-465e-bb51-217855a0b609",
   "metadata": {},
   "outputs": [
    {
     "data": {
      "text/plain": [
       "2"
      ]
     },
     "execution_count": 19,
     "metadata": {},
     "output_type": "execute_result"
    }
   ],
   "source": [
    "train_labels[25]"
   ]
  },
  {
   "cell_type": "code",
   "execution_count": 20,
   "id": "b98adf14-098d-4b2a-8c99-9c9e1fbe58fc",
   "metadata": {},
   "outputs": [
    {
     "data": {
      "text/plain": [
       "(10000, 28, 28)"
      ]
     },
     "execution_count": 20,
     "metadata": {},
     "output_type": "execute_result"
    }
   ],
   "source": [
    "test_images.shape"
   ]
  },
  {
   "cell_type": "code",
   "execution_count": 24,
   "id": "23a73080-6acf-473c-b928-82a2a59af85b",
   "metadata": {},
   "outputs": [],
   "source": [
    "#Normalize data\n",
    "train_images=train_images/255.0\n",
    "test_images=test_images/255.0"
   ]
  },
  {
   "cell_type": "code",
   "execution_count": 25,
   "id": "2dcbfc50-862f-47ae-91da-d10845c60caf",
   "metadata": {},
   "outputs": [
    {
     "data": {
      "text/plain": [
       "<matplotlib.image.AxesImage at 0x1588f7ad0>"
      ]
     },
     "execution_count": 25,
     "metadata": {},
     "output_type": "execute_result"
    },
    {
     "data": {
      "image/png": "[encoded data removed]",
      "text/plain": [
       "<Figure size 640x480 with 1 Axes>"
      ]
     },
     "metadata": {},
     "output_type": "display_data"
    }
   ],
   "source": [
    "plt.imshow(train_images[10000], cmap='gray')"
   ]
  },
  {
   "cell_type": "markdown",
   "id": "323ddaf4-9031-48df-ae1f-b8928588e36d",
   "metadata": {},
   "source": [
    "## Convolutional Neural Networks - CNNs -Image Classification Resim siniflandirma modeli"
   ]
  },
  {
   "cell_type": "code",
   "execution_count": 26,
   "id": "72172d5b-4eeb-4242-860a-bbf9e2ef3fc9",
   "metadata": {},
   "outputs": [],
   "source": [
    "from tensorflow.keras.models import Sequential\n",
    "from tensorflow.keras.layers import Dense, Conv2D, InputLayer, Reshape, MaxPooling2D, Flatten"
   ]
  },
  {
   "cell_type": "code",
   "execution_count": 30,
   "id": "d66d8778-f564-4f9b-8a32-3cbe6109bcaa",
   "metadata": {},
   "outputs": [],
   "source": [
    "model=Sequential()\n",
    "model.add(InputLayer(input_shape=(28,28)))\n",
    "model.add(Reshape(target_shape=(28,28,1)))\n",
    "model.add(Conv2D(filters=12,kernel_size=(3,3),activation='relu'))\n",
    "model.add(MaxPooling2D(pool_size=(2,2)))\n",
    "model.add(Flatten())\n",
    "model.add(Dense(10)) # 10 diffirent answer classification, 0-9 numbers\n",
    "model.compile(optimizer='adam', loss=tf.keras.losses.SparseCategoricalCrossentropy(from_logits=True), metrics=['accuracy'])\n"
   ]
  },
  {
   "cell_type": "code",
   "execution_count": 31,
   "id": "305a7daf-91a6-4446-ac3a-edc8f261c287",
   "metadata": {},
   "outputs": [
    {
     "name": "stdout",
     "output_type": "stream",
     "text": [
      "Epoch 1/10\n",
      "\u001b[1m1500/1500\u001b[0m \u001b[32m━━━━━━━━━━━━━━━━━━━━\u001b[0m\u001b[37m\u001b[0m \u001b[1m11s\u001b[0m 7ms/step - accuracy: 0.8469 - loss: 0.5626 - val_accuracy: 0.9582 - val_loss: 0.1543\n",
      "Epoch 2/10\n",
      "\u001b[1m1500/1500\u001b[0m \u001b[32m━━━━━━━━━━━━━━━━━━━━\u001b[0m\u001b[37m\u001b[0m \u001b[1m9s\u001b[0m 6ms/step - accuracy: 0.9612 - loss: 0.1379 - val_accuracy: 0.9730 - val_loss: 0.0996\n",
      "Epoch 3/10\n",
      "\u001b[1m1500/1500\u001b[0m \u001b[32m━━━━━━━━━━━━━━━━━━━━\u001b[0m\u001b[37m\u001b[0m \u001b[1m9s\u001b[0m 6ms/step - accuracy: 0.9741 - loss: 0.0908 - val_accuracy: 0.9746 - val_loss: 0.0878\n",
      "Epoch 4/10\n",
      "\u001b[1m1500/1500\u001b[0m \u001b[32m━━━━━━━━━━━━━━━━━━━━\u001b[0m\u001b[37m\u001b[0m \u001b[1m11s\u001b[0m 7ms/step - accuracy: 0.9791 - loss: 0.0717 - val_accuracy: 0.9769 - val_loss: 0.0769\n",
      "Epoch 5/10\n",
      "\u001b[1m1500/1500\u001b[0m \u001b[32m━━━━━━━━━━━━━━━━━━━━\u001b[0m\u001b[37m\u001b[0m \u001b[1m12s\u001b[0m 8ms/step - accuracy: 0.9828 - loss: 0.0588 - val_accuracy: 0.9751 - val_loss: 0.0796\n",
      "Epoch 6/10\n",
      "\u001b[1m1500/1500\u001b[0m \u001b[32m━━━━━━━━━━━━━━━━━━━━\u001b[0m\u001b[37m\u001b[0m \u001b[1m10s\u001b[0m 7ms/step - accuracy: 0.9853 - loss: 0.0518 - val_accuracy: 0.9765 - val_loss: 0.0769\n",
      "Epoch 7/10\n",
      "\u001b[1m1500/1500\u001b[0m \u001b[32m━━━━━━━━━━━━━━━━━━━━\u001b[0m\u001b[37m\u001b[0m \u001b[1m9s\u001b[0m 6ms/step - accuracy: 0.9863 - loss: 0.0461 - val_accuracy: 0.9803 - val_loss: 0.0668\n",
      "Epoch 8/10\n",
      "\u001b[1m1500/1500\u001b[0m \u001b[32m━━━━━━━━━━━━━━━━━━━━\u001b[0m\u001b[37m\u001b[0m \u001b[1m11s\u001b[0m 7ms/step - accuracy: 0.9874 - loss: 0.0418 - val_accuracy: 0.9792 - val_loss: 0.0728\n",
      "Epoch 9/10\n",
      "\u001b[1m1500/1500\u001b[0m \u001b[32m━━━━━━━━━━━━━━━━━━━━\u001b[0m\u001b[37m\u001b[0m \u001b[1m10s\u001b[0m 6ms/step - accuracy: 0.9886 - loss: 0.0371 - val_accuracy: 0.9802 - val_loss: 0.0679\n",
      "Epoch 10/10\n",
      "\u001b[1m1500/1500\u001b[0m \u001b[32m━━━━━━━━━━━━━━━━━━━━\u001b[0m\u001b[37m\u001b[0m \u001b[1m10s\u001b[0m 6ms/step - accuracy: 0.9903 - loss: 0.0346 - val_accuracy: 0.9808 - val_loss: 0.0684\n"
     ]
    },
    {
     "data": {
      "text/plain": [
       "<keras.src.callbacks.history.History at 0x1599ded50>"
      ]
     },
     "execution_count": 31,
     "metadata": {},
     "output_type": "execute_result"
    }
   ],
   "source": [
    "model.fit(train_images, train_labels, validation_split=.20, epochs=10)"
   ]
  },
  {
   "cell_type": "code",
   "execution_count": 32,
   "id": "29de3a32-06dd-483f-84c2-f7d07a08430b",
   "metadata": {},
   "outputs": [
    {
     "name": "stdout",
     "output_type": "stream",
     "text": [
      "\u001b[1m313/313\u001b[0m \u001b[32m━━━━━━━━━━━━━━━━━━━━\u001b[0m\u001b[37m\u001b[0m \u001b[1m1s\u001b[0m 2ms/step - accuracy: 0.9794 - loss: 0.0684\n"
     ]
    }
   ],
   "source": [
    "loss,accuracy=model.evaluate(test_images, test_labels)"
   ]
  },
  {
   "cell_type": "code",
   "execution_count": 33,
   "id": "a7c69008-576e-41a5-81b1-40cbe295df30",
   "metadata": {},
   "outputs": [
    {
     "data": {
      "text/plain": [
       "0.9829000234603882"
      ]
     },
     "execution_count": 33,
     "metadata": {},
     "output_type": "execute_result"
    }
   ],
   "source": [
    "accuracy"
   ]
  },
  {
   "cell_type": "code",
   "execution_count": 34,
   "id": "5fcb75a3-73a2-4e39-87b8-6f26bd6a2eca",
   "metadata": {},
   "outputs": [
    {
     "name": "stderr",
     "output_type": "stream",
     "text": [
      "WARNING:absl:You are saving your model as an HDF5 file via `model.save()` or `keras.saving.save_model(model)`. This file format is considered legacy. We recommend using instead the native Keras format, e.g. `model.save('my_model.keras')` or `keras.saving.save_model(model, 'my_model.keras')`. \n"
     ]
    }
   ],
   "source": [
    "model.save('myhandwritenumbermodel.h5')"
   ]
  },
  {
   "cell_type": "code",
   "execution_count": 36,
   "id": "092e43d9-6982-4251-a20e-237343fa88a5",
   "metadata": {},
   "outputs": [],
   "source": [
    "# df=tf.keras.utils.image_dataset_from_directory('Skin_Data')"
   ]
  },
  {
   "cell_type": "code",
   "execution_count": null,
   "id": "00f5cadc-2cb0-4c17-8ee2-6516d63af70e",
   "metadata": {},
   "outputs": [],
   "source": [
    "from tensorflow.keras.models import Sequential\n",
    "from tensorflow.keras.layers import Dense, Conv2D, InputLayer, Reshape, MaxPooling2D, Flatten, BatchNormalization, Dropout"
   ]
  },
  {
   "cell_type": "code",
   "execution_count": null,
   "id": "85962146-f8fb-4543-9c75-d7187dc0c2b3",
   "metadata": {},
   "outputs": [],
   "source": [
    "model=Sequential()\n",
    "model.add(InputLayer(input_shape=(28,28)))\n",
    "model.add(Reshape(target_shape=(28,28,1)))\n",
    "model.add(Conv2D(filters=12,kernel_size=(3,3),activation='relu'))\n",
    "model.add(MaxPooling2D(pool_size=(2,2)))\n",
    "model.add(Flatten())\n",
    "model.add(BatchNormalization())\n",
    "model.add(Dense(60))\n",
    "model.add(Dropout(.25))\n",
    "model.add(Dense(10)) # 10 diffirent answer classification, 0-9 numbers\n",
    "model.compile(optimizer='adam', loss=tf.keras.losses.SparseCategoricalCrossentropy(from_logits=True), metrics=['accuracy'])\n"
   ]
  },
  {
   "cell_type": "code",
   "execution_count": null,
   "id": "42a45427-9343-4a3c-b1d3-9eec030fc77f",
   "metadata": {},
   "outputs": [],
   "source": [
    "# Techniques to increase the success rate in Deep Learning\n",
    "1- Increase the number of Layers\n",
    "2- Increase Neuron Count\n",
    "3- Prevents Dropout Overfitting ensures better learning\n",
    "4- "
   ]
  },
  {
   "cell_type": "code",
   "execution_count": null,
   "id": "f74d8849-7328-4ccf-aa10-c52aee7b0bef",
   "metadata": {},
   "outputs": [],
   "source": []
  }
 ],
 "metadata": {
  "kernelspec": {
   "display_name": "Python 3 (ipykernel)",
   "language": "python",
   "name": "python3"
  },
  "language_info": {
   "codemirror_mode": {
    "name": "ipython",
    "version": 3
   },
   "file_extension": ".py",
   "mimetype": "text/x-python",
   "name": "python",
   "nbconvert_exporter": "python",
   "pygments_lexer": "ipython3",
   "version": "3.11.7"
  }
 },
 "nbformat": 4,
 "nbformat_minor": 5
}

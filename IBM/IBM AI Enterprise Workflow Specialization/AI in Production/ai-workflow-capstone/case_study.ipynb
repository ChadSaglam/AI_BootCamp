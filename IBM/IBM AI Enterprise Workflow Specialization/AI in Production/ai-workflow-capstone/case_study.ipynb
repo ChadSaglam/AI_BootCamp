{
 "cells": [
  {
   "cell_type": "markdown",
   "metadata": {},
   "source": [
    " # Capstone Case Study"
   ]
  },
  {
   "cell_type": "markdown",
   "metadata": {},
   "source": [
    "## 1. Assimilate the business scenario and articulate testable hypotheses.\n",
    "\n",
    "The business scenario is mainly to understand the impact of moving from standard tiered subscription model to more customised model for different countries. The data science problem here is regression problem (supervised learning) to understand the impact of moving to new model in terms of monthly revenue. The following hypotheses can be made for the above business scenario\n",
    "\n",
    "a. Null Hypothesis - There is no change in the revenue from the existing and new model for all the countries compared to previous month\n",
    "\n",
    "b. Hypothesis 1 - The revenue for top 10 countries by usage are not impacted but other countries will see decreased revenues compared to previous month\n",
    "\n",
    "c. Hypothesis 2 - The revenue for all the countries will increase as conversions will improve due to customized subscription model compared to previous month\n",
    "\n",
    "d. Hypothesis 3 - The revenue for all the countries will decrease as customized subscription model will reduce revenue per user compared to previous month"
   ]
  },
  {
   "cell_type": "markdown",
   "metadata": {},
   "source": [
    "## 2. Create a python script to extract relevant data from multiple data sources, automating the process of data ingestion."
   ]
  },
  {
   "cell_type": "code",
   "execution_count": 1,
   "metadata": {},
   "outputs": [],
   "source": [
    "import os\n",
    "import sys\n",
    "import pandas as pd\n",
    "import numpy as np\n",
    "from solution.cslib import *"
   ]
  },
  {
   "cell_type": "code",
   "execution_count": 2,
   "metadata": {},
   "outputs": [
    {
     "data": {
      "text/html": [
       "<div>\n",
       "<style scoped>\n",
       "    .dataframe tbody tr th:only-of-type {\n",
       "        vertical-align: middle;\n",
       "    }\n",
       "\n",
       "    .dataframe tbody tr th {\n",
       "        vertical-align: top;\n",
       "    }\n",
       "\n",
       "    .dataframe thead th {\n",
       "        text-align: right;\n",
       "    }\n",
       "</style>\n",
       "<table border=\"1\" class=\"dataframe\">\n",
       "  <thead>\n",
       "    <tr style=\"text-align: right;\">\n",
       "      <th></th>\n",
       "      <th>country</th>\n",
       "      <th>customer_id</th>\n",
       "      <th>day</th>\n",
       "      <th>invoice</th>\n",
       "      <th>month</th>\n",
       "      <th>price</th>\n",
       "      <th>stream_id</th>\n",
       "      <th>times_viewed</th>\n",
       "      <th>year</th>\n",
       "      <th>invoice_date</th>\n",
       "    </tr>\n",
       "  </thead>\n",
       "  <tbody>\n",
       "    <tr>\n",
       "      <th>0</th>\n",
       "      <td>United Kingdom</td>\n",
       "      <td>17998.0</td>\n",
       "      <td>28</td>\n",
       "      <td>489562</td>\n",
       "      <td>11</td>\n",
       "      <td>5.95</td>\n",
       "      <td>84656</td>\n",
       "      <td>1</td>\n",
       "      <td>2017</td>\n",
       "      <td>2017-11-28</td>\n",
       "    </tr>\n",
       "    <tr>\n",
       "      <th>1</th>\n",
       "      <td>United Kingdom</td>\n",
       "      <td>13085.0</td>\n",
       "      <td>28</td>\n",
       "      <td>489434</td>\n",
       "      <td>11</td>\n",
       "      <td>6.75</td>\n",
       "      <td>79323W</td>\n",
       "      <td>12</td>\n",
       "      <td>2017</td>\n",
       "      <td>2017-11-28</td>\n",
       "    </tr>\n",
       "    <tr>\n",
       "      <th>2</th>\n",
       "      <td>United Kingdom</td>\n",
       "      <td>13085.0</td>\n",
       "      <td>28</td>\n",
       "      <td>489434</td>\n",
       "      <td>11</td>\n",
       "      <td>2.10</td>\n",
       "      <td>22041</td>\n",
       "      <td>21</td>\n",
       "      <td>2017</td>\n",
       "      <td>2017-11-28</td>\n",
       "    </tr>\n",
       "    <tr>\n",
       "      <th>3</th>\n",
       "      <td>United Kingdom</td>\n",
       "      <td>13085.0</td>\n",
       "      <td>28</td>\n",
       "      <td>489434</td>\n",
       "      <td>11</td>\n",
       "      <td>1.25</td>\n",
       "      <td>21232</td>\n",
       "      <td>5</td>\n",
       "      <td>2017</td>\n",
       "      <td>2017-11-28</td>\n",
       "    </tr>\n",
       "    <tr>\n",
       "      <th>4</th>\n",
       "      <td>United Kingdom</td>\n",
       "      <td>13085.0</td>\n",
       "      <td>28</td>\n",
       "      <td>489434</td>\n",
       "      <td>11</td>\n",
       "      <td>1.65</td>\n",
       "      <td>22064</td>\n",
       "      <td>17</td>\n",
       "      <td>2017</td>\n",
       "      <td>2017-11-28</td>\n",
       "    </tr>\n",
       "  </tbody>\n",
       "</table>\n",
       "</div>"
      ],
      "text/plain": [
       "          country  customer_id  day invoice  month  price stream_id  \\\n",
       "0  United Kingdom      17998.0   28  489562     11   5.95     84656   \n",
       "1  United Kingdom      13085.0   28  489434     11   6.75    79323W   \n",
       "2  United Kingdom      13085.0   28  489434     11   2.10     22041   \n",
       "3  United Kingdom      13085.0   28  489434     11   1.25     21232   \n",
       "4  United Kingdom      13085.0   28  489434     11   1.65     22064   \n",
       "\n",
       "   times_viewed  year invoice_date  \n",
       "0             1  2017   2017-11-28  \n",
       "1            12  2017   2017-11-28  \n",
       "2            21  2017   2017-11-28  \n",
       "3             5  2017   2017-11-28  \n",
       "4            17  2017   2017-11-28  "
      ]
     },
     "execution_count": 2,
     "metadata": {},
     "output_type": "execute_result"
    }
   ],
   "source": [
    "cs_train_dir = os.path.join(\".\",\"cs-train\")\n",
    "df = fetch_data(cs_train_dir)\n",
    "df.head()"
   ]
  },
  {
   "cell_type": "markdown",
   "metadata": {},
   "source": [
    "## 3. Investigate the relationship between the relevant data, the target and the business metric."
   ]
  },
  {
   "cell_type": "code",
   "execution_count": 7,
   "metadata": {},
   "outputs": [
    {
     "name": "stdout",
     "output_type": "stream",
     "text": [
      "year                 2017         2018         2019        total\n",
      "country                                                         \n",
      "total           198307.76  2526012.744  1189876.862  3914197.366\n",
      "United Kingdom  187241.07  2272135.643  1062136.792  3521513.505\n",
      "EIRE              4433.09    74398.300    28237.820   107069.210\n",
      "Germany           1525.79    30554.331    17191.700    49271.821\n",
      "France            1200.34    24538.340    14826.460    40565.140\n",
      "Norway             123.28    34716.400     3655.070    38494.750\n",
      "Spain              845.22     7311.560     7884.210    16040.990\n",
      "Hong Kong             NaN     8715.380     5737.190    14452.570\n",
      "Portugal           294.35     4292.260     8942.060    13528.670\n",
      "Singapore             NaN      372.510    12803.410    13175.920\n",
      "Netherlands        384.26     8948.110     2990.430    12322.800\n"
     ]
    }
   ],
   "source": [
    "import scipy.stats as stats\n",
    "import matplotlib.pyplot as plt\n",
    "import seaborn as sns  # Import seaborn to use its styles\n",
    "\n",
    "sns.set()  # Apply seaborn's default style to matplotlib\n",
    "%matplotlib inline\n",
    "\n",
    "# Top 10 Countries by Revenue\n",
    "countries = df['country'].values\n",
    "\n",
    "top10 = pd.crosstab(df['country'], df['year'], values=df['price'], aggfunc='sum', margins=True, margins_name='total')\n",
    "top10 = top10.sort_values('total', ascending=False)\n",
    "print(top10.head(11))"
   ]
  },
  {
   "cell_type": "code",
   "execution_count": 9,
   "metadata": {},
   "outputs": [
    {
     "name": "stdout",
     "output_type": "stream",
     "text": [
      "country            total  United Kingdom       EIRE    Germany    France  \\\n",
      "year  month                                                                \n",
      "2017  11       41152.750       39445.590     570.21    156.480    352.42   \n",
      "      12      157155.010      147795.480    3862.88   1369.310    847.92   \n",
      "2018  1       183680.394      156741.514   14825.74   2121.430   1564.87   \n",
      "      2       116345.374      103386.264    2523.79   1570.700   1694.52   \n",
      "      3       257428.441      211490.981    4686.84   2427.520    911.74   \n",
      "      4       116642.342      103206.131    3042.55   2352.251    705.27   \n",
      "      5       155748.790      136435.360    3761.58   1469.110   1475.30   \n",
      "      6       229099.440      217849.500    3044.98   2937.690   1214.97   \n",
      "      7       108378.730       91460.410    4133.82   4130.510   4783.86   \n",
      "      8       156605.000      135892.280    2789.03   1535.460   3351.60   \n",
      "      9       222500.981      204623.941    8468.86   2286.980   1489.05   \n",
      "      10      279360.780      243017.000   20010.97   3264.750   1968.79   \n",
      "      11      335170.912      313246.222    5235.61   3788.380   3161.51   \n",
      "      12      365051.560      354786.040    1874.53   2669.550   2216.86   \n",
      "2019  1       188110.660      172359.770    1221.53   3027.110   2544.53   \n",
      "      2       128476.940      116808.970    1302.30   1245.010   1383.95   \n",
      "      3       161572.990      138856.410    9305.10   2091.190   1477.59   \n",
      "      4       152566.451      130373.041    1286.53   2128.190   3319.02   \n",
      "      5       176966.130      156283.740    2374.79   3551.420   2451.65   \n",
      "      6       189927.250      169493.000   10267.76   1528.220   2070.00   \n",
      "      7       192256.441      177961.861    2479.81   3620.560   1579.72   \n",
      "total        3914197.366     3521513.505  107069.21  49271.821  40565.14   \n",
      "\n",
      "country        Norway     Spain  Hong Kong  Portugal  Singapore  Netherlands  \n",
      "year  month                                                                   \n",
      "2017  11          NaN      3.35        NaN    208.75        NaN        49.33  \n",
      "      12       123.28    841.87        NaN     85.60        NaN       334.93  \n",
      "2018  1           NaN   3567.65        NaN    214.42        NaN       378.95  \n",
      "      2           NaN     90.49        NaN    289.91        NaN      1199.31  \n",
      "      3      33628.55    254.86        NaN    171.94        NaN       877.41  \n",
      "      4           NaN    178.88     100.26     11.78     152.76       734.49  \n",
      "      5           NaN    504.89    4793.22    186.17        NaN       850.73  \n",
      "      6           NaN     79.61      54.60    621.63        NaN       402.68  \n",
      "      7           NaN    252.44        NaN     96.85        NaN       499.18  \n",
      "      8        154.80    192.03    3767.30    167.79        NaN      1134.51  \n",
      "      9        139.74    592.38        NaN    398.82     219.75       814.87  \n",
      "      10        65.76    839.08        NaN    556.99        NaN       754.57  \n",
      "      11       455.23    387.37        NaN    816.86        NaN      1156.57  \n",
      "      12       272.32    371.88        NaN    759.10        NaN       144.84  \n",
      "2019  1         65.30   4494.62     178.86    425.33     263.34       498.62  \n",
      "      2       1810.00    257.20        NaN    216.98        NaN       382.53  \n",
      "      3         90.07    870.36    5167.52    334.88        NaN       549.47  \n",
      "      4           NaN    396.65     113.41    214.86   12309.61        54.93  \n",
      "      5           NaN    479.18     217.96   7377.82        NaN       787.63  \n",
      "      6       1521.07    738.57      59.44    170.73        NaN       691.23  \n",
      "      7        168.63    647.63        NaN    201.46     230.46        26.02  \n",
      "total        38494.75  16040.99   14452.57  13528.67   13175.92     12322.80  \n"
     ]
    }
   ],
   "source": [
    "# Month Wise Revenue Distribution\n",
    "df['month'] = df['invoice_date'].map(lambda x: x.month)\n",
    "rev = pd.crosstab(df['country'], [df['year'], df['month']], values=df['price'], aggfunc='sum', margins=True, margins_name='total')\n",
    "rev = rev.sort_values('total', ascending=False)\n",
    "rev = rev.head(11)\n",
    "rev = rev.transpose()\n",
    "print(rev)"
   ]
  },
  {
   "cell_type": "markdown",
   "metadata": {},
   "source": [
    "## 4. Articulate your findings using a deliverable with visualizations."
   ]
  },
  {
   "cell_type": "code",
   "execution_count": 12,
   "metadata": {},
   "outputs": [
    {
     "data": {
      "text/plain": [
       "<Axes: xlabel='country'>"
      ]
     },
     "execution_count": 12,
     "metadata": {},
     "output_type": "execute_result"
    }
   ],
   "source": [
    "# Viz Top 10 Countries by Revenue\n",
    "fig = plt.figure(figsize=(20,6))\n",
    "ax1 = fig.add_subplot(121)\n",
    "countries = pd.pivot_table(top10.head(11), index='country', values='total')\n",
    "countries.plot(kind='bar',ax=ax1)"
   ]
  },
  {
   "cell_type": "code",
   "execution_count": 14,
   "metadata": {},
   "outputs": [
    {
     "data": {
      "text/plain": [
       "<Axes: xlabel='year-month', ylabel='country'>"
      ]
     },
     "execution_count": 14,
     "metadata": {},
     "output_type": "execute_result"
    }
   ],
   "source": [
    "# Viz Month Wise Heat Map\n",
    "import seaborn as sns\n",
    "plt.figure(figsize=(20,6))\n",
    "mw = rev.transpose()\n",
    "mw = mw.drop('total')\n",
    "sns.heatmap(mw.filter(regex='2017'), cmap=\"YlOrRd\", annot=True, cbar=True, linewidths=1)\n",
    "plt.figure(figsize=(20,6))\n",
    "sns.heatmap(mw.filter(regex='2018'), cmap=\"YlOrRd\", annot=True, cbar=True, linewidths=1)\n",
    "plt.figure(figsize=(20,6))\n",
    "sns.heatmap(mw.filter(regex='2019'), cmap=\"YlOrRd\", annot=True, cbar=True, linewidths=1)"
   ]
  },
  {
   "cell_type": "code",
   "execution_count": 51,
   "metadata": {},
   "outputs": [
    {
     "name": "stdout",
     "output_type": "stream",
     "text": [
      "Number of days:  610.0\n"
     ]
    }
   ],
   "source": [
    "# Span Days\n",
    "df_invoice_dates = df['invoice_date'].unique()\n",
    "span_days = df_invoice_dates.max() - df_invoice_dates.min()\n",
    "span_days = span_days.astype('timedelta64[D]')\n",
    "n_days = span_days/np.timedelta64(1, 'D')\n",
    "print('Number of days: ',n_days)"
   ]
  },
  {
   "cell_type": "code",
   "execution_count": 16,
   "metadata": {},
   "outputs": [
    {
     "name": "stdout",
     "output_type": "stream",
     "text": [
      "<class 'pandas.core.frame.DataFrame'>\n",
      "RangeIndex: 607 entries, 0 to 606\n",
      "Data columns (total 7 columns):\n",
      " #   Column           Non-Null Count  Dtype        \n",
      "---  ------           --------------  -----        \n",
      " 0   date             607 non-null    datetime64[s]\n",
      " 1   purchases        607 non-null    int64        \n",
      " 2   unique_invoices  607 non-null    int64        \n",
      " 3   unique_streams   607 non-null    int64        \n",
      " 4   total_views      607 non-null    int64        \n",
      " 5   year_month       607 non-null    object       \n",
      " 6   revenue          607 non-null    float64      \n",
      "dtypes: datetime64[s](1), float64(1), int64(4), object(1)\n",
      "memory usage: 33.3+ KB\n"
     ]
    }
   ],
   "source": [
    "df_ts=convert_to_ts(df)\n",
    "df_ts.info()"
   ]
  },
  {
   "cell_type": "code",
   "execution_count": 17,
   "metadata": {},
   "outputs": [
    {
     "data": {
      "text/plain": [
       "<Axes: xlabel='date'>"
      ]
     },
     "execution_count": 17,
     "metadata": {},
     "output_type": "execute_result"
    }
   ],
   "source": [
    "df_ts.head()\n",
    "df_ts.plot(x=\"date\", y=\"revenue\", figsize=(15,4))"
   ]
  },
  {
   "cell_type": "markdown",
   "metadata": {},
   "source": [
    "## Part - 2 Model Building & Selection"
   ]
  },
  {
   "cell_type": "markdown",
   "metadata": {
    "tags": []
   },
   "source": [
    "### 1. State the different modeling approaches that you will compare to address the business opportunity.\n",
    "a. Random Forest"
   ]
  },
  {
   "cell_type": "code",
   "execution_count": 24,
   "metadata": {},
   "outputs": [
    {
     "name": "stdout",
     "output_type": "stream",
     "text": [
      "...fetching data\n",
      "load time: 0:00:07\n"
     ]
    },
    {
     "data": {
      "text/html": [
       "<div>\n",
       "<style scoped>\n",
       "    .dataframe tbody tr th:only-of-type {\n",
       "        vertical-align: middle;\n",
       "    }\n",
       "\n",
       "    .dataframe tbody tr th {\n",
       "        vertical-align: top;\n",
       "    }\n",
       "\n",
       "    .dataframe thead th {\n",
       "        text-align: right;\n",
       "    }\n",
       "</style>\n",
       "<table border=\"1\" class=\"dataframe\">\n",
       "  <thead>\n",
       "    <tr style=\"text-align: right;\">\n",
       "      <th></th>\n",
       "      <th>previous_7</th>\n",
       "      <th>previous_14</th>\n",
       "      <th>previous_28</th>\n",
       "      <th>previous_70</th>\n",
       "      <th>previous_year</th>\n",
       "      <th>recent_invoices</th>\n",
       "      <th>recent_views</th>\n",
       "    </tr>\n",
       "  </thead>\n",
       "  <tbody>\n",
       "    <tr>\n",
       "      <th>0</th>\n",
       "      <td>14450.54</td>\n",
       "      <td>14450.54</td>\n",
       "      <td>14450.54</td>\n",
       "      <td>14450.54</td>\n",
       "      <td>0.0</td>\n",
       "      <td>5.928571</td>\n",
       "      <td>537.392857</td>\n",
       "    </tr>\n",
       "    <tr>\n",
       "      <th>1</th>\n",
       "      <td>27862.50</td>\n",
       "      <td>27862.50</td>\n",
       "      <td>27862.50</td>\n",
       "      <td>27862.50</td>\n",
       "      <td>0.0</td>\n",
       "      <td>10.310345</td>\n",
       "      <td>1007.103448</td>\n",
       "    </tr>\n",
       "    <tr>\n",
       "      <th>2</th>\n",
       "      <td>41152.75</td>\n",
       "      <td>41152.75</td>\n",
       "      <td>41152.75</td>\n",
       "      <td>41152.75</td>\n",
       "      <td>0.0</td>\n",
       "      <td>14.966667</td>\n",
       "      <td>1499.066667</td>\n",
       "    </tr>\n",
       "    <tr>\n",
       "      <th>3</th>\n",
       "      <td>50840.03</td>\n",
       "      <td>50840.03</td>\n",
       "      <td>50840.03</td>\n",
       "      <td>50840.03</td>\n",
       "      <td>0.0</td>\n",
       "      <td>18.533333</td>\n",
       "      <td>1916.533333</td>\n",
       "    </tr>\n",
       "    <tr>\n",
       "      <th>4</th>\n",
       "      <td>52283.29</td>\n",
       "      <td>52283.29</td>\n",
       "      <td>52283.29</td>\n",
       "      <td>52283.29</td>\n",
       "      <td>0.0</td>\n",
       "      <td>19.600000</td>\n",
       "      <td>2026.966667</td>\n",
       "    </tr>\n",
       "  </tbody>\n",
       "</table>\n",
       "</div>"
      ],
      "text/plain": [
       "   previous_7  previous_14  previous_28  previous_70  previous_year  \\\n",
       "0    14450.54     14450.54     14450.54     14450.54            0.0   \n",
       "1    27862.50     27862.50     27862.50     27862.50            0.0   \n",
       "2    41152.75     41152.75     41152.75     41152.75            0.0   \n",
       "3    50840.03     50840.03     50840.03     50840.03            0.0   \n",
       "4    52283.29     52283.29     52283.29     52283.29            0.0   \n",
       "\n",
       "   recent_invoices  recent_views  \n",
       "0         5.928571    537.392857  \n",
       "1        10.310345   1007.103448  \n",
       "2        14.966667   1499.066667  \n",
       "3        18.533333   1916.533333  \n",
       "4        19.600000   2026.966667  "
      ]
     },
     "execution_count": 24,
     "metadata": {},
     "output_type": "execute_result"
    }
   ],
   "source": [
    "# Initial variables\n",
    "run_start = time.time() \n",
    "data_dir = os.path.join(\".\",\"cs-train\")\n",
    "print(\"...fetching data\")\n",
    "\n",
    "# Fetching data \n",
    "df = fetch_data(data_dir)\n",
    "\n",
    "# Time taken\n",
    "m, s = divmod(time.time()-run_start,60)\n",
    "h, m = divmod(m, 60)\n",
    "print(\"load time:\", \"%d:%02d:%02d\"%(h, m, s))\n",
    "\n",
    "# Output\n",
    "df.head()\n",
    "\n",
    "# From dataframe to Timeseries\n",
    "ts = convert_to_ts(df)\n",
    "ts.head()\n",
    "\n",
    "# Training Samples\n",
    "X, y, dates = engineer_features(ts)\n",
    "\n",
    "X.head()"
   ]
  },
  {
   "cell_type": "markdown",
   "metadata": {},
   "source": [
    "Pipeline for Timeseries"
   ]
  },
  {
   "cell_type": "code",
   "execution_count": 26,
   "metadata": {},
   "outputs": [],
   "source": [
    "from sklearn.model_selection import train_test_split\n",
    "from sklearn.pipeline import Pipeline\n",
    "from sklearn.preprocessing import StandardScaler\n",
    "from sklearn.ensemble import RandomForestRegressor\n",
    "from sklearn.metrics import r2_score, median_absolute_error"
   ]
  },
  {
   "cell_type": "code",
   "execution_count": 27,
   "metadata": {},
   "outputs": [
    {
     "name": "stdout",
     "output_type": "stream",
     "text": [
      "R2=0.95, MAE=7199.48\n"
     ]
    }
   ],
   "source": [
    "# Train / Test sp\n",
    "X_train, X_test, y_train, y_test = train_test_split(X, y, random_state=0)\n",
    "\n",
    "# Random Forest\n",
    "pipe = Pipeline([(\"scaler\", StandardScaler()),\n",
    "                 (\"rf\", RandomForestRegressor(n_estimators=20))])\n",
    "\n",
    "## Training Phase\n",
    "pipe.fit(X_train, y_train)\n",
    "\n",
    "## Testing Phase\n",
    "y_pred = pipe.predict(X_test)\n",
    "print(r'R2=%.2f, MAE=%.2f'%(r2_score(y_test, y_pred), median_absolute_error(y_test, y_pred)))"
   ]
  },
  {
   "cell_type": "code",
   "execution_count": null,
   "metadata": {},
   "outputs": [],
   "source": []
  },
  {
   "cell_type": "code",
   "execution_count": null,
   "metadata": {},
   "outputs": [],
   "source": []
  }
 ],
 "metadata": {
  "kernelspec": {
   "display_name": "Python [conda env:base] *",
   "language": "python",
   "name": "conda-base-py"
  },
  "language_info": {
   "codemirror_mode": {
    "name": "ipython",
    "version": 3
   },
   "file_extension": ".py",
   "mimetype": "text/x-python",
   "name": "python",
   "nbconvert_exporter": "python",
   "pygments_lexer": "ipython3",
   "version": "3.12.7"
  }
 },
 "nbformat": 4,
 "nbformat_minor": 4
}

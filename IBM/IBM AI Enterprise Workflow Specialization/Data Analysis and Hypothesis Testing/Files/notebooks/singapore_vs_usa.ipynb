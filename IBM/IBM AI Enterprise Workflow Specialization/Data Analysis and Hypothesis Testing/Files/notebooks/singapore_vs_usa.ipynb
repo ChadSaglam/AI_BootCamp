{
 "cells": [
  {
   "cell_type": "code",
   "execution_count": 1,
   "id": "f4e1d8f4",
   "metadata": {},
   "outputs": [],
   "source": [
    "import os\n",
    "import re\n",
    "import numpy as np\n",
    "import pandas as pd\n",
    "from IPython.display import Image\n",
    "import matplotlib.pyplot as plt\n",
    "\n",
    "SMALL_SIZE = 12\n",
    "MEDIUM_SIZE = 14\n",
    "LARGE_SIZE = 16\n",
    "\n",
    "plt.rc('font', size=SMALL_SIZE)          # controls default text sizes\n",
    "plt.rc('axes', titlesize=SMALL_SIZE)     # fontsize of the axes title\n",
    "plt.rc('axes', labelsize=MEDIUM_SIZE)    # fontsize of the x and y labels\n",
    "plt.rc('xtick', labelsize=SMALL_SIZE)    # fontsize of the tick labels\n",
    "plt.rc('ytick', labelsize=SMALL_SIZE)    # fontsize of the tick labels\n",
    "plt.rc('legend', fontsize=SMALL_SIZE)    # legend fontsize\n",
    "plt.rc('figure', titlesize=LARGE_SIZE)   # fontsize of the figure title"
   ]
  },
  {
   "cell_type": "markdown",
   "id": "946de9fe",
   "metadata": {},
   "source": [
    "With the summary and dataset from the previous section (Getting Started with the Case Study), your first challenge is to:\n",
    "\n",
    "*Investigate the extent and nature of the missing data \n",
    "\n",
    "*Design and implement an imputation technique for the missing data\n",
    "\n",
    "*Produce a visualization for AAVAIL stakeholders on the US and Singapore markets using your modified dataset"
   ]
  },
  {
   "cell_type": "code",
   "execution_count": 2,
   "id": "25438e6d",
   "metadata": {},
   "outputs": [
    {
     "data": {
      "text/plain": [
       "['.ipynb_checkpoints',\n",
       " 'aavail-data-visualization.csv',\n",
       " 'Data-Visualization-Unit-Local',\n",
       " 'Data-Visualization-Unit-Local.zip',\n",
       " 'Untitled.ipynb']"
      ]
     },
     "execution_count": 2,
     "metadata": {},
     "output_type": "execute_result"
    }
   ],
   "source": [
    "os.listdir()"
   ]
  },
  {
   "cell_type": "code",
   "execution_count": 3,
   "id": "c96c73d2",
   "metadata": {},
   "outputs": [
    {
     "data": {
      "text/html": [
       "<div>\n",
       "<style scoped>\n",
       "    .dataframe tbody tr th:only-of-type {\n",
       "        vertical-align: middle;\n",
       "    }\n",
       "\n",
       "    .dataframe tbody tr th {\n",
       "        vertical-align: top;\n",
       "    }\n",
       "\n",
       "    .dataframe thead th {\n",
       "        text-align: right;\n",
       "    }\n",
       "</style>\n",
       "<table border=\"1\" class=\"dataframe\">\n",
       "  <thead>\n",
       "    <tr style=\"text-align: right;\">\n",
       "      <th></th>\n",
       "      <th>customer_id</th>\n",
       "      <th>country_name</th>\n",
       "      <th>age</th>\n",
       "      <th>customer_name</th>\n",
       "      <th>is_subscriber</th>\n",
       "      <th>subscriber_type</th>\n",
       "      <th>num_streams</th>\n",
       "    </tr>\n",
       "  </thead>\n",
       "  <tbody>\n",
       "    <tr>\n",
       "      <th>0</th>\n",
       "      <td>1</td>\n",
       "      <td>united_states</td>\n",
       "      <td>21.0</td>\n",
       "      <td>Kasen Todd</td>\n",
       "      <td>True</td>\n",
       "      <td>aavail_premium</td>\n",
       "      <td>23.0</td>\n",
       "    </tr>\n",
       "    <tr>\n",
       "      <th>1</th>\n",
       "      <td>2</td>\n",
       "      <td>singapore</td>\n",
       "      <td>31.0</td>\n",
       "      <td>Ensley Garza</td>\n",
       "      <td>False</td>\n",
       "      <td>NaN</td>\n",
       "      <td>12.0</td>\n",
       "    </tr>\n",
       "    <tr>\n",
       "      <th>2</th>\n",
       "      <td>3</td>\n",
       "      <td>united_states</td>\n",
       "      <td>22.0</td>\n",
       "      <td>Lillian Carey</td>\n",
       "      <td>False</td>\n",
       "      <td>aavail_premium</td>\n",
       "      <td>22.0</td>\n",
       "    </tr>\n",
       "    <tr>\n",
       "      <th>3</th>\n",
       "      <td>4</td>\n",
       "      <td>united_states</td>\n",
       "      <td>21.0</td>\n",
       "      <td>Beau Christensen</td>\n",
       "      <td>True</td>\n",
       "      <td>aavail_basic</td>\n",
       "      <td>19.0</td>\n",
       "    </tr>\n",
       "    <tr>\n",
       "      <th>4</th>\n",
       "      <td>5</td>\n",
       "      <td>singapore</td>\n",
       "      <td>22.0</td>\n",
       "      <td>Ernesto Gibson</td>\n",
       "      <td>True</td>\n",
       "      <td>aavail_premium</td>\n",
       "      <td>23.0</td>\n",
       "    </tr>\n",
       "    <tr>\n",
       "      <th>...</th>\n",
       "      <td>...</td>\n",
       "      <td>...</td>\n",
       "      <td>...</td>\n",
       "      <td>...</td>\n",
       "      <td>...</td>\n",
       "      <td>...</td>\n",
       "      <td>...</td>\n",
       "    </tr>\n",
       "    <tr>\n",
       "      <th>995</th>\n",
       "      <td>996</td>\n",
       "      <td>singapore</td>\n",
       "      <td>55.0</td>\n",
       "      <td>Peyton Enriquez</td>\n",
       "      <td>False</td>\n",
       "      <td>aavail_unlimited</td>\n",
       "      <td>14.0</td>\n",
       "    </tr>\n",
       "    <tr>\n",
       "      <th>996</th>\n",
       "      <td>997</td>\n",
       "      <td>united_states</td>\n",
       "      <td>23.0</td>\n",
       "      <td>Amina Manning</td>\n",
       "      <td>True</td>\n",
       "      <td>aavail_basic</td>\n",
       "      <td>24.0</td>\n",
       "    </tr>\n",
       "    <tr>\n",
       "      <th>997</th>\n",
       "      <td>998</td>\n",
       "      <td>united_states</td>\n",
       "      <td>25.0</td>\n",
       "      <td>Brooks Ventura</td>\n",
       "      <td>True</td>\n",
       "      <td>aavail_unlimited</td>\n",
       "      <td>17.0</td>\n",
       "    </tr>\n",
       "    <tr>\n",
       "      <th>998</th>\n",
       "      <td>999</td>\n",
       "      <td>united_states</td>\n",
       "      <td>40.0</td>\n",
       "      <td>Nayeli Mathis</td>\n",
       "      <td>True</td>\n",
       "      <td>aavail_unlimited</td>\n",
       "      <td>16.0</td>\n",
       "    </tr>\n",
       "    <tr>\n",
       "      <th>999</th>\n",
       "      <td>1000</td>\n",
       "      <td>united_states</td>\n",
       "      <td>21.0</td>\n",
       "      <td>Cole Solis</td>\n",
       "      <td>True</td>\n",
       "      <td>aavail_unlimited</td>\n",
       "      <td>18.0</td>\n",
       "    </tr>\n",
       "  </tbody>\n",
       "</table>\n",
       "<p>1000 rows × 7 columns</p>\n",
       "</div>"
      ],
      "text/plain": [
       "     customer_id   country_name   age     customer_name  is_subscriber  \\\n",
       "0              1  united_states  21.0        Kasen Todd           True   \n",
       "1              2      singapore  31.0      Ensley Garza          False   \n",
       "2              3  united_states  22.0     Lillian Carey          False   \n",
       "3              4  united_states  21.0  Beau Christensen           True   \n",
       "4              5      singapore  22.0    Ernesto Gibson           True   \n",
       "..           ...            ...   ...               ...            ...   \n",
       "995          996      singapore  55.0   Peyton Enriquez          False   \n",
       "996          997  united_states  23.0     Amina Manning           True   \n",
       "997          998  united_states  25.0    Brooks Ventura           True   \n",
       "998          999  united_states  40.0     Nayeli Mathis           True   \n",
       "999         1000  united_states  21.0        Cole Solis           True   \n",
       "\n",
       "      subscriber_type  num_streams  \n",
       "0      aavail_premium         23.0  \n",
       "1                 NaN         12.0  \n",
       "2      aavail_premium         22.0  \n",
       "3        aavail_basic         19.0  \n",
       "4      aavail_premium         23.0  \n",
       "..                ...          ...  \n",
       "995  aavail_unlimited         14.0  \n",
       "996      aavail_basic         24.0  \n",
       "997  aavail_unlimited         17.0  \n",
       "998  aavail_unlimited         16.0  \n",
       "999  aavail_unlimited         18.0  \n",
       "\n",
       "[1000 rows x 7 columns]"
      ]
     },
     "execution_count": 3,
     "metadata": {},
     "output_type": "execute_result"
    }
   ],
   "source": [
    "df = pd.read_csv('aavail-data-visualization.csv')\n",
    "df"
   ]
  },
  {
   "cell_type": "code",
   "execution_count": 4,
   "id": "e93c5d92",
   "metadata": {},
   "outputs": [
    {
     "name": "stdout",
     "output_type": "stream",
     "text": [
      "<class 'pandas.core.frame.DataFrame'>\n",
      "RangeIndex: 1000 entries, 0 to 999\n",
      "Data columns (total 7 columns):\n",
      " #   Column           Non-Null Count  Dtype  \n",
      "---  ------           --------------  -----  \n",
      " 0   customer_id      1000 non-null   int64  \n",
      " 1   country_name     1000 non-null   object \n",
      " 2   age              1000 non-null   float64\n",
      " 3   customer_name    1000 non-null   object \n",
      " 4   is_subscriber    1000 non-null   bool   \n",
      " 5   subscriber_type  928 non-null    object \n",
      " 6   num_streams      954 non-null    float64\n",
      "dtypes: bool(1), float64(2), int64(1), object(3)\n",
      "memory usage: 48.0+ KB\n"
     ]
    }
   ],
   "source": [
    "df.info()"
   ]
  },
  {
   "cell_type": "code",
   "execution_count": 5,
   "id": "3e79a84d",
   "metadata": {},
   "outputs": [
    {
     "data": {
      "text/plain": [
       "array(['aavail_premium', nan, 'aavail_basic', 'aavail_unlimited'],\n",
       "      dtype=object)"
      ]
     },
     "execution_count": 5,
     "metadata": {},
     "output_type": "execute_result"
    }
   ],
   "source": [
    "df['subscriber_type'].unique()"
   ]
  },
  {
   "cell_type": "code",
   "execution_count": 6,
   "id": "23b82982",
   "metadata": {},
   "outputs": [
    {
     "data": {
      "text/plain": [
       "array([23., 22., 19., nan, 18., 20., 24.,  1., 21.,  5., 14., 15., 26.,\n",
       "        9.,  6.,  7., 17., 10., 16.,  8., 13., 25., 29., 11., 12., 27.,\n",
       "        4.,  3.])"
      ]
     },
     "execution_count": 6,
     "metadata": {},
     "output_type": "execute_result"
    }
   ],
   "source": [
    "df[~df['subscriber_type'].isna()]['num_streams'].unique()"
   ]
  },
  {
   "cell_type": "code",
   "execution_count": 7,
   "id": "81d7ef5e",
   "metadata": {},
   "outputs": [
    {
     "data": {
      "text/plain": [
       "28"
      ]
     },
     "execution_count": 7,
     "metadata": {},
     "output_type": "execute_result"
    }
   ],
   "source": [
    "len(df[~df['subscriber_type'].isna()]['num_streams'].unique())"
   ]
  },
  {
   "cell_type": "code",
   "execution_count": 8,
   "id": "306c13a3",
   "metadata": {},
   "outputs": [
    {
     "data": {
      "text/plain": [
       "customer_id         0\n",
       "country_name        0\n",
       "age                 0\n",
       "customer_name       0\n",
       "is_subscriber       0\n",
       "subscriber_type    72\n",
       "num_streams        46\n",
       "dtype: int64"
      ]
     },
     "execution_count": 8,
     "metadata": {},
     "output_type": "execute_result"
    }
   ],
   "source": [
    "df.isnull().sum(axis = 0)"
   ]
  },
  {
   "cell_type": "code",
   "execution_count": 9,
   "id": "acb7f32d",
   "metadata": {},
   "outputs": [
    {
     "data": {
      "text/plain": [
       "45"
      ]
     },
     "execution_count": 9,
     "metadata": {},
     "output_type": "execute_result"
    }
   ],
   "source": [
    "len(df[~df['subscriber_type'].isna() & df['num_streams'].isna()])"
   ]
  },
  {
   "cell_type": "code",
   "execution_count": 10,
   "id": "e356c6a3",
   "metadata": {},
   "outputs": [
    {
     "data": {
      "text/plain": [
       "883"
      ]
     },
     "execution_count": 10,
     "metadata": {},
     "output_type": "execute_result"
    }
   ],
   "source": [
    "len(df.dropna())"
   ]
  },
  {
   "cell_type": "code",
   "execution_count": 11,
   "id": "6615e998",
   "metadata": {},
   "outputs": [
    {
     "data": {
      "text/html": [
       "<div>\n",
       "<style scoped>\n",
       "    .dataframe tbody tr th:only-of-type {\n",
       "        vertical-align: middle;\n",
       "    }\n",
       "\n",
       "    .dataframe tbody tr th {\n",
       "        vertical-align: top;\n",
       "    }\n",
       "\n",
       "    .dataframe thead th {\n",
       "        text-align: right;\n",
       "    }\n",
       "</style>\n",
       "<table border=\"1\" class=\"dataframe\">\n",
       "  <thead>\n",
       "    <tr style=\"text-align: right;\">\n",
       "      <th></th>\n",
       "      <th>customer_id</th>\n",
       "      <th>country_name</th>\n",
       "      <th>age</th>\n",
       "      <th>customer_name</th>\n",
       "      <th>is_subscriber</th>\n",
       "      <th>num_streams</th>\n",
       "    </tr>\n",
       "  </thead>\n",
       "  <tbody>\n",
       "    <tr>\n",
       "      <th>0</th>\n",
       "      <td>1</td>\n",
       "      <td>united_states</td>\n",
       "      <td>21.0</td>\n",
       "      <td>Kasen Todd</td>\n",
       "      <td>True</td>\n",
       "      <td>23.0</td>\n",
       "    </tr>\n",
       "    <tr>\n",
       "      <th>1</th>\n",
       "      <td>2</td>\n",
       "      <td>singapore</td>\n",
       "      <td>31.0</td>\n",
       "      <td>Ensley Garza</td>\n",
       "      <td>False</td>\n",
       "      <td>12.0</td>\n",
       "    </tr>\n",
       "    <tr>\n",
       "      <th>2</th>\n",
       "      <td>3</td>\n",
       "      <td>united_states</td>\n",
       "      <td>22.0</td>\n",
       "      <td>Lillian Carey</td>\n",
       "      <td>False</td>\n",
       "      <td>22.0</td>\n",
       "    </tr>\n",
       "    <tr>\n",
       "      <th>3</th>\n",
       "      <td>4</td>\n",
       "      <td>united_states</td>\n",
       "      <td>21.0</td>\n",
       "      <td>Beau Christensen</td>\n",
       "      <td>True</td>\n",
       "      <td>19.0</td>\n",
       "    </tr>\n",
       "    <tr>\n",
       "      <th>4</th>\n",
       "      <td>5</td>\n",
       "      <td>singapore</td>\n",
       "      <td>22.0</td>\n",
       "      <td>Ernesto Gibson</td>\n",
       "      <td>True</td>\n",
       "      <td>23.0</td>\n",
       "    </tr>\n",
       "    <tr>\n",
       "      <th>...</th>\n",
       "      <td>...</td>\n",
       "      <td>...</td>\n",
       "      <td>...</td>\n",
       "      <td>...</td>\n",
       "      <td>...</td>\n",
       "      <td>...</td>\n",
       "    </tr>\n",
       "    <tr>\n",
       "      <th>995</th>\n",
       "      <td>996</td>\n",
       "      <td>singapore</td>\n",
       "      <td>55.0</td>\n",
       "      <td>Peyton Enriquez</td>\n",
       "      <td>False</td>\n",
       "      <td>14.0</td>\n",
       "    </tr>\n",
       "    <tr>\n",
       "      <th>996</th>\n",
       "      <td>997</td>\n",
       "      <td>united_states</td>\n",
       "      <td>23.0</td>\n",
       "      <td>Amina Manning</td>\n",
       "      <td>True</td>\n",
       "      <td>24.0</td>\n",
       "    </tr>\n",
       "    <tr>\n",
       "      <th>997</th>\n",
       "      <td>998</td>\n",
       "      <td>united_states</td>\n",
       "      <td>25.0</td>\n",
       "      <td>Brooks Ventura</td>\n",
       "      <td>True</td>\n",
       "      <td>17.0</td>\n",
       "    </tr>\n",
       "    <tr>\n",
       "      <th>998</th>\n",
       "      <td>999</td>\n",
       "      <td>united_states</td>\n",
       "      <td>40.0</td>\n",
       "      <td>Nayeli Mathis</td>\n",
       "      <td>True</td>\n",
       "      <td>16.0</td>\n",
       "    </tr>\n",
       "    <tr>\n",
       "      <th>999</th>\n",
       "      <td>1000</td>\n",
       "      <td>united_states</td>\n",
       "      <td>21.0</td>\n",
       "      <td>Cole Solis</td>\n",
       "      <td>True</td>\n",
       "      <td>18.0</td>\n",
       "    </tr>\n",
       "  </tbody>\n",
       "</table>\n",
       "<p>954 rows × 6 columns</p>\n",
       "</div>"
      ],
      "text/plain": [
       "     customer_id   country_name   age     customer_name  is_subscriber  \\\n",
       "0              1  united_states  21.0        Kasen Todd           True   \n",
       "1              2      singapore  31.0      Ensley Garza          False   \n",
       "2              3  united_states  22.0     Lillian Carey          False   \n",
       "3              4  united_states  21.0  Beau Christensen           True   \n",
       "4              5      singapore  22.0    Ernesto Gibson           True   \n",
       "..           ...            ...   ...               ...            ...   \n",
       "995          996      singapore  55.0   Peyton Enriquez          False   \n",
       "996          997  united_states  23.0     Amina Manning           True   \n",
       "997          998  united_states  25.0    Brooks Ventura           True   \n",
       "998          999  united_states  40.0     Nayeli Mathis           True   \n",
       "999         1000  united_states  21.0        Cole Solis           True   \n",
       "\n",
       "     num_streams  \n",
       "0           23.0  \n",
       "1           12.0  \n",
       "2           22.0  \n",
       "3           19.0  \n",
       "4           23.0  \n",
       "..           ...  \n",
       "995         14.0  \n",
       "996         24.0  \n",
       "997         17.0  \n",
       "998         16.0  \n",
       "999         18.0  \n",
       "\n",
       "[954 rows x 6 columns]"
      ]
     },
     "execution_count": 11,
     "metadata": {},
     "output_type": "execute_result"
    }
   ],
   "source": [
    "df.drop(['subscriber_type'] ,axis =1).dropna()"
   ]
  },
  {
   "cell_type": "markdown",
   "id": "40f9b9bf",
   "metadata": {},
   "source": [
    "# Investigation Conclusion:\n",
    "The missing info regarding subscriber type represent .072 % of the data ,but since we are looking for churn we can use the (is_subscriber) column ,so I would recommend losing that column\n",
    "as for num_streams , we could build a small prediction model to fill it based on other features \n",
    "but the size of the data is not encouriging , so I will drop all missing rows "
   ]
  },
  {
   "cell_type": "code",
   "execution_count": 12,
   "id": "9878ad48",
   "metadata": {},
   "outputs": [],
   "source": [
    "df1 = df.drop(['subscriber_type'] ,axis =1).dropna()"
   ]
  },
  {
   "cell_type": "code",
   "execution_count": 13,
   "id": "494018af",
   "metadata": {},
   "outputs": [
    {
     "data": {
      "text/plain": [
       "united_states    676\n",
       "singapore        278\n",
       "Name: country_name, dtype: int64"
      ]
     },
     "execution_count": 13,
     "metadata": {},
     "output_type": "execute_result"
    }
   ],
   "source": [
    "df1['country_name'].value_counts()"
   ]
  },
  {
   "cell_type": "code",
   "execution_count": 14,
   "id": "ca9cac75",
   "metadata": {},
   "outputs": [
    {
     "data": {
      "text/plain": [
       "array([21., 31., 22., 49., 47., 26., 15., 40., 19., 23., 27., 45., 29.,\n",
       "       39., 42., 20., 25., 28., 38., 34., 24., 51., 33., 44., 30., 18.,\n",
       "       17., 41., 36., 55., 48., 50., 32., 16., 56., 43., 37., 35., 53.,\n",
       "       54., 46., 14., 57.])"
      ]
     },
     "execution_count": 14,
     "metadata": {},
     "output_type": "execute_result"
    }
   ],
   "source": [
    "df1['age'].unique()"
   ]
  },
  {
   "cell_type": "code",
   "execution_count": 15,
   "id": "4df1d259",
   "metadata": {},
   "outputs": [
    {
     "data": {
      "text/html": [
       "<div>\n",
       "<style scoped>\n",
       "    .dataframe tbody tr th:only-of-type {\n",
       "        vertical-align: middle;\n",
       "    }\n",
       "\n",
       "    .dataframe tbody tr th {\n",
       "        vertical-align: top;\n",
       "    }\n",
       "\n",
       "    .dataframe thead th {\n",
       "        text-align: right;\n",
       "    }\n",
       "</style>\n",
       "<table border=\"1\" class=\"dataframe\">\n",
       "  <thead>\n",
       "    <tr style=\"text-align: right;\">\n",
       "      <th></th>\n",
       "      <th>customer_id</th>\n",
       "      <th>country_name</th>\n",
       "      <th>age</th>\n",
       "      <th>customer_name</th>\n",
       "      <th>is_subscriber</th>\n",
       "      <th>num_streams</th>\n",
       "    </tr>\n",
       "  </thead>\n",
       "  <tbody>\n",
       "    <tr>\n",
       "      <th>0</th>\n",
       "      <td>1</td>\n",
       "      <td>united_states</td>\n",
       "      <td>21.0</td>\n",
       "      <td>Kasen Todd</td>\n",
       "      <td>True</td>\n",
       "      <td>23.0</td>\n",
       "    </tr>\n",
       "    <tr>\n",
       "      <th>1</th>\n",
       "      <td>2</td>\n",
       "      <td>singapore</td>\n",
       "      <td>31.0</td>\n",
       "      <td>Ensley Garza</td>\n",
       "      <td>False</td>\n",
       "      <td>12.0</td>\n",
       "    </tr>\n",
       "    <tr>\n",
       "      <th>2</th>\n",
       "      <td>3</td>\n",
       "      <td>united_states</td>\n",
       "      <td>22.0</td>\n",
       "      <td>Lillian Carey</td>\n",
       "      <td>False</td>\n",
       "      <td>22.0</td>\n",
       "    </tr>\n",
       "    <tr>\n",
       "      <th>3</th>\n",
       "      <td>4</td>\n",
       "      <td>united_states</td>\n",
       "      <td>21.0</td>\n",
       "      <td>Beau Christensen</td>\n",
       "      <td>True</td>\n",
       "      <td>19.0</td>\n",
       "    </tr>\n",
       "    <tr>\n",
       "      <th>4</th>\n",
       "      <td>5</td>\n",
       "      <td>singapore</td>\n",
       "      <td>22.0</td>\n",
       "      <td>Ernesto Gibson</td>\n",
       "      <td>True</td>\n",
       "      <td>23.0</td>\n",
       "    </tr>\n",
       "    <tr>\n",
       "      <th>...</th>\n",
       "      <td>...</td>\n",
       "      <td>...</td>\n",
       "      <td>...</td>\n",
       "      <td>...</td>\n",
       "      <td>...</td>\n",
       "      <td>...</td>\n",
       "    </tr>\n",
       "    <tr>\n",
       "      <th>995</th>\n",
       "      <td>996</td>\n",
       "      <td>singapore</td>\n",
       "      <td>55.0</td>\n",
       "      <td>Peyton Enriquez</td>\n",
       "      <td>False</td>\n",
       "      <td>14.0</td>\n",
       "    </tr>\n",
       "    <tr>\n",
       "      <th>996</th>\n",
       "      <td>997</td>\n",
       "      <td>united_states</td>\n",
       "      <td>23.0</td>\n",
       "      <td>Amina Manning</td>\n",
       "      <td>True</td>\n",
       "      <td>24.0</td>\n",
       "    </tr>\n",
       "    <tr>\n",
       "      <th>997</th>\n",
       "      <td>998</td>\n",
       "      <td>united_states</td>\n",
       "      <td>25.0</td>\n",
       "      <td>Brooks Ventura</td>\n",
       "      <td>True</td>\n",
       "      <td>17.0</td>\n",
       "    </tr>\n",
       "    <tr>\n",
       "      <th>998</th>\n",
       "      <td>999</td>\n",
       "      <td>united_states</td>\n",
       "      <td>40.0</td>\n",
       "      <td>Nayeli Mathis</td>\n",
       "      <td>True</td>\n",
       "      <td>16.0</td>\n",
       "    </tr>\n",
       "    <tr>\n",
       "      <th>999</th>\n",
       "      <td>1000</td>\n",
       "      <td>united_states</td>\n",
       "      <td>21.0</td>\n",
       "      <td>Cole Solis</td>\n",
       "      <td>True</td>\n",
       "      <td>18.0</td>\n",
       "    </tr>\n",
       "  </tbody>\n",
       "</table>\n",
       "<p>954 rows × 6 columns</p>\n",
       "</div>"
      ],
      "text/plain": [
       "     customer_id   country_name   age     customer_name  is_subscriber  \\\n",
       "0              1  united_states  21.0        Kasen Todd           True   \n",
       "1              2      singapore  31.0      Ensley Garza          False   \n",
       "2              3  united_states  22.0     Lillian Carey          False   \n",
       "3              4  united_states  21.0  Beau Christensen           True   \n",
       "4              5      singapore  22.0    Ernesto Gibson           True   \n",
       "..           ...            ...   ...               ...            ...   \n",
       "995          996      singapore  55.0   Peyton Enriquez          False   \n",
       "996          997  united_states  23.0     Amina Manning           True   \n",
       "997          998  united_states  25.0    Brooks Ventura           True   \n",
       "998          999  united_states  40.0     Nayeli Mathis           True   \n",
       "999         1000  united_states  21.0        Cole Solis           True   \n",
       "\n",
       "     num_streams  \n",
       "0           23.0  \n",
       "1           12.0  \n",
       "2           22.0  \n",
       "3           19.0  \n",
       "4           23.0  \n",
       "..           ...  \n",
       "995         14.0  \n",
       "996         24.0  \n",
       "997         17.0  \n",
       "998         16.0  \n",
       "999         18.0  \n",
       "\n",
       "[954 rows x 6 columns]"
      ]
     },
     "execution_count": 15,
     "metadata": {},
     "output_type": "execute_result"
    }
   ],
   "source": [
    "df1"
   ]
  },
  {
   "cell_type": "markdown",
   "id": "ee5abb20",
   "metadata": {},
   "source": [
    "# Data Visualization"
   ]
  },
  {
   "cell_type": "markdown",
   "id": "3a051275",
   "metadata": {},
   "source": [
    "Main Features we have here (age, num_streams)\n",
    "So We Will explore their effect on Subscription Status"
   ]
  },
  {
   "cell_type": "code",
   "execution_count": 49,
   "id": "5dd47e0c",
   "metadata": {},
   "outputs": [],
   "source": [
    "df_sing = df[df['country_name'] == 'singapore']\n",
    "\n",
    "df_us = df[df['country_name'] == 'united_states']\n"
   ]
  },
  {
   "cell_type": "code",
   "execution_count": 23,
   "id": "0f49556a",
   "metadata": {},
   "outputs": [
    {
     "data": {
      "image/png": "[encoded data removed]",
      "text/plain": [
       "<Figure size 1400x800 with 1 Axes>"
      ]
     },
     "metadata": {},
     "output_type": "display_data"
    },
    {
     "data": {
      "image/png": "[encoded data removed]",
      "text/plain": [
       "<Figure size 1400x800 with 1 Axes>"
      ]
     },
     "metadata": {},
     "output_type": "display_data"
    }
   ],
   "source": [
    "fig = plt.figure(figsize=(14,8))\n",
    "\n",
    "\n",
    "plt.hist(df_sing[df_sing['is_subscriber'] == True]['num_streams'] , bins =12,alpha = .5 , color ='red' )\n",
    "plt.hist(df_sing[df_sing['is_subscriber'] == False]['num_streams'] , bins =12,alpha = .5 , color = 'blue')\n",
    "plt.title(\"Singapore\");\n",
    "plt.legend(df_sing['is_subscriber'])\n",
    "\n",
    "plt.show()\n",
    "\n",
    "\n",
    "fig = plt.figure(figsize=(14,8))\n",
    "\n",
    "plt.hist(df_us[df_us['is_subscriber'] == True]['num_streams'] , bins =12,alpha = .5 , color = 'blue')\n",
    "plt.hist(df_us[df_us['is_subscriber'] == False]['num_streams'] , bins =12,alpha = .5 , color = 'red')\n",
    "plt.title(\"USA\");\n",
    "plt.legend(df_us['is_subscriber'])\n",
    "\n",
    "plt.show()"
   ]
  },
  {
   "cell_type": "markdown",
   "id": "7d9c039d",
   "metadata": {},
   "source": [
    "### Num Of streams conclusion\n",
    "Not having an effect , same distrubtuion in USA and Singapor for Subscribed and none "
   ]
  },
  {
   "cell_type": "code",
   "execution_count": 24,
   "id": "8216bf24",
   "metadata": {},
   "outputs": [
    {
     "data": {
      "image/png": "[encoded data removed]",
      "text/plain": [
       "<Figure size 1400x800 with 1 Axes>"
      ]
     },
     "metadata": {},
     "output_type": "display_data"
    },
    {
     "data": {
      "image/png": "[encoded data removed]",
      "text/plain": [
       "<Figure size 1400x800 with 1 Axes>"
      ]
     },
     "metadata": {},
     "output_type": "display_data"
    }
   ],
   "source": [
    "fig = plt.figure(figsize=(14,8))\n",
    "\n",
    "\n",
    "plt.hist(df_sing[df_sing['is_subscriber'] == True]['age'] , bins =12,alpha = .5 , color ='red' )\n",
    "plt.hist(df_sing[df_sing['is_subscriber'] == False]['age'] , bins =12,alpha = .5 , color = 'blue')\n",
    "plt.title(\"Singapore\");\n",
    "plt.legend(df_sing['is_subscriber'])\n",
    "\n",
    "plt.show()\n",
    "\n",
    "\n",
    "fig = plt.figure(figsize=(14,8))\n",
    "\n",
    "plt.hist(df_us[df_us['is_subscriber'] == True]['age'] , bins =12,alpha = .5 , color = 'blue')\n",
    "plt.hist(df_us[df_us['is_subscriber'] == False]['age'] , bins =12,alpha = .5 , color = 'red')\n",
    "plt.title(\"USA\");\n",
    "plt.legend(df_us['is_subscriber'])\n",
    "\n",
    "plt.show()"
   ]
  },
  {
   "cell_type": "markdown",
   "id": "739503e2",
   "metadata": {},
   "source": [
    "### Age Effect conclusion\n",
    "Also not having an effect , same distrubtuion in USA and Singapor for Subscribed and none "
   ]
  },
  {
   "cell_type": "markdown",
   "id": "9beed627",
   "metadata": {},
   "source": [
    "### Subscribtion Churn in the USA VS Singapore\n",
    "Here we view the main point regardless of other features , country vs country"
   ]
  },
  {
   "cell_type": "code",
   "execution_count": 48,
   "id": "b26dbfcc",
   "metadata": {},
   "outputs": [
    {
     "data": {
      "image/png": "[encoded data removed]",
      "text/plain": [
       "<Figure size 1400x600 with 2 Axes>"
      ]
     },
     "metadata": {},
     "output_type": "display_data"
    }
   ],
   "source": [
    "color_map = {True: 'blue', False: 'orange'}  # You can choose any colors you like\n",
    "\n",
    "# Plotting\n",
    "fig = plt.figure(figsize=(14, 6))\n",
    "ax1 = fig.add_subplot(121)\n",
    "ax2 = fig.add_subplot(122)\n",
    "\n",
    "# Plot pie charts\n",
    "df_sing['is_subscriber'].value_counts().plot(\n",
    "    kind='pie',\n",
    "    ax=ax1,\n",
    "    colors=[color_map[val] for val in df_sing['is_subscriber'].value_counts().index],\n",
    "    startangle=90\n",
    ")\n",
    "ax1.set_ylabel(\"Singapore\")\n",
    "\n",
    "df_us['is_subscriber'].value_counts().plot(\n",
    "    kind='pie',\n",
    "    ax=ax2,\n",
    "    colors=[color_map[val] for val in df_us['is_subscriber'].value_counts().index],\n",
    "    startangle=90\n",
    ")\n",
    "ax2.set_ylabel(\"USA\")\n",
    "\n",
    "plt.tight_layout()\n",
    "plt.show()"
   ]
  },
  {
   "cell_type": "markdown",
   "id": "d367094a",
   "metadata": {},
   "source": [
    "## Conclusion\n",
    "Well it seems that the Market in singapore has a really high churn rate , unlike in USA\n",
    "but Age is not the factor here , need to gather more data about the content presetned maybe"
   ]
  },
  {
   "cell_type": "code",
   "execution_count": null,
   "id": "3f6ca058",
   "metadata": {},
   "outputs": [],
   "source": []
  }
 ],
 "metadata": {
  "kernelspec": {
   "display_name": "Python 3 (ipykernel)",
   "language": "python",
   "name": "python3"
  },
  "language_info": {
   "codemirror_mode": {
    "name": "ipython",
    "version": 3
   },
   "file_extension": ".py",
   "mimetype": "text/x-python",
   "name": "python",
   "nbconvert_exporter": "python",
   "pygments_lexer": "ipython3",
   "version": "3.9.13"
  }
 },
 "nbformat": 4,
 "nbformat_minor": 5
}
